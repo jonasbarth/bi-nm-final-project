{
 "cells": [
  {
   "cell_type": "markdown",
   "source": [
    "# 3 Putative Disease Gene Identification\n",
    "In this notebook, we want to pick the best performing algorithm and use it to find new putative disease genes as well as performing an enrichment analysis.\n",
    "\n",
    "Make sure you do the following setup:\n",
    "\n",
    "* install all requirements in `requirements.txt`.\n",
    "* have a `ppi.txt` file in the root directory.\n",
    "* have a `seed_genes.txt` file in the root directory."
   ],
   "metadata": {
    "collapsed": false
   },
   "id": "45e78993d85b9e96"
  },
  {
   "cell_type": "markdown",
   "source": [
    "## 3.1 Putative Disease Genes\n",
    "Using all known GDAs as seed genes, we will obtain a list of 100 putative disease genes."
   ],
   "metadata": {
    "collapsed": false
   },
   "id": "88c3860f099af7fc"
  },
  {
   "cell_type": "code",
   "execution_count": 1,
   "outputs": [],
   "source": [
    "from diamond import diamond"
   ],
   "metadata": {
    "collapsed": false,
    "ExecuteTime": {
     "end_time": "2024-01-04T15:25:38.453363451Z",
     "start_time": "2024-01-04T15:25:37.957809128Z"
    }
   },
   "id": "5798cf0f8660d56"
  },
  {
   "cell_type": "code",
   "execution_count": 2,
   "outputs": [
    {
     "name": "stdout",
     "output_type": "stream",
     "text": [
      "\n",
      " results have been saved to 'first_100_added_nodes_weight_1.txt' \n"
     ]
    }
   ],
   "source": [
    "num_disease_genes_to_find = 100\n",
    "new_genes = diamond(\"ppi.txt\", \"seed_genes.txt\", num_disease_genes_to_find)\n",
    "entrez_ids = new_genes.gene"
   ],
   "metadata": {
    "collapsed": false,
    "ExecuteTime": {
     "end_time": "2024-01-04T15:25:52.761372955Z",
     "start_time": "2024-01-04T15:25:39.343075433Z"
    }
   },
   "id": "3474d6ae916dca91"
  },
  {
   "cell_type": "markdown",
   "source": [
    "## 3.2 Enrichment Analysis\n",
    "First, let's get the official interactor symbols of our gene IDs, since that is what Enrichr needs. For the conversion, we can use the `GeneDB` class from our own `genes` [package](genes)."
   ],
   "metadata": {
    "collapsed": false
   },
   "id": "f30821acb003ee50"
  },
  {
   "cell_type": "code",
   "execution_count": 3,
   "outputs": [],
   "source": [
    "from genes import GeneDB\n",
    "\n",
    "gene_db = GeneDB(\"data/biogrid.txt\")"
   ],
   "metadata": {
    "collapsed": false,
    "ExecuteTime": {
     "end_time": "2024-01-04T15:26:00.230354240Z",
     "start_time": "2024-01-04T15:25:52.762853647Z"
    }
   },
   "id": "6c439b8f989a0f1e"
  },
  {
   "cell_type": "code",
   "execution_count": 4,
   "outputs": [],
   "source": [
    "official_symbols = gene_db.to_official_symbol_interactor(entrez_ids)"
   ],
   "metadata": {
    "collapsed": false,
    "ExecuteTime": {
     "end_time": "2024-01-04T15:26:00.232755798Z",
     "start_time": "2024-01-04T15:26:00.231765381Z"
    }
   },
   "id": "5792ee31ac2e3bb5"
  },
  {
   "cell_type": "markdown",
   "source": [
    "Then let's copy the putative disease genes to our clipboard using `pyperclip`. That way we can just paste them into the [Enrichr](https://maayanlab.cloud/Enrichr/enrich) search form."
   ],
   "metadata": {
    "collapsed": false
   },
   "id": "39899cd07bdb28a"
  },
  {
   "cell_type": "code",
   "execution_count": 5,
   "outputs": [],
   "source": [
    "import pyperclip\n",
    "\n",
    "pyperclip.copy(\"\\n\".join(official_symbols))"
   ],
   "metadata": {
    "collapsed": false,
    "ExecuteTime": {
     "end_time": "2024-01-04T15:27:22.029014272Z",
     "start_time": "2024-01-04T15:27:21.987909139Z"
    }
   },
   "id": "e6b218f439d5733"
  }
 ],
 "metadata": {
  "kernelspec": {
   "display_name": "Python 3",
   "language": "python",
   "name": "python3"
  },
  "language_info": {
   "codemirror_mode": {
    "name": "ipython",
    "version": 2
   },
   "file_extension": ".py",
   "mimetype": "text/x-python",
   "name": "python",
   "nbconvert_exporter": "python",
   "pygments_lexer": "ipython2",
   "version": "2.7.6"
  }
 },
 "nbformat": 4,
 "nbformat_minor": 5
}
