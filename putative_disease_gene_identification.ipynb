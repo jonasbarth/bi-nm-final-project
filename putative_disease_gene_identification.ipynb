{
 "cells": [
  {
   "cell_type": "markdown",
   "source": [
    "# 3 Putative Disease Gene Identification\n",
    "In this notebook, we want to pick the best performing algorithm and use it to find new putative disease genes as well as performing an enrichment analysis.\n",
    "\n",
    "Make sure you do the following setup:\n",
    "\n",
    "* install all requirements in `requirements.txt`.\n",
    "* have a `ppi.txt` file in the root directory.\n",
    "* have a `seed_genes.txt` file in the root directory."
   ],
   "metadata": {
    "collapsed": false
   },
   "id": "45e78993d85b9e96"
  },
  {
   "cell_type": "markdown",
   "source": [
    "## 3.1 Putative Disease Genes\n",
    "Using all known GDAs as seed genes, we will obtain a list of 100 putative disease genes."
   ],
   "metadata": {
    "collapsed": false
   },
   "id": "88c3860f099af7fc"
  },
  {
   "cell_type": "code",
   "execution_count": 1,
   "outputs": [],
   "source": [
    "from diamond import diffusion\n",
    "import pandas as pd\n",
    "import pyperclip"
   ],
   "metadata": {
    "collapsed": false,
    "ExecuteTime": {
     "end_time": "2024-01-09T15:45:00.651564705Z",
     "start_time": "2024-01-09T15:45:00.186330682Z"
    }
   },
   "id": "5798cf0f8660d56"
  },
  {
   "cell_type": "code",
   "execution_count": 2,
   "outputs": [
    {
     "name": "stdout",
     "output_type": "stream",
     "text": [
      "Generating CX\n"
     ]
    }
   ],
   "source": [
    "num_disease_genes_to_find = 100\n",
    "new_genes = diffusion(\"ppi.txt\", \"seed_genes.txt\", num_disease_genes_to_find, time=0.01)\n",
    "entrez_ids = new_genes.gene"
   ],
   "metadata": {
    "collapsed": false,
    "ExecuteTime": {
     "end_time": "2024-01-09T15:46:14.009056830Z",
     "start_time": "2024-01-09T15:45:00.652466415Z"
    }
   },
   "id": "3474d6ae916dca91"
  },
  {
   "cell_type": "markdown",
   "source": [
    "## 3.2 Enrichment Analysis\n",
    "First, let's get the official interactor symbols of our gene IDs, since that is what Enrichr needs. For the conversion, we can use the `GeneDB` class from our own `genes` [package](genes)."
   ],
   "metadata": {
    "collapsed": false
   },
   "id": "f30821acb003ee50"
  },
  {
   "cell_type": "code",
   "execution_count": 3,
   "outputs": [],
   "source": [
    "from genes import GeneDB\n",
    "\n",
    "gene_db = GeneDB(\"data/biogrid.txt\")"
   ],
   "metadata": {
    "collapsed": false,
    "ExecuteTime": {
     "end_time": "2024-01-09T15:46:21.717277031Z",
     "start_time": "2024-01-09T15:46:14.050366648Z"
    }
   },
   "id": "6c439b8f989a0f1e"
  },
  {
   "cell_type": "markdown",
   "source": [
    "### Predicted Disease Genes"
   ],
   "metadata": {
    "collapsed": false
   },
   "id": "ebbbeaec957d84eb"
  },
  {
   "cell_type": "code",
   "execution_count": 4,
   "outputs": [],
   "source": [
    "official_symbols = gene_db.to_official_symbol_interactor(entrez_ids)"
   ],
   "metadata": {
    "collapsed": false,
    "ExecuteTime": {
     "end_time": "2024-01-09T15:46:21.721489463Z",
     "start_time": "2024-01-09T15:46:21.718914408Z"
    }
   },
   "id": "5792ee31ac2e3bb5"
  },
  {
   "cell_type": "markdown",
   "source": [
    "Then let's copy the putative disease genes to our clipboard using `pyperclip`. That way we can just paste them into the [Enrichr](https://maayanlab.cloud/Enrichr/enrich) search form."
   ],
   "metadata": {
    "collapsed": false
   },
   "id": "39899cd07bdb28a"
  },
  {
   "cell_type": "code",
   "execution_count": 14,
   "outputs": [],
   "source": [
    "pyperclip.copy(\"\\n\".join(official_symbols))"
   ],
   "metadata": {
    "collapsed": false,
    "ExecuteTime": {
     "end_time": "2024-01-09T16:11:44.237474340Z",
     "start_time": "2024-01-09T16:11:44.195331589Z"
    }
   },
   "id": "e6b218f439d5733"
  },
  {
   "cell_type": "markdown",
   "source": [
    "### Known Disease Genes\n",
    "Now let's do the same for the known Polydactyly disease genes. After running this cell, paste the output into the [Enrichr](https://maayanlab.cloud/Enrichr/enrich) search form."
   ],
   "metadata": {
    "collapsed": false
   },
   "id": "518a94c415d4da3c"
  },
  {
   "cell_type": "code",
   "execution_count": 8,
   "outputs": [],
   "source": [
    "disease_genes = pd.read_csv(\"seed_genes.txt\", dtype=str)\n",
    "known_genes_official_symbols = gene_db.to_official_symbol_interactor(disease_genes.iloc[:, 0])\n",
    "\n",
    "pyperclip.copy(\"\\n\".join(known_genes_official_symbols))"
   ],
   "metadata": {
    "collapsed": false,
    "ExecuteTime": {
     "end_time": "2024-01-09T15:47:58.366450391Z",
     "start_time": "2024-01-09T15:47:58.359848063Z"
    }
   },
   "id": "e6e3a23681b21e2a"
  },
  {
   "cell_type": "markdown",
   "source": [
    "# 4.1 Drugs\n",
    "Copy the first 20 putative drugs, and paste them on [DGIDB](https://old.dgidb.org/search_interactions)."
   ],
   "metadata": {
    "collapsed": false
   },
   "id": "257aac273421392e"
  },
  {
   "cell_type": "code",
   "execution_count": 6,
   "outputs": [],
   "source": [
    "pyperclip.copy(\"\\n\".join(official_symbols[:20]))"
   ],
   "metadata": {
    "collapsed": false,
    "ExecuteTime": {
     "end_time": "2024-01-09T15:46:58.348465801Z",
     "start_time": "2024-01-09T15:46:58.307720828Z"
    }
   },
   "id": "57267f306f98d243"
  }
 ],
 "metadata": {
  "kernelspec": {
   "display_name": "Python 3",
   "language": "python",
   "name": "python3"
  },
  "language_info": {
   "codemirror_mode": {
    "name": "ipython",
    "version": 2
   },
   "file_extension": ".py",
   "mimetype": "text/x-python",
   "name": "python",
   "nbconvert_exporter": "python",
   "pygments_lexer": "ipython2",
   "version": "2.7.6"
  }
 },
 "nbformat": 4,
 "nbformat_minor": 5
}
