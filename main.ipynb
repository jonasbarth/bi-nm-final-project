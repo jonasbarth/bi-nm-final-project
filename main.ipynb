{
 "cells": [
  {
   "cell_type": "markdown",
   "source": [
    "# 1. PPI and GDA data gathering and interactome reconstruction"
   ],
   "metadata": {
    "collapsed": false
   },
   "id": "cc508417603fb3f"
  },
  {
   "cell_type": "markdown",
   "source": [
    "## 1.1.\n",
    "Download PPIs from BioGRID latest release to build the human interactome:\n",
    "\n",
    "* use “all organisms” tab3 file, unzip and get “Homo sapiens” only\n",
    "* filter out all non-human interactions, i.e., both “organism A” and “B” fields must be = 9606 (Homo sapiens)\n",
    "* keep only “physical” interactions” (“Experimental System Type” = physical)\n",
    "* purge out redundant and self loops\n",
    "* isolate the largest connected component (LCC)"
   ],
   "metadata": {
    "collapsed": false
   },
   "id": "8c29576be357a245"
  },
  {
   "cell_type": "code",
   "execution_count": 124,
   "outputs": [],
   "source": [
    "import os\n",
    "import zipfile\n",
    "from pathlib import Path\n",
    "\n",
    "import networkx as nx\n",
    "import numpy as np\n",
    "import pandas as pd\n",
    "import requests\n",
    "from dotenv import load_dotenv"
   ],
   "metadata": {
    "collapsed": false,
    "ExecuteTime": {
     "end_time": "2023-12-27T15:35:48.426823747Z",
     "start_time": "2023-12-27T15:35:48.385579299Z"
    }
   },
   "id": "1223f1168478a1ec"
  },
  {
   "cell_type": "markdown",
   "source": [
    "Load the environment variables from the `.env` file. If you don't have an `.env` file, create one and place the API token for DisGenet inside. \n",
    "\n",
    "```\n",
    "disgenet_api_token=\"<api token>\"\n",
    "```"
   ],
   "metadata": {
    "collapsed": false
   },
   "id": "41b4345ae21a12e2"
  },
  {
   "cell_type": "code",
   "execution_count": 67,
   "outputs": [
    {
     "data": {
      "text/plain": "True"
     },
     "execution_count": 67,
     "metadata": {},
     "output_type": "execute_result"
    }
   ],
   "source": [
    "load_dotenv()"
   ],
   "metadata": {
    "collapsed": false,
    "ExecuteTime": {
     "end_time": "2023-12-27T13:07:33.134399161Z",
     "start_time": "2023-12-27T13:07:33.093417428Z"
    }
   },
   "id": "446d66ca72fb4b6d"
  },
  {
   "cell_type": "markdown",
   "source": [
    "If you haven't already, download the biogrid data, unzip it and place the homo sapiens txt file inside the `data/` directory."
   ],
   "metadata": {
    "collapsed": false
   },
   "id": "643fba2329e8f775"
  },
  {
   "cell_type": "code",
   "execution_count": 47,
   "outputs": [
    {
     "name": "stdout",
     "output_type": "stream",
     "text": [
      "--2023-12-27 12:54:05--  https://downloads.thebiogrid.org/Download/BioGRID/Latest-Release/BIOGRID-ORGANISM-LATEST.tab3.zip\r\n",
      "Resolving downloads.thebiogrid.org (downloads.thebiogrid.org)... 173.255.198.187\r\n",
      "Connecting to downloads.thebiogrid.org (downloads.thebiogrid.org)|173.255.198.187|:443... connected.\r\n",
      "HTTP request sent, awaiting response... 200 OK\r\n",
      "Length: unspecified [application/download]\r\n",
      "Saving to: ‘biogrid.zip’\r\n",
      "\r\n",
      "biogrid.zip             [                 <=>] 159.74M  1.61MB/s    in 1m 52s  \r\n",
      "\r\n",
      "2023-12-27 12:56:00 (1.43 MB/s) - ‘biogrid.zip’ saved [167496760]\r\n",
      "\r\n"
     ]
    }
   ],
   "source": [
    "!wget -O biogrid.zip https://downloads.thebiogrid.org/Download/BioGRID/Latest-Release/BIOGRID-ORGANISM-LATEST.tab3.zip"
   ],
   "metadata": {
    "collapsed": false,
    "ExecuteTime": {
     "end_time": "2023-12-27T11:56:00.378422610Z",
     "start_time": "2023-12-27T11:54:05.591018082Z"
    }
   },
   "id": "8032da20b663cade"
  },
  {
   "cell_type": "markdown",
   "source": [
    "Then, let's extract the homo sapiens file into the `data/` directory."
   ],
   "metadata": {
    "collapsed": false
   },
   "id": "a600bfdc8fd00d02"
  },
  {
   "cell_type": "code",
   "execution_count": 58,
   "outputs": [],
   "source": [
    "data_folder = \"data\"\n",
    "Path(data_folder).mkdir(parents=True, exist_ok=True)\n",
    "\n",
    "with zipfile.ZipFile(\"biogrid.zip\", 'r') as zip_ref:\n",
    "        # Iterate through the files in the zip archive\n",
    "        for file_info in zip_ref.infolist():\n",
    "            # Check if the file name matches the target filename\n",
    "            if \"Homo_sapiens\" in file_info.filename:\n",
    "                # Extract the file to the target folder\n",
    "                zip_ref.extract(file_info, data_folder)\n",
    "                \n",
    "                # rename the file\n",
    "                os.rename(os.path.join(data_folder, file_info.filename), os.path.join(data_folder, \"biogrid.txt\"))\n",
    "                break"
   ],
   "metadata": {
    "collapsed": false,
    "ExecuteTime": {
     "end_time": "2023-12-27T12:09:17.983397214Z",
     "start_time": "2023-12-27T12:09:16.026719447Z"
    }
   },
   "id": "2970d4305f9cd0b8"
  },
  {
   "cell_type": "markdown",
   "source": [
    "Let's load the file, it is **tab separated** so we need to specify the tab separator `\\t`. Also, some of the columns have mixed data types, so we set `low_memory=False`."
   ],
   "metadata": {
    "collapsed": false
   },
   "id": "54174458a8bc93fe"
  },
  {
   "cell_type": "code",
   "execution_count": 88,
   "outputs": [],
   "source": [
    "biogrid = pd.read_csv(\"data/biogrid.txt\", sep=\"\\t\", low_memory=False)"
   ],
   "metadata": {
    "collapsed": false,
    "ExecuteTime": {
     "end_time": "2023-12-27T14:00:42.724915804Z",
     "start_time": "2023-12-27T14:00:34.752915365Z"
    }
   },
   "id": "d345b0a804b3e865"
  },
  {
   "cell_type": "markdown",
   "source": [
    "For an explanation of the different columns, we can check the [biogrid wiki](https://wiki.thebiogrid.org/doku.php/biogrid_tab_version_3.0)."
   ],
   "metadata": {
    "collapsed": false
   },
   "id": "df72c0caabc8b2c6"
  },
  {
   "cell_type": "code",
   "execution_count": 89,
   "outputs": [
    {
     "data": {
      "text/plain": "         #BioGRID Interaction ID Entrez Gene Interactor A  \\\n0                            103                     6416   \n1                            117                    84665   \n2                            183                       90   \n3                            278                     2624   \n4                            418                     6118   \n...                          ...                      ...   \n1188614                  3590145                   253260   \n1188615                  3590146                   253260   \n1188616                  3590147                     7189   \n1188617                  3621586                     8237   \n1188618                  3621587                     1956   \n\n        Entrez Gene Interactor B  BioGRID ID Interactor A  \\\n0                           2318                   112315   \n1                             88                   124185   \n2                           2339                   106605   \n3                           5371                   108894   \n4                           6774                   112038   \n...                          ...                      ...   \n1188614                     7408                   128962   \n1188615                     1072                   128962   \n1188616                     4217                   113041   \n1188617                     1956                   113866   \n1188618                     8237                   108276   \n\n         BioGRID ID Interactor B Systematic Name Interactor A  \\\n0                         108607                            -   \n1                         106603                            -   \n2                         108625                            -   \n3                         111384                            -   \n4                         112651                  RP4-547C9.3   \n...                          ...                          ...   \n1188614                   113251                            -   \n1188615                   107499                            -   \n1188616                   110381                            -   \n1188617                   108276                 RP4-659F15.2   \n1188618                   113866                            -   \n\n        Systematic Name Interactor B Official Symbol Interactor A  \\\n0                                  -                       MAP2K4   \n1                                  -                         MYPN   \n2                                  -                        ACVR1   \n3                                  -                        GATA2   \n4                                  -                         RPA2   \n...                              ...                          ...   \n1188614                            -                       RICTOR   \n1188615                            -                       RICTOR   \n1188616                 RP3-325F22.4                        TRAF6   \n1188617                            -                        USP11   \n1188618                 RP4-659F15.2                         EGFR   \n\n        Official Symbol Interactor B  \\\n0                               FLNC   \n1                              ACTN2   \n2                               FNTA   \n3                                PML   \n4                              STAT3   \n...                              ...   \n1188614                         VASP   \n1188615                         CFL1   \n1188616                       MAP3K5   \n1188617                         EGFR   \n1188618                        USP11   \n\n                                     Synonyms Interactor A  ...  \\\n0        JNKK|JNKK1|MAPKK4|MEK4|MKK4|PRKMK4|SAPKK-1|SAP...  ...   \n1                                   CMD1DD|CMH22|MYOP|RCM4  ...   \n2                  ACTRI|ACVR1A|ACVRLK2|ALK2|FOP|SKR1|TSRI  ...   \n3                                 DCML|IMD21|MONOMAC|NFE1B  ...   \n4                            REPA2|RP-A p32|RP-A p34|RPA32  ...   \n...                                                    ...  ...   \n1188614                                     AVO3|PIA|hAVO3  ...   \n1188615                                     AVO3|PIA|hAVO3  ...   \n1188616                                     MGC:3310|RNF85  ...   \n1188617                                               UHX1  ...   \n1188618                  ERBB|ERBB1|HER1|NISBD2|PIG61|mENA  ...   \n\n        TREMBL Accessions Interactor B  \\\n0                               Q59H94   \n1                        Q59FD9|F6THM6   \n2                                    -   \n3                                    -   \n4                                    -   \n...                                ...   \n1188614                     A0A024R0V4   \n1188615                         V9HWI5   \n1188616                              -   \n1188617                              -   \n1188618                         B4DGK3   \n\n                            REFSEQ Accessions Interactor B Ontology Term IDs  \\\n0                                   NP_001120959|NP_001449                 -   \n1                      NP_001094|NP_001265272|NP_001265273                 -   \n2                                                NP_002018                 -   \n3        NP_150250|NP_150253|NP_150252|NP_150247|NP_150...                 -   \n4        NP_644805|NP_003141|NP_001356447|NP_001356443|...                 -   \n...                                                    ...               ...   \n1188614                                          NP_003361                 -   \n1188615                                          NP_005498                 -   \n1188616                                          NP_005914                 -   \n1188617  NP_001333829|NP_001333828|NP_958440|NP_005219|...                 -   \n1188618                             NP_004642|NP_001358001                 -   \n\n        Ontology Term Names Ontology Term Categories  \\\n0                         -                        -   \n1                         -                        -   \n2                         -                        -   \n3                         -                        -   \n4                         -                        -   \n...                     ...                      ...   \n1188614                   -                        -   \n1188615                   -                        -   \n1188616                   -                        -   \n1188617                   -                        -   \n1188618                   -                        -   \n\n         Ontology Term Qualifier IDs  Ontology Term Qualifier Names  \\\n0                                  -                              -   \n1                                  -                              -   \n2                                  -                              -   \n3                                  -                              -   \n4                                  -                              -   \n...                              ...                            ...   \n1188614                            -                              -   \n1188615                            -                              -   \n1188616                            -                              -   \n1188617                            -                              -   \n1188618                            -                              -   \n\n        Ontology Term Types Organism Name Interactor A  \\\n0                         -               Homo sapiens   \n1                         -               Homo sapiens   \n2                         -               Homo sapiens   \n3                         -               Homo sapiens   \n4                         -               Homo sapiens   \n...                     ...                        ...   \n1188614                   -               Homo sapiens   \n1188615                   -               Homo sapiens   \n1188616                   -               Homo sapiens   \n1188617                   -               Homo sapiens   \n1188618                   -               Homo sapiens   \n\n        Organism Name Interactor B  \n0                     Homo sapiens  \n1                     Homo sapiens  \n2                     Homo sapiens  \n3                     Homo sapiens  \n4                     Homo sapiens  \n...                            ...  \n1188614               Homo sapiens  \n1188615               Homo sapiens  \n1188616               Homo sapiens  \n1188617               Homo sapiens  \n1188618               Homo sapiens  \n\n[1188619 rows x 37 columns]",
      "text/html": "<div>\n<style scoped>\n    .dataframe tbody tr th:only-of-type {\n        vertical-align: middle;\n    }\n\n    .dataframe tbody tr th {\n        vertical-align: top;\n    }\n\n    .dataframe thead th {\n        text-align: right;\n    }\n</style>\n<table border=\"1\" class=\"dataframe\">\n  <thead>\n    <tr style=\"text-align: right;\">\n      <th></th>\n      <th>#BioGRID Interaction ID</th>\n      <th>Entrez Gene Interactor A</th>\n      <th>Entrez Gene Interactor B</th>\n      <th>BioGRID ID Interactor A</th>\n      <th>BioGRID ID Interactor B</th>\n      <th>Systematic Name Interactor A</th>\n      <th>Systematic Name Interactor B</th>\n      <th>Official Symbol Interactor A</th>\n      <th>Official Symbol Interactor B</th>\n      <th>Synonyms Interactor A</th>\n      <th>...</th>\n      <th>TREMBL Accessions Interactor B</th>\n      <th>REFSEQ Accessions Interactor B</th>\n      <th>Ontology Term IDs</th>\n      <th>Ontology Term Names</th>\n      <th>Ontology Term Categories</th>\n      <th>Ontology Term Qualifier IDs</th>\n      <th>Ontology Term Qualifier Names</th>\n      <th>Ontology Term Types</th>\n      <th>Organism Name Interactor A</th>\n      <th>Organism Name Interactor B</th>\n    </tr>\n  </thead>\n  <tbody>\n    <tr>\n      <th>0</th>\n      <td>103</td>\n      <td>6416</td>\n      <td>2318</td>\n      <td>112315</td>\n      <td>108607</td>\n      <td>-</td>\n      <td>-</td>\n      <td>MAP2K4</td>\n      <td>FLNC</td>\n      <td>JNKK|JNKK1|MAPKK4|MEK4|MKK4|PRKMK4|SAPKK-1|SAP...</td>\n      <td>...</td>\n      <td>Q59H94</td>\n      <td>NP_001120959|NP_001449</td>\n      <td>-</td>\n      <td>-</td>\n      <td>-</td>\n      <td>-</td>\n      <td>-</td>\n      <td>-</td>\n      <td>Homo sapiens</td>\n      <td>Homo sapiens</td>\n    </tr>\n    <tr>\n      <th>1</th>\n      <td>117</td>\n      <td>84665</td>\n      <td>88</td>\n      <td>124185</td>\n      <td>106603</td>\n      <td>-</td>\n      <td>-</td>\n      <td>MYPN</td>\n      <td>ACTN2</td>\n      <td>CMD1DD|CMH22|MYOP|RCM4</td>\n      <td>...</td>\n      <td>Q59FD9|F6THM6</td>\n      <td>NP_001094|NP_001265272|NP_001265273</td>\n      <td>-</td>\n      <td>-</td>\n      <td>-</td>\n      <td>-</td>\n      <td>-</td>\n      <td>-</td>\n      <td>Homo sapiens</td>\n      <td>Homo sapiens</td>\n    </tr>\n    <tr>\n      <th>2</th>\n      <td>183</td>\n      <td>90</td>\n      <td>2339</td>\n      <td>106605</td>\n      <td>108625</td>\n      <td>-</td>\n      <td>-</td>\n      <td>ACVR1</td>\n      <td>FNTA</td>\n      <td>ACTRI|ACVR1A|ACVRLK2|ALK2|FOP|SKR1|TSRI</td>\n      <td>...</td>\n      <td>-</td>\n      <td>NP_002018</td>\n      <td>-</td>\n      <td>-</td>\n      <td>-</td>\n      <td>-</td>\n      <td>-</td>\n      <td>-</td>\n      <td>Homo sapiens</td>\n      <td>Homo sapiens</td>\n    </tr>\n    <tr>\n      <th>3</th>\n      <td>278</td>\n      <td>2624</td>\n      <td>5371</td>\n      <td>108894</td>\n      <td>111384</td>\n      <td>-</td>\n      <td>-</td>\n      <td>GATA2</td>\n      <td>PML</td>\n      <td>DCML|IMD21|MONOMAC|NFE1B</td>\n      <td>...</td>\n      <td>-</td>\n      <td>NP_150250|NP_150253|NP_150252|NP_150247|NP_150...</td>\n      <td>-</td>\n      <td>-</td>\n      <td>-</td>\n      <td>-</td>\n      <td>-</td>\n      <td>-</td>\n      <td>Homo sapiens</td>\n      <td>Homo sapiens</td>\n    </tr>\n    <tr>\n      <th>4</th>\n      <td>418</td>\n      <td>6118</td>\n      <td>6774</td>\n      <td>112038</td>\n      <td>112651</td>\n      <td>RP4-547C9.3</td>\n      <td>-</td>\n      <td>RPA2</td>\n      <td>STAT3</td>\n      <td>REPA2|RP-A p32|RP-A p34|RPA32</td>\n      <td>...</td>\n      <td>-</td>\n      <td>NP_644805|NP_003141|NP_001356447|NP_001356443|...</td>\n      <td>-</td>\n      <td>-</td>\n      <td>-</td>\n      <td>-</td>\n      <td>-</td>\n      <td>-</td>\n      <td>Homo sapiens</td>\n      <td>Homo sapiens</td>\n    </tr>\n    <tr>\n      <th>...</th>\n      <td>...</td>\n      <td>...</td>\n      <td>...</td>\n      <td>...</td>\n      <td>...</td>\n      <td>...</td>\n      <td>...</td>\n      <td>...</td>\n      <td>...</td>\n      <td>...</td>\n      <td>...</td>\n      <td>...</td>\n      <td>...</td>\n      <td>...</td>\n      <td>...</td>\n      <td>...</td>\n      <td>...</td>\n      <td>...</td>\n      <td>...</td>\n      <td>...</td>\n      <td>...</td>\n    </tr>\n    <tr>\n      <th>1188614</th>\n      <td>3590145</td>\n      <td>253260</td>\n      <td>7408</td>\n      <td>128962</td>\n      <td>113251</td>\n      <td>-</td>\n      <td>-</td>\n      <td>RICTOR</td>\n      <td>VASP</td>\n      <td>AVO3|PIA|hAVO3</td>\n      <td>...</td>\n      <td>A0A024R0V4</td>\n      <td>NP_003361</td>\n      <td>-</td>\n      <td>-</td>\n      <td>-</td>\n      <td>-</td>\n      <td>-</td>\n      <td>-</td>\n      <td>Homo sapiens</td>\n      <td>Homo sapiens</td>\n    </tr>\n    <tr>\n      <th>1188615</th>\n      <td>3590146</td>\n      <td>253260</td>\n      <td>1072</td>\n      <td>128962</td>\n      <td>107499</td>\n      <td>-</td>\n      <td>-</td>\n      <td>RICTOR</td>\n      <td>CFL1</td>\n      <td>AVO3|PIA|hAVO3</td>\n      <td>...</td>\n      <td>V9HWI5</td>\n      <td>NP_005498</td>\n      <td>-</td>\n      <td>-</td>\n      <td>-</td>\n      <td>-</td>\n      <td>-</td>\n      <td>-</td>\n      <td>Homo sapiens</td>\n      <td>Homo sapiens</td>\n    </tr>\n    <tr>\n      <th>1188616</th>\n      <td>3590147</td>\n      <td>7189</td>\n      <td>4217</td>\n      <td>113041</td>\n      <td>110381</td>\n      <td>-</td>\n      <td>RP3-325F22.4</td>\n      <td>TRAF6</td>\n      <td>MAP3K5</td>\n      <td>MGC:3310|RNF85</td>\n      <td>...</td>\n      <td>-</td>\n      <td>NP_005914</td>\n      <td>-</td>\n      <td>-</td>\n      <td>-</td>\n      <td>-</td>\n      <td>-</td>\n      <td>-</td>\n      <td>Homo sapiens</td>\n      <td>Homo sapiens</td>\n    </tr>\n    <tr>\n      <th>1188617</th>\n      <td>3621586</td>\n      <td>8237</td>\n      <td>1956</td>\n      <td>113866</td>\n      <td>108276</td>\n      <td>RP4-659F15.2</td>\n      <td>-</td>\n      <td>USP11</td>\n      <td>EGFR</td>\n      <td>UHX1</td>\n      <td>...</td>\n      <td>-</td>\n      <td>NP_001333829|NP_001333828|NP_958440|NP_005219|...</td>\n      <td>-</td>\n      <td>-</td>\n      <td>-</td>\n      <td>-</td>\n      <td>-</td>\n      <td>-</td>\n      <td>Homo sapiens</td>\n      <td>Homo sapiens</td>\n    </tr>\n    <tr>\n      <th>1188618</th>\n      <td>3621587</td>\n      <td>1956</td>\n      <td>8237</td>\n      <td>108276</td>\n      <td>113866</td>\n      <td>-</td>\n      <td>RP4-659F15.2</td>\n      <td>EGFR</td>\n      <td>USP11</td>\n      <td>ERBB|ERBB1|HER1|NISBD2|PIG61|mENA</td>\n      <td>...</td>\n      <td>B4DGK3</td>\n      <td>NP_004642|NP_001358001</td>\n      <td>-</td>\n      <td>-</td>\n      <td>-</td>\n      <td>-</td>\n      <td>-</td>\n      <td>-</td>\n      <td>Homo sapiens</td>\n      <td>Homo sapiens</td>\n    </tr>\n  </tbody>\n</table>\n<p>1188619 rows × 37 columns</p>\n</div>"
     },
     "execution_count": 89,
     "metadata": {},
     "output_type": "execute_result"
    }
   ],
   "source": [
    "biogrid"
   ],
   "metadata": {
    "collapsed": false,
    "ExecuteTime": {
     "end_time": "2023-12-27T14:00:43.128933793Z",
     "start_time": "2023-12-27T14:00:42.726172513Z"
    }
   },
   "id": "1193ea22855e3dc4"
  },
  {
   "cell_type": "markdown",
   "source": [
    "### Filter out all non-human interactions, i.e., both “organism A” and “B” fields must be = 9606 (Homo sapiens)\n",
    "First, we only keep human PPIs. The organism A and B columns are columns `Organism ID Interactor A` and `Organism ID Interactor B`."
   ],
   "metadata": {
    "collapsed": false
   },
   "id": "9fea19f2236a2cb"
  },
  {
   "cell_type": "code",
   "execution_count": 96,
   "outputs": [],
   "source": [
    "biogrid_human = biogrid[(biogrid[\"Organism ID Interactor A\"] == 9606) & (biogrid[\"Organism ID Interactor B\"] == 9606)]"
   ],
   "metadata": {
    "collapsed": false,
    "ExecuteTime": {
     "end_time": "2023-12-27T14:02:38.271371852Z",
     "start_time": "2023-12-27T14:02:37.673563691Z"
    }
   },
   "id": "eb9d737cbcda21dc"
  },
  {
   "cell_type": "markdown",
   "source": [
    "### Keep only “physical” interactions” (“Experimental System Type” = physical)\n",
    "Then, let's remove all non-physical interactions."
   ],
   "metadata": {
    "collapsed": false
   },
   "id": "77aad87aab2cd902"
  },
  {
   "cell_type": "code",
   "execution_count": 97,
   "outputs": [],
   "source": [
    "biogrid_human_physical = biogrid_human[biogrid_human[\"Experimental System Type\"] == \"physical\"]"
   ],
   "metadata": {
    "collapsed": false,
    "ExecuteTime": {
     "end_time": "2023-12-27T14:02:40.333830293Z",
     "start_time": "2023-12-27T14:02:39.935581469Z"
    }
   },
   "id": "95dd02692ff5fc93"
  },
  {
   "cell_type": "markdown",
   "source": [
    "### Purge out redundant and self loops\n",
    "Some of PPIs could be between proteins and themselves. If we think of the interactions as a graph structure, any edge that refers to its origin node can be removed. We can also remove any duplicate edges between nodes."
   ],
   "metadata": {
    "collapsed": false
   },
   "id": "fb1d59285fd00fe3"
  },
  {
   "cell_type": "markdown",
   "source": [
    "First, let's remove the self-loops by checking where the **Offical Symbol Interactor** columns are the same."
   ],
   "metadata": {
    "collapsed": false
   },
   "id": "be166b2f31025b97"
  },
  {
   "cell_type": "code",
   "execution_count": 98,
   "outputs": [
    {
     "name": "stdout",
     "output_type": "stream",
     "text": [
      "Total number of self loops 7375\n"
     ]
    }
   ],
   "source": [
    "biogrid_no_self_loops = biogrid_human_physical[biogrid_human_physical[\"Official Symbol Interactor A\"] != biogrid_human_physical[\"Official Symbol Interactor B\"]]\n",
    "\n",
    "print(f\"Total number of self loops {len(biogrid_human_physical) - len(biogrid_no_self_loops)}\")"
   ],
   "metadata": {
    "collapsed": false,
    "ExecuteTime": {
     "end_time": "2023-12-27T14:02:42.697666577Z",
     "start_time": "2023-12-27T14:02:42.169732859Z"
    }
   },
   "id": "6e9b2bfbb046f22d"
  },
  {
   "cell_type": "markdown",
   "source": [
    "As a next step, let's also remove all duplicate rows for the **Official Symbol Interactor A/B**, since we want to build a **simple** graph out of these interactors and not a **multi-graph**."
   ],
   "metadata": {
    "collapsed": false
   },
   "id": "8c812e9330469bfc"
  },
  {
   "cell_type": "code",
   "execution_count": 99,
   "outputs": [
    {
     "name": "stdout",
     "output_type": "stream",
     "text": [
      "There are 217822 duplicate rows\n"
     ]
    }
   ],
   "source": [
    "biogrid_no_duplicates = biogrid_no_self_loops[~biogrid_no_self_loops[[\"Official Symbol Interactor A\", \"Official Symbol Interactor B\"]].duplicated()]\n",
    "\n",
    "print(f\"There are {len(biogrid_no_self_loops) - len(biogrid_no_duplicates)} duplicate rows\")"
   ],
   "metadata": {
    "collapsed": false,
    "ExecuteTime": {
     "end_time": "2023-12-27T14:02:44.766775224Z",
     "start_time": "2023-12-27T14:02:44.262877241Z"
    }
   },
   "id": "8f50bd34972ae5d3"
  },
  {
   "cell_type": "markdown",
   "source": [
    "### Isolate LCC\n",
    "Finally, let's find the largest connected component (LCC) in the graph. The LCC is the largest subgraph that exists in our network. In this subgraph, every node can be reached from every other node."
   ],
   "metadata": {
    "collapsed": false
   },
   "id": "984c9de989024582"
  },
  {
   "cell_type": "code",
   "execution_count": 100,
   "outputs": [],
   "source": [
    "ppi_graph = nx.Graph()\n",
    "ppi_graph.add_edges_from(zip(biogrid_no_duplicates[\"Official Symbol Interactor A\"], biogrid_no_duplicates[\"Official Symbol Interactor B\"]))"
   ],
   "metadata": {
    "collapsed": false,
    "ExecuteTime": {
     "end_time": "2023-12-27T14:02:50.059851633Z",
     "start_time": "2023-12-27T14:02:48.778971675Z"
    }
   },
   "id": "eb5bd29c62edb04c"
  },
  {
   "cell_type": "markdown",
   "source": [
    "We can use the `connected_components` function from networkx to give us the nodes of the largest connected component. Then, we create a subgraph of these components."
   ],
   "metadata": {
    "collapsed": false
   },
   "id": "f3d0170894a0c97f"
  },
  {
   "cell_type": "code",
   "execution_count": 101,
   "outputs": [],
   "source": [
    "ppi_lcc_nodes = max(nx.connected_components(ppi_graph), key=len)\n",
    "ppi_lcc = ppi_graph.subgraph(ppi_lcc_nodes).copy()"
   ],
   "metadata": {
    "collapsed": false,
    "ExecuteTime": {
     "end_time": "2023-12-27T14:02:53.057771929Z",
     "start_time": "2023-12-27T14:02:50.087354144Z"
    }
   },
   "id": "60f9dcca25ceec22"
  },
  {
   "cell_type": "markdown",
   "source": [
    "## 1.2 Gather gene-disease associations\n",
    "We want to gather gene-disease associations to explore the links between genes associated with specific diseases and the proteins they interact with.\n",
    "\n",
    "I will use the DisGENET REST-API to fetch the cureated information associated with the **polydactyly** disease (C0152427). Since the API requirest an authentication token, we will load the one we got when we created our account there from an environment variable."
   ],
   "metadata": {
    "collapsed": false
   },
   "id": "61f15426aea17152"
  },
  {
   "cell_type": "code",
   "execution_count": 109,
   "outputs": [],
   "source": [
    "polydactyly_concept_id = \"C0152427\""
   ],
   "metadata": {
    "collapsed": false,
    "ExecuteTime": {
     "end_time": "2023-12-27T15:10:58.095679262Z",
     "start_time": "2023-12-27T15:10:58.093632994Z"
    }
   },
   "id": "5eac38567c290f1f"
  },
  {
   "cell_type": "code",
   "execution_count": 73,
   "outputs": [],
   "source": [
    "response = requests.get(f\"https://www.disgenet.org/api/gda/disease/{polydactyly_concept_id}\", \n",
    "             params={\"source\":\"CURATED\"},\n",
    "             headers={'Authorization': f'Bearer {os.getenv(\"disgenet_api_token\")}'})"
   ],
   "metadata": {
    "collapsed": false,
    "ExecuteTime": {
     "end_time": "2023-12-27T13:08:24.584928058Z",
     "start_time": "2023-12-27T13:08:20.632512457Z"
    }
   },
   "id": "8e8cafd3b6df69c2"
  },
  {
   "cell_type": "markdown",
   "source": [
    "Let's take the response and turn it into a pandas dataframe to be able to work with it. The columns in the dataframe have the following meaning:\n",
    "\n",
    "* geneId: NCBI Entrez Gene Identifier\n",
    "* geneSymbol: Official Gene Symbol\n",
    "* DSI: The Disease Specificity Index for the gene\n",
    "* DPI: The Disease Pleiotropy Index for the gene\n",
    "* PLI: The probability for the gene of being loss-of-function intolerant, provided by the GNOMAD consortium\n",
    "* protein_class: Protein Class identifier according to the Drug Target Ontology  \n",
    "* protein_class_name: Protein Class according to the Drug Target Ontology  \n",
    "* NofDiseases: Number of diseases associated to the gene\n",
    "* NofPmids: Number of publications associated to the gene\n",
    "\n",
    "[source](https://www.disgenet.org/static/disgenet_ap1/files/downloads/readme.txt)\n"
   ],
   "metadata": {
    "collapsed": false
   },
   "id": "4a4176ec91b35a76"
  },
  {
   "cell_type": "code",
   "execution_count": 95,
   "outputs": [],
   "source": [
    "disease_df = pd.DataFrame(response.json())\n",
    "disease_df.geneid = disease_df.geneid.astype(str)"
   ],
   "metadata": {
    "collapsed": false,
    "ExecuteTime": {
     "end_time": "2023-12-27T14:02:26.872378776Z",
     "start_time": "2023-12-27T14:02:26.831629001Z"
    }
   },
   "id": "299fec0ccb91d568"
  },
  {
   "cell_type": "markdown",
   "source": [
    "## 1.3 Compute and characterize the disease LCC and its basic network measures\n",
    "We need to do the following:\n",
    "\n",
    "* isolate the LCC of the disease network\n",
    "* Summarize the GDA-related data\n",
    "* Compute the following network metrics on the disease LCC:\n",
    "    * Node degree\n",
    "    * Betweenness centrality\n",
    "    * Eigenvector centrality\n",
    "    * Closeness centrality\n",
    "    * ratio Betweenness/Node degree\n",
    "* Report in a table the above network measures of the first 50 disease genes\n",
    "in the disease LCC ordered for node degree from higher to lower\n",
    "* Represent node degree and node betweenness in a scatterplot"
   ],
   "metadata": {
    "collapsed": false
   },
   "id": "1b784707542c21ea"
  },
  {
   "cell_type": "markdown",
   "source": [
    "### Isolate LCC of the Disease Network\n",
    "Here we want to **overlap** the genes from GDA with the genes in PPI, using the Entrez Gene ID. First, let's select the PPIs that have Entrez Interactors in the polydactyly gene disease association data frame."
   ],
   "metadata": {
    "collapsed": false
   },
   "id": "1eeaf193a6c55329"
  },
  {
   "cell_type": "code",
   "execution_count": 104,
   "outputs": [],
   "source": [
    "# the PPIs that appear in the GDA\n",
    "disease_genes = biogrid_no_duplicates[(biogrid_no_duplicates[\"Entrez Gene Interactor A\"].isin(disease_df.geneid)) & (biogrid_no_duplicates[\"Entrez Gene Interactor B\"].isin(disease_df.geneid))]"
   ],
   "metadata": {
    "collapsed": false,
    "ExecuteTime": {
     "end_time": "2023-12-27T14:47:30.274774168Z",
     "start_time": "2023-12-27T14:47:30.234565362Z"
    }
   },
   "id": "8a79ba25fd16dadb"
  },
  {
   "cell_type": "code",
   "execution_count": 113,
   "outputs": [
    {
     "data": {
      "text/plain": "         #BioGRID Interaction ID Entrez Gene Interactor A  \\\n26281                     286709                    79659   \n26282                     286710                    51626   \n31663                     303378                     2263   \n108651                    719956                     4750   \n113324                    726261                     5296   \n...                          ...                      ...   \n1027743                  3362924                     5296   \n1119586                  3490560                     2260   \n1131157                  3509017                     2263   \n1131780                  3509640                     2261   \n1132263                  3510123                     2261   \n\n        Entrez Gene Interactor B  BioGRID ID Interactor A  \\\n26281                      51626                   122785   \n26282                      79659                   119644   \n31663                       2255                   108554   \n108651                     11127                   110825   \n113324                      5290                   111314   \n...                          ...                      ...   \n1027743                     8239                   111314   \n1119586                     2263                   108551   \n1131157                     5296                   108554   \n1131780                     2260                   108552   \n1132263                     8239                   108552   \n\n         BioGRID ID Interactor B Systematic Name Interactor A  \\\n26281                     119644                            -   \n26282                     122785                       CGI-60   \n31663                     108546                            -   \n108651                    116300                            -   \n113324                    111308                            -   \n...                          ...                          ...   \n1027743                   113867                            -   \n1119586                   108554                            -   \n1131157                   111314                            -   \n1131780                   108551                            -   \n1132263                   113867                            -   \n\n        Systematic Name Interactor B Official Symbol Interactor A  \\\n26281                         CGI-60                      DYNC2H1   \n26282                              -                     DYNC2LI1   \n31663                              -                        FGFR2   \n108651                             -                         NEK1   \n113324                             -                       PIK3R2   \n...                              ...                          ...   \n1027743                RP5-1172N10.4                       PIK3R2   \n1119586                            -                        FGFR1   \n1131157                            -                        FGFR2   \n1131780                            -                        FGFR3   \n1132263                RP5-1172N10.4                        FGFR3   \n\n        Official Symbol Interactor B  \\\n26281                       DYNC2LI1   \n26282                        DYNC2H1   \n31663                          FGF10   \n108651                         KIF3A   \n113324                        PIK3CA   \n...                              ...   \n1027743                        USP9X   \n1119586                        FGFR2   \n1131157                       PIK3R2   \n1131780                        FGFR1   \n1132263                        USP9X   \n\n                                     Synonyms Interactor A  ...  \\\n26281      ATD3|DHC1b|DHC2|DNCH2|DYH1B|SRPS2B|SRTD3|hdhc11  ...   \n26282                                           D2LIC|LIC3  ...   \n31663    BBDS|BEK|BFR-1|CD332|CEK3|CFD1|ECT1|JWS|K-SAM|...  ...   \n108651                        NY-REN-55|SRPS2|SRPS2A|SRTD6  ...   \n113324                        MPPH|MPPH1|P85B|p85|p85-BETA  ...   \n...                                                    ...  ...   \n1027743                       MPPH|MPPH1|P85B|p85|p85-BETA  ...   \n1119586  BFGFR|CD331|CEK|FGFBR|FGFR-1|FLG|FLT-2|FLT2|HB...  ...   \n1131157  BBDS|BEK|BFR-1|CD332|CEK3|CFD1|ECT1|JWS|K-SAM|...  ...   \n1131780                      ACH|CD333|CEK2|HSFGFR3EX|JTK4  ...   \n1132263                      ACH|CD333|CEK2|HSFGFR3EX|JTK4  ...   \n\n        TREMBL Accessions Interactor B  \\\n26281                                -   \n26282                                -   \n31663                                -   \n108651     E9PES4|J3KPF9|Q05CT3|B4DHG8   \n113324                               -   \n...                                ...   \n1027743                  Q6P468|Q86X58   \n1119586                  D3DRD5|D2CGD1   \n1131157                              -   \n1131780                              -   \n1132263                  Q6P468|Q86X58   \n\n                            REFSEQ Accessions Interactor B Ontology Term IDs  \\\n26281                     NP_056337|NP_057092|NP_001180393                 -   \n26282                               NP_001073932|NP_001368                 -   \n31663                                            NP_004456                 -   \n108651                 NP_008985|NP_001287720|NP_001287721                 -   \n113324                                           NP_006209       BTO:0000664   \n...                                                    ...               ...   \n1027743                          NP_001034680|NP_001034679                 -   \n1119586  NP_000132|NP_075259|NP_075418|NP_001138389|NP_...                 -   \n1131157                                          NP_005018                 -   \n1131780  NP_075598|NP_075593|NP_075594|NP_001167538|NP_...                 -   \n1132263                          NP_001034680|NP_001034679                 -   \n\n        Ontology Term Names Ontology Term Categories  \\\n26281                     -                        -   \n26282                     -                        -   \n31663                     -                        -   \n108651                    -                        -   \n113324           K-562 cell                cell line   \n...                     ...                      ...   \n1027743                   -                        -   \n1119586                   -                        -   \n1131157                   -                        -   \n1131780                   -                        -   \n1132263                   -                        -   \n\n         Ontology Term Qualifier IDs  Ontology Term Qualifier Names  \\\n26281                              -                              -   \n26282                              -                              -   \n31663                              -                              -   \n108651                             -                              -   \n113324                     DOID:8552       chronic myeloid leukemia   \n...                              ...                            ...   \n1027743                            -                              -   \n1119586                            -                              -   \n1131157                            -                              -   \n1131780                            -                              -   \n1132263                            -                              -   \n\n        Ontology Term Types Organism Name Interactor A  \\\n26281                     -               Homo sapiens   \n26282                     -               Homo sapiens   \n31663                     -               Homo sapiens   \n108651                    -               Homo sapiens   \n113324                    -               Homo sapiens   \n...                     ...                        ...   \n1027743                   -               Homo sapiens   \n1119586                   -               Homo sapiens   \n1131157                   -               Homo sapiens   \n1131780                   -               Homo sapiens   \n1132263                   -               Homo sapiens   \n\n        Organism Name Interactor B  \n26281                 Homo sapiens  \n26282                 Homo sapiens  \n31663                 Homo sapiens  \n108651                Homo sapiens  \n113324                Homo sapiens  \n...                            ...  \n1027743               Homo sapiens  \n1119586               Homo sapiens  \n1131157               Homo sapiens  \n1131780               Homo sapiens  \n1132263               Homo sapiens  \n\n[167 rows x 37 columns]",
      "text/html": "<div>\n<style scoped>\n    .dataframe tbody tr th:only-of-type {\n        vertical-align: middle;\n    }\n\n    .dataframe tbody tr th {\n        vertical-align: top;\n    }\n\n    .dataframe thead th {\n        text-align: right;\n    }\n</style>\n<table border=\"1\" class=\"dataframe\">\n  <thead>\n    <tr style=\"text-align: right;\">\n      <th></th>\n      <th>#BioGRID Interaction ID</th>\n      <th>Entrez Gene Interactor A</th>\n      <th>Entrez Gene Interactor B</th>\n      <th>BioGRID ID Interactor A</th>\n      <th>BioGRID ID Interactor B</th>\n      <th>Systematic Name Interactor A</th>\n      <th>Systematic Name Interactor B</th>\n      <th>Official Symbol Interactor A</th>\n      <th>Official Symbol Interactor B</th>\n      <th>Synonyms Interactor A</th>\n      <th>...</th>\n      <th>TREMBL Accessions Interactor B</th>\n      <th>REFSEQ Accessions Interactor B</th>\n      <th>Ontology Term IDs</th>\n      <th>Ontology Term Names</th>\n      <th>Ontology Term Categories</th>\n      <th>Ontology Term Qualifier IDs</th>\n      <th>Ontology Term Qualifier Names</th>\n      <th>Ontology Term Types</th>\n      <th>Organism Name Interactor A</th>\n      <th>Organism Name Interactor B</th>\n    </tr>\n  </thead>\n  <tbody>\n    <tr>\n      <th>26281</th>\n      <td>286709</td>\n      <td>79659</td>\n      <td>51626</td>\n      <td>122785</td>\n      <td>119644</td>\n      <td>-</td>\n      <td>CGI-60</td>\n      <td>DYNC2H1</td>\n      <td>DYNC2LI1</td>\n      <td>ATD3|DHC1b|DHC2|DNCH2|DYH1B|SRPS2B|SRTD3|hdhc11</td>\n      <td>...</td>\n      <td>-</td>\n      <td>NP_056337|NP_057092|NP_001180393</td>\n      <td>-</td>\n      <td>-</td>\n      <td>-</td>\n      <td>-</td>\n      <td>-</td>\n      <td>-</td>\n      <td>Homo sapiens</td>\n      <td>Homo sapiens</td>\n    </tr>\n    <tr>\n      <th>26282</th>\n      <td>286710</td>\n      <td>51626</td>\n      <td>79659</td>\n      <td>119644</td>\n      <td>122785</td>\n      <td>CGI-60</td>\n      <td>-</td>\n      <td>DYNC2LI1</td>\n      <td>DYNC2H1</td>\n      <td>D2LIC|LIC3</td>\n      <td>...</td>\n      <td>-</td>\n      <td>NP_001073932|NP_001368</td>\n      <td>-</td>\n      <td>-</td>\n      <td>-</td>\n      <td>-</td>\n      <td>-</td>\n      <td>-</td>\n      <td>Homo sapiens</td>\n      <td>Homo sapiens</td>\n    </tr>\n    <tr>\n      <th>31663</th>\n      <td>303378</td>\n      <td>2263</td>\n      <td>2255</td>\n      <td>108554</td>\n      <td>108546</td>\n      <td>-</td>\n      <td>-</td>\n      <td>FGFR2</td>\n      <td>FGF10</td>\n      <td>BBDS|BEK|BFR-1|CD332|CEK3|CFD1|ECT1|JWS|K-SAM|...</td>\n      <td>...</td>\n      <td>-</td>\n      <td>NP_004456</td>\n      <td>-</td>\n      <td>-</td>\n      <td>-</td>\n      <td>-</td>\n      <td>-</td>\n      <td>-</td>\n      <td>Homo sapiens</td>\n      <td>Homo sapiens</td>\n    </tr>\n    <tr>\n      <th>108651</th>\n      <td>719956</td>\n      <td>4750</td>\n      <td>11127</td>\n      <td>110825</td>\n      <td>116300</td>\n      <td>-</td>\n      <td>-</td>\n      <td>NEK1</td>\n      <td>KIF3A</td>\n      <td>NY-REN-55|SRPS2|SRPS2A|SRTD6</td>\n      <td>...</td>\n      <td>E9PES4|J3KPF9|Q05CT3|B4DHG8</td>\n      <td>NP_008985|NP_001287720|NP_001287721</td>\n      <td>-</td>\n      <td>-</td>\n      <td>-</td>\n      <td>-</td>\n      <td>-</td>\n      <td>-</td>\n      <td>Homo sapiens</td>\n      <td>Homo sapiens</td>\n    </tr>\n    <tr>\n      <th>113324</th>\n      <td>726261</td>\n      <td>5296</td>\n      <td>5290</td>\n      <td>111314</td>\n      <td>111308</td>\n      <td>-</td>\n      <td>-</td>\n      <td>PIK3R2</td>\n      <td>PIK3CA</td>\n      <td>MPPH|MPPH1|P85B|p85|p85-BETA</td>\n      <td>...</td>\n      <td>-</td>\n      <td>NP_006209</td>\n      <td>BTO:0000664</td>\n      <td>K-562 cell</td>\n      <td>cell line</td>\n      <td>DOID:8552</td>\n      <td>chronic myeloid leukemia</td>\n      <td>-</td>\n      <td>Homo sapiens</td>\n      <td>Homo sapiens</td>\n    </tr>\n    <tr>\n      <th>...</th>\n      <td>...</td>\n      <td>...</td>\n      <td>...</td>\n      <td>...</td>\n      <td>...</td>\n      <td>...</td>\n      <td>...</td>\n      <td>...</td>\n      <td>...</td>\n      <td>...</td>\n      <td>...</td>\n      <td>...</td>\n      <td>...</td>\n      <td>...</td>\n      <td>...</td>\n      <td>...</td>\n      <td>...</td>\n      <td>...</td>\n      <td>...</td>\n      <td>...</td>\n      <td>...</td>\n    </tr>\n    <tr>\n      <th>1027743</th>\n      <td>3362924</td>\n      <td>5296</td>\n      <td>8239</td>\n      <td>111314</td>\n      <td>113867</td>\n      <td>-</td>\n      <td>RP5-1172N10.4</td>\n      <td>PIK3R2</td>\n      <td>USP9X</td>\n      <td>MPPH|MPPH1|P85B|p85|p85-BETA</td>\n      <td>...</td>\n      <td>Q6P468|Q86X58</td>\n      <td>NP_001034680|NP_001034679</td>\n      <td>-</td>\n      <td>-</td>\n      <td>-</td>\n      <td>-</td>\n      <td>-</td>\n      <td>-</td>\n      <td>Homo sapiens</td>\n      <td>Homo sapiens</td>\n    </tr>\n    <tr>\n      <th>1119586</th>\n      <td>3490560</td>\n      <td>2260</td>\n      <td>2263</td>\n      <td>108551</td>\n      <td>108554</td>\n      <td>-</td>\n      <td>-</td>\n      <td>FGFR1</td>\n      <td>FGFR2</td>\n      <td>BFGFR|CD331|CEK|FGFBR|FGFR-1|FLG|FLT-2|FLT2|HB...</td>\n      <td>...</td>\n      <td>D3DRD5|D2CGD1</td>\n      <td>NP_000132|NP_075259|NP_075418|NP_001138389|NP_...</td>\n      <td>-</td>\n      <td>-</td>\n      <td>-</td>\n      <td>-</td>\n      <td>-</td>\n      <td>-</td>\n      <td>Homo sapiens</td>\n      <td>Homo sapiens</td>\n    </tr>\n    <tr>\n      <th>1131157</th>\n      <td>3509017</td>\n      <td>2263</td>\n      <td>5296</td>\n      <td>108554</td>\n      <td>111314</td>\n      <td>-</td>\n      <td>-</td>\n      <td>FGFR2</td>\n      <td>PIK3R2</td>\n      <td>BBDS|BEK|BFR-1|CD332|CEK3|CFD1|ECT1|JWS|K-SAM|...</td>\n      <td>...</td>\n      <td>-</td>\n      <td>NP_005018</td>\n      <td>-</td>\n      <td>-</td>\n      <td>-</td>\n      <td>-</td>\n      <td>-</td>\n      <td>-</td>\n      <td>Homo sapiens</td>\n      <td>Homo sapiens</td>\n    </tr>\n    <tr>\n      <th>1131780</th>\n      <td>3509640</td>\n      <td>2261</td>\n      <td>2260</td>\n      <td>108552</td>\n      <td>108551</td>\n      <td>-</td>\n      <td>-</td>\n      <td>FGFR3</td>\n      <td>FGFR1</td>\n      <td>ACH|CD333|CEK2|HSFGFR3EX|JTK4</td>\n      <td>...</td>\n      <td>-</td>\n      <td>NP_075598|NP_075593|NP_075594|NP_001167538|NP_...</td>\n      <td>-</td>\n      <td>-</td>\n      <td>-</td>\n      <td>-</td>\n      <td>-</td>\n      <td>-</td>\n      <td>Homo sapiens</td>\n      <td>Homo sapiens</td>\n    </tr>\n    <tr>\n      <th>1132263</th>\n      <td>3510123</td>\n      <td>2261</td>\n      <td>8239</td>\n      <td>108552</td>\n      <td>113867</td>\n      <td>-</td>\n      <td>RP5-1172N10.4</td>\n      <td>FGFR3</td>\n      <td>USP9X</td>\n      <td>ACH|CD333|CEK2|HSFGFR3EX|JTK4</td>\n      <td>...</td>\n      <td>Q6P468|Q86X58</td>\n      <td>NP_001034680|NP_001034679</td>\n      <td>-</td>\n      <td>-</td>\n      <td>-</td>\n      <td>-</td>\n      <td>-</td>\n      <td>-</td>\n      <td>Homo sapiens</td>\n      <td>Homo sapiens</td>\n    </tr>\n  </tbody>\n</table>\n<p>167 rows × 37 columns</p>\n</div>"
     },
     "execution_count": 113,
     "metadata": {},
     "output_type": "execute_result"
    }
   ],
   "source": [
    "disease_genes"
   ],
   "metadata": {
    "collapsed": false,
    "ExecuteTime": {
     "end_time": "2023-12-27T15:16:07.938444189Z",
     "start_time": "2023-12-27T15:16:07.936562842Z"
    }
   },
   "id": "4964d84c7699fb8a"
  },
  {
   "cell_type": "markdown",
   "source": [
    "Then, let's first create a graph from the PPIs that are associated with Polydactyly."
   ],
   "metadata": {
    "collapsed": false
   },
   "id": "4e818ba27aa4eb31"
  },
  {
   "cell_type": "code",
   "execution_count": 106,
   "outputs": [],
   "source": [
    "disease_ppi_graph = nx.Graph()\n",
    "disease_ppi_graph.add_edges_from(zip(disease_genes[\"Official Symbol Interactor A\"], disease_genes[\"Official Symbol Interactor B\"]))"
   ],
   "metadata": {
    "collapsed": false,
    "ExecuteTime": {
     "end_time": "2023-12-27T14:51:49.776841942Z",
     "start_time": "2023-12-27T14:51:49.775898584Z"
    }
   },
   "id": "12dd6f9781e49cae"
  },
  {
   "cell_type": "markdown",
   "source": [
    "Once we have the graph of the PPIs that are associated with Polydactyly, we can select the subgraph that has the most connected components."
   ],
   "metadata": {
    "collapsed": false
   },
   "id": "690bf7823ec95f4d"
  },
  {
   "cell_type": "code",
   "execution_count": 107,
   "outputs": [],
   "source": [
    "disease_ppi_lcc_nodes = max(nx.connected_components(disease_ppi_graph), key=len)\n",
    "disease_ppi_lcc = disease_ppi_graph.subgraph(disease_ppi_lcc_nodes).copy()"
   ],
   "metadata": {
    "collapsed": false,
    "ExecuteTime": {
     "end_time": "2023-12-27T14:51:50.912396958Z",
     "start_time": "2023-12-27T14:51:50.911444743Z"
    }
   },
   "id": "3e63af804cfb1eaa"
  },
  {
   "cell_type": "markdown",
   "source": [
    "### Summarise the GDA Related Data\n",
    "Here, we summarise the GDA data in a table."
   ],
   "metadata": {
    "collapsed": false
   },
   "id": "4630a2fa238bbb3d"
  },
  {
   "cell_type": "code",
   "execution_count": 114,
   "outputs": [],
   "source": [
    "disease_name = \"Polydactyly\"\n",
    "disease_id = polydactyly_concept_id\n",
    "disease_class = \"\"\n",
    "num_associated_genes = len(disease_df)\n",
    "num_genes_in_interactome = disease_ppi_graph.number_of_nodes()\n",
    "lcc_interactome_size = disease_ppi_lcc.number_of_nodes()"
   ],
   "metadata": {
    "collapsed": false,
    "ExecuteTime": {
     "end_time": "2023-12-27T15:22:24.424782343Z",
     "start_time": "2023-12-27T15:22:24.384042338Z"
    }
   },
   "id": "eca6151f1afce2b6"
  },
  {
   "cell_type": "code",
   "execution_count": 118,
   "outputs": [
    {
     "data": {
      "text/plain": "  Disease Name UMLS Disease ID MeSH Disease Class  Number of Associated Genes  \\\n0  Polydactyly        C0152427                                            117   \n\n   Number of Genes Present in Interactome  LCC Size of the Disease Interactome  \n0                                      77                                   62  ",
      "text/html": "<div>\n<style scoped>\n    .dataframe tbody tr th:only-of-type {\n        vertical-align: middle;\n    }\n\n    .dataframe tbody tr th {\n        vertical-align: top;\n    }\n\n    .dataframe thead th {\n        text-align: right;\n    }\n</style>\n<table border=\"1\" class=\"dataframe\">\n  <thead>\n    <tr style=\"text-align: right;\">\n      <th></th>\n      <th>Disease Name</th>\n      <th>UMLS Disease ID</th>\n      <th>MeSH Disease Class</th>\n      <th>Number of Associated Genes</th>\n      <th>Number of Genes Present in Interactome</th>\n      <th>LCC Size of the Disease Interactome</th>\n    </tr>\n  </thead>\n  <tbody>\n    <tr>\n      <th>0</th>\n      <td>Polydactyly</td>\n      <td>C0152427</td>\n      <td></td>\n      <td>117</td>\n      <td>77</td>\n      <td>62</td>\n    </tr>\n  </tbody>\n</table>\n</div>"
     },
     "metadata": {},
     "output_type": "display_data"
    }
   ],
   "source": [
    "gda_summary_df = pd.DataFrame(data=[[disease_name, disease_id, disease_class, num_associated_genes, num_genes_in_interactome, lcc_interactome_size]], columns=[\"Disease Name\", \"UMLS Disease ID\", \"MeSH Disease Class\", \"Number of Associated Genes\", \"Number of Genes Present in Interactome\", \"LCC Size of the Disease Interactome\"])\n",
    "gda_summary_df.to_csv(\"gda_summary_df.csv\")\n",
    "display(gda_summary_df)"
   ],
   "metadata": {
    "collapsed": false,
    "ExecuteTime": {
     "end_time": "2023-12-27T15:25:43.928075881Z",
     "start_time": "2023-12-27T15:25:43.886779978Z"
    }
   },
   "id": "c229e084746d977d"
  },
  {
   "cell_type": "markdown",
   "source": [
    "### Network Metrics\n",
    "Now, let's summarise the network metrics for the first 50 disease genes in the disease LCC ordered for node degree in descending order.\n",
    "\n",
    "First, we gather all the metrics on the entire graph using `networkx`, we can do this because it is a small graph. "
   ],
   "metadata": {
    "collapsed": false
   },
   "id": "ff10f3e01890fb1f"
  },
  {
   "cell_type": "code",
   "execution_count": 137,
   "outputs": [],
   "source": [
    "degrees = {node: nx.degree(disease_ppi_lcc, node) for  node in disease_ppi_lcc}\n",
    "betweenness_centralities = nx.betweenness_centrality(disease_ppi_lcc)\n",
    "eigenvector_centralities = nx.eigenvector_centrality(disease_ppi_lcc)\n",
    "closeness_centralities = nx.closeness_centrality(disease_ppi_lcc)"
   ],
   "metadata": {
    "collapsed": false,
    "ExecuteTime": {
     "end_time": "2023-12-27T15:43:58.731721931Z",
     "start_time": "2023-12-27T15:43:58.730493185Z"
    }
   },
   "id": "8e0453c6d82ef912"
  },
  {
   "cell_type": "markdown",
   "source": [
    "As the next step, let's rework the data so that we can create a nice pandas dataframe out of it. We will create a list of lists, where each nested list is a **row** in the dataframe.\n",
    "\n",
    "```\n",
    "[[gene, degree, betweenness, eigenvector, closeness, ratio]]\n",
    "```"
   ],
   "metadata": {
    "collapsed": false
   },
   "id": "9cc21ed29d10f47f"
  },
  {
   "cell_type": "code",
   "execution_count": null,
   "outputs": [],
   "source": [
    "rows = []\n",
    "for node in disease_ppi_lcc:\n",
    "    degree = degrees[node]\n",
    "    betweenness = betweenness_centralities[node]\n",
    "    eigenvector = eigenvector_centralities[node]\n",
    "    closeness = closeness_centralities[node]\n",
    "    ratio = betweenness / degree\n",
    "    \n",
    "    rows.append([node, degree, betweenness, eigenvector, closeness, ratio])"
   ],
   "metadata": {
    "collapsed": false
   },
   "id": "c0635e80ebe39c17"
  },
  {
   "cell_type": "markdown",
   "source": [
    "Finally, we create the dataframe using the list of lists created in the cell above, save it, sort it, and display the first 50 rows."
   ],
   "metadata": {
    "collapsed": false
   },
   "id": "a5fa5e7fd6b7af2b"
  },
  {
   "cell_type": "code",
   "execution_count": 139,
   "outputs": [
    {
     "data": {
      "text/plain": "        gene  degree  betweenness_centrality  eigenvector_centrality  \\\n12      BBS7      11                0.168989                0.368074   \n26      OFD1      10                0.502387                0.080908   \n17     TCTN2       9                0.105410                0.010291   \n27    CC2D2A       9                0.300726                0.024544   \n10      BBS4       9                0.241658                0.357692   \n13      BBS1       8                0.095082                0.346870   \n8     LZTFL1       8                0.032787                0.346584   \n14      BBS9       7                0.000000                0.340661   \n24     IFT88       7                0.181557                0.011897   \n15      BBS5       7                0.000000                0.340661   \n11      TTC8       7                0.000000                0.340661   \n19      B9D2       7                0.034062                0.009680   \n9       BBS2       7                0.000000                0.340661   \n16   TMEM231       6                0.065489                0.008912   \n28    CEP290       6                0.263008                0.027101   \n51    IFT172       6                0.001230                0.003864   \n18      B9D1       5                0.000000                0.008670   \n22     IFT80       5                0.000137                0.003595   \n4     PIK3R2       5                0.062014                0.000856   \n52     IFT27       5                0.000137                0.003595   \n33     TCTN3       5                0.050510                0.006899   \n21      MKS1       5                0.000000                0.008670   \n36    CEP120       5                0.083515                0.022615   \n31     CSPP1       4                0.016680                0.020317   \n43      PTEN       4                0.063388                0.000749   \n35       LBR       4                0.065027                0.002498   \n23     IFT52       4                0.000000                0.003203   \n20     FGFR3       4                0.081775                0.001976   \n0      FGFR2       4                0.019362                0.000481   \n7     CEP164       4                0.265738                0.065592   \n55     USP9X       4                0.201323                0.004282   \n53  TRAF3IP1       4                0.000000                0.003203   \n42     FGFR1       4                0.019362                0.000481   \n30      KIF7       4                0.068561                0.058161   \n44     IFT43       3                0.064481                0.050699   \n29  RPGRIP1L       3                0.015228                0.014962   \n2       NEK1       3                0.034776                0.005987   \n59      GLI2       3                0.015091                0.020947   \n61      GLI3       2                0.000000                0.011039   \n54       ICK       2                0.000000                0.002199   \n25      AHI1       2                0.000000                0.014717   \n5     PIK3CA       2                0.001093                0.000137   \n1      FGF10       2                0.000000                0.000134   \n34       EBP       2                0.000000                0.002400   \n45    TTC21B       2                0.000000                0.008222   \n37     ALMS1       2                0.015483                0.054519   \n57     CCND2       2                0.000546                0.000124   \n46     BBS12       2                0.032787                0.052384   \n48    IFT140       2                0.000000                0.008222   \n6      NPHP3       1                0.000000                0.009153   \n\n    closeness_centrality  betweenness_degree_ratio  \n12              0.301980                  0.015363  \n26              0.398693                  0.050239  \n17              0.290476                  0.011712  \n27              0.358824                  0.033414  \n10              0.337017                  0.026851  \n13              0.283721                  0.011885  \n8               0.281106                  0.004098  \n14              0.279817                  0.000000  \n24              0.269912                  0.025937  \n15              0.279817                  0.000000  \n11              0.279817                  0.000000  \n19              0.285047                  0.004866  \n9               0.279817                  0.000000  \n16              0.296117                  0.010915  \n28              0.354651                  0.043835  \n51              0.217082                  0.000205  \n18              0.282407                  0.000000  \n22              0.216312                  0.000027  \n4               0.232824                  0.012403  \n52              0.216312                  0.000027  \n33              0.279817                  0.010102  \n21              0.282407                  0.000000  \n36              0.301980                  0.016703  \n31              0.314433                  0.004170  \n43              0.231061                  0.015847  \n35              0.230189                  0.016257  \n23              0.215548                  0.000000  \n20              0.252066                  0.020444  \n0               0.208904                  0.004841  \n7               0.342697                  0.066434  \n55              0.286385                  0.050331  \n53              0.215548                  0.000000  \n42              0.208904                  0.004841  \n30              0.309645                  0.017140  \n44              0.225092                  0.021494  \n29              0.293269                  0.005076  \n2               0.267544                  0.011592  \n59              0.291866                  0.005030  \n61              0.254167                  0.000000  \n54              0.214035                  0.000000  \n25              0.311224                  0.000000  \n5               0.190625                  0.000546  \n1               0.173789                  0.000000  \n34              0.226766                  0.000000  \n45              0.184848                  0.000000  \n37              0.273543                  0.007741  \n57              0.189441                  0.000273  \n46              0.234615                  0.016393  \n48              0.184848                  0.000000  \n6               0.256303                  0.000000  ",
      "text/html": "<div>\n<style scoped>\n    .dataframe tbody tr th:only-of-type {\n        vertical-align: middle;\n    }\n\n    .dataframe tbody tr th {\n        vertical-align: top;\n    }\n\n    .dataframe thead th {\n        text-align: right;\n    }\n</style>\n<table border=\"1\" class=\"dataframe\">\n  <thead>\n    <tr style=\"text-align: right;\">\n      <th></th>\n      <th>gene</th>\n      <th>degree</th>\n      <th>betweenness_centrality</th>\n      <th>eigenvector_centrality</th>\n      <th>closeness_centrality</th>\n      <th>betweenness_degree_ratio</th>\n    </tr>\n  </thead>\n  <tbody>\n    <tr>\n      <th>12</th>\n      <td>BBS7</td>\n      <td>11</td>\n      <td>0.168989</td>\n      <td>0.368074</td>\n      <td>0.301980</td>\n      <td>0.015363</td>\n    </tr>\n    <tr>\n      <th>26</th>\n      <td>OFD1</td>\n      <td>10</td>\n      <td>0.502387</td>\n      <td>0.080908</td>\n      <td>0.398693</td>\n      <td>0.050239</td>\n    </tr>\n    <tr>\n      <th>17</th>\n      <td>TCTN2</td>\n      <td>9</td>\n      <td>0.105410</td>\n      <td>0.010291</td>\n      <td>0.290476</td>\n      <td>0.011712</td>\n    </tr>\n    <tr>\n      <th>27</th>\n      <td>CC2D2A</td>\n      <td>9</td>\n      <td>0.300726</td>\n      <td>0.024544</td>\n      <td>0.358824</td>\n      <td>0.033414</td>\n    </tr>\n    <tr>\n      <th>10</th>\n      <td>BBS4</td>\n      <td>9</td>\n      <td>0.241658</td>\n      <td>0.357692</td>\n      <td>0.337017</td>\n      <td>0.026851</td>\n    </tr>\n    <tr>\n      <th>13</th>\n      <td>BBS1</td>\n      <td>8</td>\n      <td>0.095082</td>\n      <td>0.346870</td>\n      <td>0.283721</td>\n      <td>0.011885</td>\n    </tr>\n    <tr>\n      <th>8</th>\n      <td>LZTFL1</td>\n      <td>8</td>\n      <td>0.032787</td>\n      <td>0.346584</td>\n      <td>0.281106</td>\n      <td>0.004098</td>\n    </tr>\n    <tr>\n      <th>14</th>\n      <td>BBS9</td>\n      <td>7</td>\n      <td>0.000000</td>\n      <td>0.340661</td>\n      <td>0.279817</td>\n      <td>0.000000</td>\n    </tr>\n    <tr>\n      <th>24</th>\n      <td>IFT88</td>\n      <td>7</td>\n      <td>0.181557</td>\n      <td>0.011897</td>\n      <td>0.269912</td>\n      <td>0.025937</td>\n    </tr>\n    <tr>\n      <th>15</th>\n      <td>BBS5</td>\n      <td>7</td>\n      <td>0.000000</td>\n      <td>0.340661</td>\n      <td>0.279817</td>\n      <td>0.000000</td>\n    </tr>\n    <tr>\n      <th>11</th>\n      <td>TTC8</td>\n      <td>7</td>\n      <td>0.000000</td>\n      <td>0.340661</td>\n      <td>0.279817</td>\n      <td>0.000000</td>\n    </tr>\n    <tr>\n      <th>19</th>\n      <td>B9D2</td>\n      <td>7</td>\n      <td>0.034062</td>\n      <td>0.009680</td>\n      <td>0.285047</td>\n      <td>0.004866</td>\n    </tr>\n    <tr>\n      <th>9</th>\n      <td>BBS2</td>\n      <td>7</td>\n      <td>0.000000</td>\n      <td>0.340661</td>\n      <td>0.279817</td>\n      <td>0.000000</td>\n    </tr>\n    <tr>\n      <th>16</th>\n      <td>TMEM231</td>\n      <td>6</td>\n      <td>0.065489</td>\n      <td>0.008912</td>\n      <td>0.296117</td>\n      <td>0.010915</td>\n    </tr>\n    <tr>\n      <th>28</th>\n      <td>CEP290</td>\n      <td>6</td>\n      <td>0.263008</td>\n      <td>0.027101</td>\n      <td>0.354651</td>\n      <td>0.043835</td>\n    </tr>\n    <tr>\n      <th>51</th>\n      <td>IFT172</td>\n      <td>6</td>\n      <td>0.001230</td>\n      <td>0.003864</td>\n      <td>0.217082</td>\n      <td>0.000205</td>\n    </tr>\n    <tr>\n      <th>18</th>\n      <td>B9D1</td>\n      <td>5</td>\n      <td>0.000000</td>\n      <td>0.008670</td>\n      <td>0.282407</td>\n      <td>0.000000</td>\n    </tr>\n    <tr>\n      <th>22</th>\n      <td>IFT80</td>\n      <td>5</td>\n      <td>0.000137</td>\n      <td>0.003595</td>\n      <td>0.216312</td>\n      <td>0.000027</td>\n    </tr>\n    <tr>\n      <th>4</th>\n      <td>PIK3R2</td>\n      <td>5</td>\n      <td>0.062014</td>\n      <td>0.000856</td>\n      <td>0.232824</td>\n      <td>0.012403</td>\n    </tr>\n    <tr>\n      <th>52</th>\n      <td>IFT27</td>\n      <td>5</td>\n      <td>0.000137</td>\n      <td>0.003595</td>\n      <td>0.216312</td>\n      <td>0.000027</td>\n    </tr>\n    <tr>\n      <th>33</th>\n      <td>TCTN3</td>\n      <td>5</td>\n      <td>0.050510</td>\n      <td>0.006899</td>\n      <td>0.279817</td>\n      <td>0.010102</td>\n    </tr>\n    <tr>\n      <th>21</th>\n      <td>MKS1</td>\n      <td>5</td>\n      <td>0.000000</td>\n      <td>0.008670</td>\n      <td>0.282407</td>\n      <td>0.000000</td>\n    </tr>\n    <tr>\n      <th>36</th>\n      <td>CEP120</td>\n      <td>5</td>\n      <td>0.083515</td>\n      <td>0.022615</td>\n      <td>0.301980</td>\n      <td>0.016703</td>\n    </tr>\n    <tr>\n      <th>31</th>\n      <td>CSPP1</td>\n      <td>4</td>\n      <td>0.016680</td>\n      <td>0.020317</td>\n      <td>0.314433</td>\n      <td>0.004170</td>\n    </tr>\n    <tr>\n      <th>43</th>\n      <td>PTEN</td>\n      <td>4</td>\n      <td>0.063388</td>\n      <td>0.000749</td>\n      <td>0.231061</td>\n      <td>0.015847</td>\n    </tr>\n    <tr>\n      <th>35</th>\n      <td>LBR</td>\n      <td>4</td>\n      <td>0.065027</td>\n      <td>0.002498</td>\n      <td>0.230189</td>\n      <td>0.016257</td>\n    </tr>\n    <tr>\n      <th>23</th>\n      <td>IFT52</td>\n      <td>4</td>\n      <td>0.000000</td>\n      <td>0.003203</td>\n      <td>0.215548</td>\n      <td>0.000000</td>\n    </tr>\n    <tr>\n      <th>20</th>\n      <td>FGFR3</td>\n      <td>4</td>\n      <td>0.081775</td>\n      <td>0.001976</td>\n      <td>0.252066</td>\n      <td>0.020444</td>\n    </tr>\n    <tr>\n      <th>0</th>\n      <td>FGFR2</td>\n      <td>4</td>\n      <td>0.019362</td>\n      <td>0.000481</td>\n      <td>0.208904</td>\n      <td>0.004841</td>\n    </tr>\n    <tr>\n      <th>7</th>\n      <td>CEP164</td>\n      <td>4</td>\n      <td>0.265738</td>\n      <td>0.065592</td>\n      <td>0.342697</td>\n      <td>0.066434</td>\n    </tr>\n    <tr>\n      <th>55</th>\n      <td>USP9X</td>\n      <td>4</td>\n      <td>0.201323</td>\n      <td>0.004282</td>\n      <td>0.286385</td>\n      <td>0.050331</td>\n    </tr>\n    <tr>\n      <th>53</th>\n      <td>TRAF3IP1</td>\n      <td>4</td>\n      <td>0.000000</td>\n      <td>0.003203</td>\n      <td>0.215548</td>\n      <td>0.000000</td>\n    </tr>\n    <tr>\n      <th>42</th>\n      <td>FGFR1</td>\n      <td>4</td>\n      <td>0.019362</td>\n      <td>0.000481</td>\n      <td>0.208904</td>\n      <td>0.004841</td>\n    </tr>\n    <tr>\n      <th>30</th>\n      <td>KIF7</td>\n      <td>4</td>\n      <td>0.068561</td>\n      <td>0.058161</td>\n      <td>0.309645</td>\n      <td>0.017140</td>\n    </tr>\n    <tr>\n      <th>44</th>\n      <td>IFT43</td>\n      <td>3</td>\n      <td>0.064481</td>\n      <td>0.050699</td>\n      <td>0.225092</td>\n      <td>0.021494</td>\n    </tr>\n    <tr>\n      <th>29</th>\n      <td>RPGRIP1L</td>\n      <td>3</td>\n      <td>0.015228</td>\n      <td>0.014962</td>\n      <td>0.293269</td>\n      <td>0.005076</td>\n    </tr>\n    <tr>\n      <th>2</th>\n      <td>NEK1</td>\n      <td>3</td>\n      <td>0.034776</td>\n      <td>0.005987</td>\n      <td>0.267544</td>\n      <td>0.011592</td>\n    </tr>\n    <tr>\n      <th>59</th>\n      <td>GLI2</td>\n      <td>3</td>\n      <td>0.015091</td>\n      <td>0.020947</td>\n      <td>0.291866</td>\n      <td>0.005030</td>\n    </tr>\n    <tr>\n      <th>61</th>\n      <td>GLI3</td>\n      <td>2</td>\n      <td>0.000000</td>\n      <td>0.011039</td>\n      <td>0.254167</td>\n      <td>0.000000</td>\n    </tr>\n    <tr>\n      <th>54</th>\n      <td>ICK</td>\n      <td>2</td>\n      <td>0.000000</td>\n      <td>0.002199</td>\n      <td>0.214035</td>\n      <td>0.000000</td>\n    </tr>\n    <tr>\n      <th>25</th>\n      <td>AHI1</td>\n      <td>2</td>\n      <td>0.000000</td>\n      <td>0.014717</td>\n      <td>0.311224</td>\n      <td>0.000000</td>\n    </tr>\n    <tr>\n      <th>5</th>\n      <td>PIK3CA</td>\n      <td>2</td>\n      <td>0.001093</td>\n      <td>0.000137</td>\n      <td>0.190625</td>\n      <td>0.000546</td>\n    </tr>\n    <tr>\n      <th>1</th>\n      <td>FGF10</td>\n      <td>2</td>\n      <td>0.000000</td>\n      <td>0.000134</td>\n      <td>0.173789</td>\n      <td>0.000000</td>\n    </tr>\n    <tr>\n      <th>34</th>\n      <td>EBP</td>\n      <td>2</td>\n      <td>0.000000</td>\n      <td>0.002400</td>\n      <td>0.226766</td>\n      <td>0.000000</td>\n    </tr>\n    <tr>\n      <th>45</th>\n      <td>TTC21B</td>\n      <td>2</td>\n      <td>0.000000</td>\n      <td>0.008222</td>\n      <td>0.184848</td>\n      <td>0.000000</td>\n    </tr>\n    <tr>\n      <th>37</th>\n      <td>ALMS1</td>\n      <td>2</td>\n      <td>0.015483</td>\n      <td>0.054519</td>\n      <td>0.273543</td>\n      <td>0.007741</td>\n    </tr>\n    <tr>\n      <th>57</th>\n      <td>CCND2</td>\n      <td>2</td>\n      <td>0.000546</td>\n      <td>0.000124</td>\n      <td>0.189441</td>\n      <td>0.000273</td>\n    </tr>\n    <tr>\n      <th>46</th>\n      <td>BBS12</td>\n      <td>2</td>\n      <td>0.032787</td>\n      <td>0.052384</td>\n      <td>0.234615</td>\n      <td>0.016393</td>\n    </tr>\n    <tr>\n      <th>48</th>\n      <td>IFT140</td>\n      <td>2</td>\n      <td>0.000000</td>\n      <td>0.008222</td>\n      <td>0.184848</td>\n      <td>0.000000</td>\n    </tr>\n    <tr>\n      <th>6</th>\n      <td>NPHP3</td>\n      <td>1</td>\n      <td>0.000000</td>\n      <td>0.009153</td>\n      <td>0.256303</td>\n      <td>0.000000</td>\n    </tr>\n  </tbody>\n</table>\n</div>"
     },
     "metadata": {},
     "output_type": "display_data"
    }
   ],
   "source": [
    "network_summary_df = pd.DataFrame(rows, columns=[\"gene\", \"degree\", \"betweenness_centrality\", \"eigenvector_centrality\", \"closeness_centrality\", \"betweenness_degree_ratio\"])\n",
    "network_summary_df.to_csv(\"network_summary.csv\")\n",
    "network_summary_df.sort_values(\"degree\", ascending=False, inplace=True)\n",
    "display(network_summary_df.head(50))"
   ],
   "metadata": {
    "collapsed": false,
    "ExecuteTime": {
     "end_time": "2023-12-27T15:47:08.630703096Z",
     "start_time": "2023-12-27T15:47:08.621400206Z"
    }
   },
   "id": "74fec26bd1f62b7e"
  }
 ],
 "metadata": {
  "kernelspec": {
   "display_name": "Python 3",
   "language": "python",
   "name": "python3"
  },
  "language_info": {
   "codemirror_mode": {
    "name": "ipython",
    "version": 2
   },
   "file_extension": ".py",
   "mimetype": "text/x-python",
   "name": "python",
   "nbconvert_exporter": "python",
   "pygments_lexer": "ipython2",
   "version": "2.7.6"
  }
 },
 "nbformat": 4,
 "nbformat_minor": 5
}
