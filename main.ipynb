{
 "cells": [
  {
   "cell_type": "markdown",
   "source": [
    "# 1. PPI and GDA data gathering and interactome reconstruction"
   ],
   "metadata": {
    "collapsed": false
   },
   "id": "cc508417603fb3f"
  },
  {
   "cell_type": "markdown",
   "source": [
    "## 1.1.\n",
    "Download PPIs from BioGRID latest release to build the human interactome:\n",
    "\n",
    "* use “all organisms” tab3 file, unzip and get “Homo sapiens” only\n",
    "* filter out all non-human interactions, i.e., both “organism A” and “B” fields must be = 9606 (Homo sapiens)\n",
    "* keep only “physical” interactions” (“Experimental System Type” = physical)\n",
    "* purge out redundant and self loops\n",
    "* isolate the largest connected component (LCC)"
   ],
   "metadata": {
    "collapsed": false
   },
   "id": "8c29576be357a245"
  },
  {
   "cell_type": "code",
   "execution_count": 64,
   "outputs": [],
   "source": [
    "import os\n",
    "import zipfile\n",
    "from pathlib import Path\n",
    "from dotenv import load_dotenv\n",
    "\n",
    "import requests\n",
    "import networkx as nx\n",
    "import pandas as pd"
   ],
   "metadata": {
    "collapsed": false,
    "ExecuteTime": {
     "end_time": "2023-12-27T13:06:35.292085058Z",
     "start_time": "2023-12-27T13:06:35.250757342Z"
    }
   },
   "id": "1223f1168478a1ec"
  },
  {
   "cell_type": "markdown",
   "source": [
    "Load the environment variables from the `.env` file. If you don't have an `.env` file, create one and place the API token for DisGenet inside. \n",
    "\n",
    "```\n",
    "disgenet_api_token=\"<api token>\"\n",
    "```"
   ],
   "metadata": {
    "collapsed": false
   },
   "id": "41b4345ae21a12e2"
  },
  {
   "cell_type": "code",
   "execution_count": 67,
   "outputs": [
    {
     "data": {
      "text/plain": "True"
     },
     "execution_count": 67,
     "metadata": {},
     "output_type": "execute_result"
    }
   ],
   "source": [
    "load_dotenv()"
   ],
   "metadata": {
    "collapsed": false,
    "ExecuteTime": {
     "end_time": "2023-12-27T13:07:33.134399161Z",
     "start_time": "2023-12-27T13:07:33.093417428Z"
    }
   },
   "id": "446d66ca72fb4b6d"
  },
  {
   "cell_type": "markdown",
   "source": [
    "If you haven't already, download the biogrid data, unzip it and place the homo sapiens txt file inside the `data/` directory."
   ],
   "metadata": {
    "collapsed": false
   },
   "id": "643fba2329e8f775"
  },
  {
   "cell_type": "code",
   "execution_count": 47,
   "outputs": [
    {
     "name": "stdout",
     "output_type": "stream",
     "text": [
      "--2023-12-27 12:54:05--  https://downloads.thebiogrid.org/Download/BioGRID/Latest-Release/BIOGRID-ORGANISM-LATEST.tab3.zip\r\n",
      "Resolving downloads.thebiogrid.org (downloads.thebiogrid.org)... 173.255.198.187\r\n",
      "Connecting to downloads.thebiogrid.org (downloads.thebiogrid.org)|173.255.198.187|:443... connected.\r\n",
      "HTTP request sent, awaiting response... 200 OK\r\n",
      "Length: unspecified [application/download]\r\n",
      "Saving to: ‘biogrid.zip’\r\n",
      "\r\n",
      "biogrid.zip             [                 <=>] 159.74M  1.61MB/s    in 1m 52s  \r\n",
      "\r\n",
      "2023-12-27 12:56:00 (1.43 MB/s) - ‘biogrid.zip’ saved [167496760]\r\n",
      "\r\n"
     ]
    }
   ],
   "source": [
    "!wget -O biogrid.zip https://downloads.thebiogrid.org/Download/BioGRID/Latest-Release/BIOGRID-ORGANISM-LATEST.tab3.zip"
   ],
   "metadata": {
    "collapsed": false,
    "ExecuteTime": {
     "end_time": "2023-12-27T11:56:00.378422610Z",
     "start_time": "2023-12-27T11:54:05.591018082Z"
    }
   },
   "id": "8032da20b663cade"
  },
  {
   "cell_type": "markdown",
   "source": [
    "Then, let's extract the homo sapiens file into the `data/` directory."
   ],
   "metadata": {
    "collapsed": false
   },
   "id": "a600bfdc8fd00d02"
  },
  {
   "cell_type": "code",
   "execution_count": 58,
   "outputs": [],
   "source": [
    "data_folder = \"data\"\n",
    "Path(data_folder).mkdir(parents=True, exist_ok=True)\n",
    "\n",
    "with zipfile.ZipFile(\"biogrid.zip\", 'r') as zip_ref:\n",
    "        # Iterate through the files in the zip archive\n",
    "        for file_info in zip_ref.infolist():\n",
    "            # Check if the file name matches the target filename\n",
    "            if \"Homo_sapiens\" in file_info.filename:\n",
    "                # Extract the file to the target folder\n",
    "                zip_ref.extract(file_info, data_folder)\n",
    "                \n",
    "                # rename the file\n",
    "                os.rename(os.path.join(data_folder, file_info.filename), os.path.join(data_folder, \"biogrid.txt\"))\n",
    "                break"
   ],
   "metadata": {
    "collapsed": false,
    "ExecuteTime": {
     "end_time": "2023-12-27T12:09:17.983397214Z",
     "start_time": "2023-12-27T12:09:16.026719447Z"
    }
   },
   "id": "2970d4305f9cd0b8"
  },
  {
   "cell_type": "markdown",
   "source": [
    "Let's load the file, it is **tab separated** so we need to specify the tab separator `\\t`. Also, some of the columns have mixed data types, so we set `low_memory=False`."
   ],
   "metadata": {
    "collapsed": false
   },
   "id": "54174458a8bc93fe"
  },
  {
   "cell_type": "code",
   "execution_count": 5,
   "outputs": [],
   "source": [
    "biogrid = pd.read_csv(\"data/biogrid.txt\", sep=\"\\t\", low_memory=False)"
   ],
   "metadata": {
    "collapsed": false,
    "ExecuteTime": {
     "end_time": "2023-12-27T10:32:01.409102527Z",
     "start_time": "2023-12-27T10:31:53.319650250Z"
    }
   },
   "id": "d345b0a804b3e865"
  },
  {
   "cell_type": "markdown",
   "source": [
    "For an explanation of the different columns, we can check the [biogrid wiki](https://wiki.thebiogrid.org/doku.php/biogrid_tab_version_3.0)."
   ],
   "metadata": {
    "collapsed": false
   },
   "id": "df72c0caabc8b2c6"
  },
  {
   "cell_type": "code",
   "execution_count": 4,
   "outputs": [
    {
     "data": {
      "text/plain": "         #BioGRID Interaction ID Entrez Gene Interactor A  \\\n0                            103                     6416   \n1                            117                    84665   \n2                            183                       90   \n3                            278                     2624   \n4                            418                     6118   \n...                          ...                      ...   \n1188614                  3590145                   253260   \n1188615                  3590146                   253260   \n1188616                  3590147                     7189   \n1188617                  3621586                     8237   \n1188618                  3621587                     1956   \n\n        Entrez Gene Interactor B  BioGRID ID Interactor A  \\\n0                           2318                   112315   \n1                             88                   124185   \n2                           2339                   106605   \n3                           5371                   108894   \n4                           6774                   112038   \n...                          ...                      ...   \n1188614                     7408                   128962   \n1188615                     1072                   128962   \n1188616                     4217                   113041   \n1188617                     1956                   113866   \n1188618                     8237                   108276   \n\n         BioGRID ID Interactor B Systematic Name Interactor A  \\\n0                         108607                            -   \n1                         106603                            -   \n2                         108625                            -   \n3                         111384                            -   \n4                         112651                  RP4-547C9.3   \n...                          ...                          ...   \n1188614                   113251                            -   \n1188615                   107499                            -   \n1188616                   110381                            -   \n1188617                   108276                 RP4-659F15.2   \n1188618                   113866                            -   \n\n        Systematic Name Interactor B Official Symbol Interactor A  \\\n0                                  -                       MAP2K4   \n1                                  -                         MYPN   \n2                                  -                        ACVR1   \n3                                  -                        GATA2   \n4                                  -                         RPA2   \n...                              ...                          ...   \n1188614                            -                       RICTOR   \n1188615                            -                       RICTOR   \n1188616                 RP3-325F22.4                        TRAF6   \n1188617                            -                        USP11   \n1188618                 RP4-659F15.2                         EGFR   \n\n        Official Symbol Interactor B  \\\n0                               FLNC   \n1                              ACTN2   \n2                               FNTA   \n3                                PML   \n4                              STAT3   \n...                              ...   \n1188614                         VASP   \n1188615                         CFL1   \n1188616                       MAP3K5   \n1188617                         EGFR   \n1188618                        USP11   \n\n                                     Synonyms Interactor A  ...  \\\n0        JNKK|JNKK1|MAPKK4|MEK4|MKK4|PRKMK4|SAPKK-1|SAP...  ...   \n1                                   CMD1DD|CMH22|MYOP|RCM4  ...   \n2                  ACTRI|ACVR1A|ACVRLK2|ALK2|FOP|SKR1|TSRI  ...   \n3                                 DCML|IMD21|MONOMAC|NFE1B  ...   \n4                            REPA2|RP-A p32|RP-A p34|RPA32  ...   \n...                                                    ...  ...   \n1188614                                     AVO3|PIA|hAVO3  ...   \n1188615                                     AVO3|PIA|hAVO3  ...   \n1188616                                     MGC:3310|RNF85  ...   \n1188617                                               UHX1  ...   \n1188618                  ERBB|ERBB1|HER1|NISBD2|PIG61|mENA  ...   \n\n        TREMBL Accessions Interactor B  \\\n0                               Q59H94   \n1                        Q59FD9|F6THM6   \n2                                    -   \n3                                    -   \n4                                    -   \n...                                ...   \n1188614                     A0A024R0V4   \n1188615                         V9HWI5   \n1188616                              -   \n1188617                              -   \n1188618                         B4DGK3   \n\n                            REFSEQ Accessions Interactor B Ontology Term IDs  \\\n0                                   NP_001120959|NP_001449                 -   \n1                      NP_001094|NP_001265272|NP_001265273                 -   \n2                                                NP_002018                 -   \n3        NP_150250|NP_150253|NP_150252|NP_150247|NP_150...                 -   \n4        NP_644805|NP_003141|NP_001356447|NP_001356443|...                 -   \n...                                                    ...               ...   \n1188614                                          NP_003361                 -   \n1188615                                          NP_005498                 -   \n1188616                                          NP_005914                 -   \n1188617  NP_001333829|NP_001333828|NP_958440|NP_005219|...                 -   \n1188618                             NP_004642|NP_001358001                 -   \n\n        Ontology Term Names Ontology Term Categories  \\\n0                         -                        -   \n1                         -                        -   \n2                         -                        -   \n3                         -                        -   \n4                         -                        -   \n...                     ...                      ...   \n1188614                   -                        -   \n1188615                   -                        -   \n1188616                   -                        -   \n1188617                   -                        -   \n1188618                   -                        -   \n\n         Ontology Term Qualifier IDs  Ontology Term Qualifier Names  \\\n0                                  -                              -   \n1                                  -                              -   \n2                                  -                              -   \n3                                  -                              -   \n4                                  -                              -   \n...                              ...                            ...   \n1188614                            -                              -   \n1188615                            -                              -   \n1188616                            -                              -   \n1188617                            -                              -   \n1188618                            -                              -   \n\n        Ontology Term Types Organism Name Interactor A  \\\n0                         -               Homo sapiens   \n1                         -               Homo sapiens   \n2                         -               Homo sapiens   \n3                         -               Homo sapiens   \n4                         -               Homo sapiens   \n...                     ...                        ...   \n1188614                   -               Homo sapiens   \n1188615                   -               Homo sapiens   \n1188616                   -               Homo sapiens   \n1188617                   -               Homo sapiens   \n1188618                   -               Homo sapiens   \n\n        Organism Name Interactor B  \n0                     Homo sapiens  \n1                     Homo sapiens  \n2                     Homo sapiens  \n3                     Homo sapiens  \n4                     Homo sapiens  \n...                            ...  \n1188614               Homo sapiens  \n1188615               Homo sapiens  \n1188616               Homo sapiens  \n1188617               Homo sapiens  \n1188618               Homo sapiens  \n\n[1188619 rows x 37 columns]",
      "text/html": "<div>\n<style scoped>\n    .dataframe tbody tr th:only-of-type {\n        vertical-align: middle;\n    }\n\n    .dataframe tbody tr th {\n        vertical-align: top;\n    }\n\n    .dataframe thead th {\n        text-align: right;\n    }\n</style>\n<table border=\"1\" class=\"dataframe\">\n  <thead>\n    <tr style=\"text-align: right;\">\n      <th></th>\n      <th>#BioGRID Interaction ID</th>\n      <th>Entrez Gene Interactor A</th>\n      <th>Entrez Gene Interactor B</th>\n      <th>BioGRID ID Interactor A</th>\n      <th>BioGRID ID Interactor B</th>\n      <th>Systematic Name Interactor A</th>\n      <th>Systematic Name Interactor B</th>\n      <th>Official Symbol Interactor A</th>\n      <th>Official Symbol Interactor B</th>\n      <th>Synonyms Interactor A</th>\n      <th>...</th>\n      <th>TREMBL Accessions Interactor B</th>\n      <th>REFSEQ Accessions Interactor B</th>\n      <th>Ontology Term IDs</th>\n      <th>Ontology Term Names</th>\n      <th>Ontology Term Categories</th>\n      <th>Ontology Term Qualifier IDs</th>\n      <th>Ontology Term Qualifier Names</th>\n      <th>Ontology Term Types</th>\n      <th>Organism Name Interactor A</th>\n      <th>Organism Name Interactor B</th>\n    </tr>\n  </thead>\n  <tbody>\n    <tr>\n      <th>0</th>\n      <td>103</td>\n      <td>6416</td>\n      <td>2318</td>\n      <td>112315</td>\n      <td>108607</td>\n      <td>-</td>\n      <td>-</td>\n      <td>MAP2K4</td>\n      <td>FLNC</td>\n      <td>JNKK|JNKK1|MAPKK4|MEK4|MKK4|PRKMK4|SAPKK-1|SAP...</td>\n      <td>...</td>\n      <td>Q59H94</td>\n      <td>NP_001120959|NP_001449</td>\n      <td>-</td>\n      <td>-</td>\n      <td>-</td>\n      <td>-</td>\n      <td>-</td>\n      <td>-</td>\n      <td>Homo sapiens</td>\n      <td>Homo sapiens</td>\n    </tr>\n    <tr>\n      <th>1</th>\n      <td>117</td>\n      <td>84665</td>\n      <td>88</td>\n      <td>124185</td>\n      <td>106603</td>\n      <td>-</td>\n      <td>-</td>\n      <td>MYPN</td>\n      <td>ACTN2</td>\n      <td>CMD1DD|CMH22|MYOP|RCM4</td>\n      <td>...</td>\n      <td>Q59FD9|F6THM6</td>\n      <td>NP_001094|NP_001265272|NP_001265273</td>\n      <td>-</td>\n      <td>-</td>\n      <td>-</td>\n      <td>-</td>\n      <td>-</td>\n      <td>-</td>\n      <td>Homo sapiens</td>\n      <td>Homo sapiens</td>\n    </tr>\n    <tr>\n      <th>2</th>\n      <td>183</td>\n      <td>90</td>\n      <td>2339</td>\n      <td>106605</td>\n      <td>108625</td>\n      <td>-</td>\n      <td>-</td>\n      <td>ACVR1</td>\n      <td>FNTA</td>\n      <td>ACTRI|ACVR1A|ACVRLK2|ALK2|FOP|SKR1|TSRI</td>\n      <td>...</td>\n      <td>-</td>\n      <td>NP_002018</td>\n      <td>-</td>\n      <td>-</td>\n      <td>-</td>\n      <td>-</td>\n      <td>-</td>\n      <td>-</td>\n      <td>Homo sapiens</td>\n      <td>Homo sapiens</td>\n    </tr>\n    <tr>\n      <th>3</th>\n      <td>278</td>\n      <td>2624</td>\n      <td>5371</td>\n      <td>108894</td>\n      <td>111384</td>\n      <td>-</td>\n      <td>-</td>\n      <td>GATA2</td>\n      <td>PML</td>\n      <td>DCML|IMD21|MONOMAC|NFE1B</td>\n      <td>...</td>\n      <td>-</td>\n      <td>NP_150250|NP_150253|NP_150252|NP_150247|NP_150...</td>\n      <td>-</td>\n      <td>-</td>\n      <td>-</td>\n      <td>-</td>\n      <td>-</td>\n      <td>-</td>\n      <td>Homo sapiens</td>\n      <td>Homo sapiens</td>\n    </tr>\n    <tr>\n      <th>4</th>\n      <td>418</td>\n      <td>6118</td>\n      <td>6774</td>\n      <td>112038</td>\n      <td>112651</td>\n      <td>RP4-547C9.3</td>\n      <td>-</td>\n      <td>RPA2</td>\n      <td>STAT3</td>\n      <td>REPA2|RP-A p32|RP-A p34|RPA32</td>\n      <td>...</td>\n      <td>-</td>\n      <td>NP_644805|NP_003141|NP_001356447|NP_001356443|...</td>\n      <td>-</td>\n      <td>-</td>\n      <td>-</td>\n      <td>-</td>\n      <td>-</td>\n      <td>-</td>\n      <td>Homo sapiens</td>\n      <td>Homo sapiens</td>\n    </tr>\n    <tr>\n      <th>...</th>\n      <td>...</td>\n      <td>...</td>\n      <td>...</td>\n      <td>...</td>\n      <td>...</td>\n      <td>...</td>\n      <td>...</td>\n      <td>...</td>\n      <td>...</td>\n      <td>...</td>\n      <td>...</td>\n      <td>...</td>\n      <td>...</td>\n      <td>...</td>\n      <td>...</td>\n      <td>...</td>\n      <td>...</td>\n      <td>...</td>\n      <td>...</td>\n      <td>...</td>\n      <td>...</td>\n    </tr>\n    <tr>\n      <th>1188614</th>\n      <td>3590145</td>\n      <td>253260</td>\n      <td>7408</td>\n      <td>128962</td>\n      <td>113251</td>\n      <td>-</td>\n      <td>-</td>\n      <td>RICTOR</td>\n      <td>VASP</td>\n      <td>AVO3|PIA|hAVO3</td>\n      <td>...</td>\n      <td>A0A024R0V4</td>\n      <td>NP_003361</td>\n      <td>-</td>\n      <td>-</td>\n      <td>-</td>\n      <td>-</td>\n      <td>-</td>\n      <td>-</td>\n      <td>Homo sapiens</td>\n      <td>Homo sapiens</td>\n    </tr>\n    <tr>\n      <th>1188615</th>\n      <td>3590146</td>\n      <td>253260</td>\n      <td>1072</td>\n      <td>128962</td>\n      <td>107499</td>\n      <td>-</td>\n      <td>-</td>\n      <td>RICTOR</td>\n      <td>CFL1</td>\n      <td>AVO3|PIA|hAVO3</td>\n      <td>...</td>\n      <td>V9HWI5</td>\n      <td>NP_005498</td>\n      <td>-</td>\n      <td>-</td>\n      <td>-</td>\n      <td>-</td>\n      <td>-</td>\n      <td>-</td>\n      <td>Homo sapiens</td>\n      <td>Homo sapiens</td>\n    </tr>\n    <tr>\n      <th>1188616</th>\n      <td>3590147</td>\n      <td>7189</td>\n      <td>4217</td>\n      <td>113041</td>\n      <td>110381</td>\n      <td>-</td>\n      <td>RP3-325F22.4</td>\n      <td>TRAF6</td>\n      <td>MAP3K5</td>\n      <td>MGC:3310|RNF85</td>\n      <td>...</td>\n      <td>-</td>\n      <td>NP_005914</td>\n      <td>-</td>\n      <td>-</td>\n      <td>-</td>\n      <td>-</td>\n      <td>-</td>\n      <td>-</td>\n      <td>Homo sapiens</td>\n      <td>Homo sapiens</td>\n    </tr>\n    <tr>\n      <th>1188617</th>\n      <td>3621586</td>\n      <td>8237</td>\n      <td>1956</td>\n      <td>113866</td>\n      <td>108276</td>\n      <td>RP4-659F15.2</td>\n      <td>-</td>\n      <td>USP11</td>\n      <td>EGFR</td>\n      <td>UHX1</td>\n      <td>...</td>\n      <td>-</td>\n      <td>NP_001333829|NP_001333828|NP_958440|NP_005219|...</td>\n      <td>-</td>\n      <td>-</td>\n      <td>-</td>\n      <td>-</td>\n      <td>-</td>\n      <td>-</td>\n      <td>Homo sapiens</td>\n      <td>Homo sapiens</td>\n    </tr>\n    <tr>\n      <th>1188618</th>\n      <td>3621587</td>\n      <td>1956</td>\n      <td>8237</td>\n      <td>108276</td>\n      <td>113866</td>\n      <td>-</td>\n      <td>RP4-659F15.2</td>\n      <td>EGFR</td>\n      <td>USP11</td>\n      <td>ERBB|ERBB1|HER1|NISBD2|PIG61|mENA</td>\n      <td>...</td>\n      <td>B4DGK3</td>\n      <td>NP_004642|NP_001358001</td>\n      <td>-</td>\n      <td>-</td>\n      <td>-</td>\n      <td>-</td>\n      <td>-</td>\n      <td>-</td>\n      <td>Homo sapiens</td>\n      <td>Homo sapiens</td>\n    </tr>\n  </tbody>\n</table>\n<p>1188619 rows × 37 columns</p>\n</div>"
     },
     "execution_count": 4,
     "metadata": {},
     "output_type": "execute_result"
    }
   ],
   "source": [
    "biogrid"
   ],
   "metadata": {
    "collapsed": false,
    "ExecuteTime": {
     "end_time": "2023-12-27T10:28:08.938964054Z",
     "start_time": "2023-12-27T10:28:08.213162838Z"
    }
   },
   "id": "1193ea22855e3dc4"
  },
  {
   "cell_type": "markdown",
   "source": [
    "### Filter out all non-human interactions, i.e., both “organism A” and “B” fields must be = 9606 (Homo sapiens)\n",
    "First, we only keep human PPIs. The organism A and B columns are columns `Organism ID Interactor A` and `Organism ID Interactor B`."
   ],
   "metadata": {
    "collapsed": false
   },
   "id": "9fea19f2236a2cb"
  },
  {
   "cell_type": "code",
   "execution_count": 8,
   "outputs": [],
   "source": [
    "biogrid_human = biogrid[(biogrid[\"Organism ID Interactor A\"] == 9606) & (biogrid[\"Organism ID Interactor B\"] == 9606)]"
   ],
   "metadata": {
    "collapsed": false,
    "ExecuteTime": {
     "end_time": "2023-12-27T10:36:14.568261400Z",
     "start_time": "2023-12-27T10:36:14.171747631Z"
    }
   },
   "id": "eb9d737cbcda21dc"
  },
  {
   "cell_type": "markdown",
   "source": [
    "### Keep only “physical” interactions” (“Experimental System Type” = physical)\n",
    "Then, let's remove all non-physical interactions."
   ],
   "metadata": {
    "collapsed": false
   },
   "id": "77aad87aab2cd902"
  },
  {
   "cell_type": "code",
   "execution_count": 9,
   "outputs": [],
   "source": [
    "biogrid_human_physical = biogrid_human[biogrid_human[\"Experimental System Type\"] == \"physical\"]"
   ],
   "metadata": {
    "collapsed": false,
    "ExecuteTime": {
     "end_time": "2023-12-27T10:37:18.915457639Z",
     "start_time": "2023-12-27T10:37:18.566035275Z"
    }
   },
   "id": "95dd02692ff5fc93"
  },
  {
   "cell_type": "markdown",
   "source": [
    "### Purge out redundant and self loops\n",
    "Some of PPIs could be between proteins and themselves. If we think of the interactions as a graph structure, any edge that refers to its origin node can be removed. We can also remove any duplicate edges between nodes."
   ],
   "metadata": {
    "collapsed": false
   },
   "id": "fb1d59285fd00fe3"
  },
  {
   "cell_type": "markdown",
   "source": [
    "First, let's remove the self-loops by checking where the **Offical Symbol Interactor** columns are the same."
   ],
   "metadata": {
    "collapsed": false
   },
   "id": "be166b2f31025b97"
  },
  {
   "cell_type": "code",
   "execution_count": 19,
   "outputs": [
    {
     "name": "stdout",
     "output_type": "stream",
     "text": [
      "Total number of self loops 7375\n"
     ]
    }
   ],
   "source": [
    "biogrid_no_self_loops = biogrid_human_physical[biogrid_human_physical[\"Official Symbol Interactor A\"] != biogrid_human_physical[\"Official Symbol Interactor B\"]]\n",
    "\n",
    "print(f\"Total number of self loops {len(biogrid_human_physical) - len(biogrid_no_self_loops)}\")"
   ],
   "metadata": {
    "collapsed": false,
    "ExecuteTime": {
     "end_time": "2023-12-27T10:54:59.239589013Z",
     "start_time": "2023-12-27T10:54:58.888095317Z"
    }
   },
   "id": "6e9b2bfbb046f22d"
  },
  {
   "cell_type": "markdown",
   "source": [
    "As a next step, let's also remove all duplicate rows for the **Official Symbol Interactor A/B**, since we want to build a **simple** graph out of these interactors and not a **multi-graph**."
   ],
   "metadata": {
    "collapsed": false
   },
   "id": "8c812e9330469bfc"
  },
  {
   "cell_type": "code",
   "execution_count": 34,
   "outputs": [
    {
     "name": "stdout",
     "output_type": "stream",
     "text": [
      "There are 217822 duplicate rows\n"
     ]
    }
   ],
   "source": [
    "biogrid_no_duplicates = biogrid_no_self_loops[~biogrid_no_self_loops[[\"Official Symbol Interactor A\", \"Official Symbol Interactor B\"]].duplicated()]\n",
    "\n",
    "print(f\"There are {len(biogrid_no_self_loops) - len(biogrid_no_duplicates)} duplicate rows\")"
   ],
   "metadata": {
    "collapsed": false,
    "ExecuteTime": {
     "end_time": "2023-12-27T11:18:31.032924520Z",
     "start_time": "2023-12-27T11:18:30.540416952Z"
    }
   },
   "id": "8f50bd34972ae5d3"
  },
  {
   "cell_type": "markdown",
   "source": [
    "### Isolate LCC\n",
    "Finally, let's find the largest connected component (LCC) in the graph. The LCC is the largest subgraph that exists in our network. In this subgraph, every node can be reached from every other node."
   ],
   "metadata": {
    "collapsed": false
   },
   "id": "984c9de989024582"
  },
  {
   "cell_type": "code",
   "execution_count": 39,
   "outputs": [],
   "source": [
    "graph = nx.Graph()\n",
    "graph.add_edges_from(zip(biogrid_no_duplicates[\"Official Symbol Interactor A\"], biogrid_no_duplicates[\"Official Symbol Interactor B\"]))"
   ],
   "metadata": {
    "collapsed": false,
    "ExecuteTime": {
     "end_time": "2023-12-27T11:27:32.373260211Z",
     "start_time": "2023-12-27T11:27:31.248032115Z"
    }
   },
   "id": "eb5bd29c62edb04c"
  },
  {
   "cell_type": "markdown",
   "source": [
    "We can use the `connected_components` function from networkx to give us the nodes of the largest connected component. Then, we create a subgraph of these components."
   ],
   "metadata": {
    "collapsed": false
   },
   "id": "f3d0170894a0c97f"
  },
  {
   "cell_type": "code",
   "execution_count": 43,
   "outputs": [],
   "source": [
    "lcc_nodes = max(nx.connected_components(graph), key=len)\n",
    "lcc = graph.subgraph(lcc_nodes).copy()"
   ],
   "metadata": {
    "collapsed": false,
    "ExecuteTime": {
     "end_time": "2023-12-27T11:34:18.432274818Z",
     "start_time": "2023-12-27T11:34:18.312490976Z"
    }
   },
   "id": "60f9dcca25ceec22"
  },
  {
   "cell_type": "markdown",
   "source": [
    "## 1.2 Gather gene-disease associations\n",
    "We want to gather gene-disease associations to explore the links between genes associated with specific diseases and the proteins they interact with.\n",
    "\n",
    "I will use the DisGENET REST-API to fetch the cureated information associated with the **polydactyly** disease (C0152427). Since the API requirest an authentication token, we will load the one we got when we created our account there from an environment variable."
   ],
   "metadata": {
    "collapsed": false
   },
   "id": "61f15426aea17152"
  },
  {
   "cell_type": "code",
   "execution_count": 73,
   "outputs": [],
   "source": [
    "polydacytyl_concept_id = \"C0152427\"\n",
    "\n",
    "response = requests.get(f\"https://www.disgenet.org/api/gda/disease/{polydacytyl_concept_id}\", \n",
    "             params={\"source\":\"CURATED\"},\n",
    "             headers={'Authorization': f'Bearer {os.getenv(\"disgenet_api_token\")}'})"
   ],
   "metadata": {
    "collapsed": false,
    "ExecuteTime": {
     "end_time": "2023-12-27T13:08:24.584928058Z",
     "start_time": "2023-12-27T13:08:20.632512457Z"
    }
   },
   "id": "8e8cafd3b6df69c2"
  },
  {
   "cell_type": "markdown",
   "source": [
    "Let's take the response and turn it into a pandas dataframe to be able to work with it."
   ],
   "metadata": {
    "collapsed": false
   },
   "id": "4a4176ec91b35a76"
  },
  {
   "cell_type": "code",
   "execution_count": 78,
   "outputs": [],
   "source": [
    "disease_df = pd.DataFrame(response.json())"
   ],
   "metadata": {
    "collapsed": false,
    "ExecuteTime": {
     "end_time": "2023-12-27T13:12:31.696549524Z",
     "start_time": "2023-12-27T13:12:31.694835042Z"
    }
   },
   "id": "299fec0ccb91d568"
  }
 ],
 "metadata": {
  "kernelspec": {
   "display_name": "Python 3",
   "language": "python",
   "name": "python3"
  },
  "language_info": {
   "codemirror_mode": {
    "name": "ipython",
    "version": 2
   },
   "file_extension": ".py",
   "mimetype": "text/x-python",
   "name": "python",
   "nbconvert_exporter": "python",
   "pygments_lexer": "ipython2",
   "version": "2.7.6"
  }
 },
 "nbformat": 4,
 "nbformat_minor": 5
}
