{
 "cells": [
  {
   "cell_type": "markdown",
   "source": [
    "# 1. PPI and GDA data gathering and interactome reconstruction"
   ],
   "metadata": {
    "collapsed": false
   },
   "id": "cc508417603fb3f"
  },
  {
   "cell_type": "markdown",
   "source": [
    "## 1.1.\n",
    "Download PPIs from BioGRID latest release to build the human interactome:\n",
    "\n",
    "* use “all organisms” tab3 file, unzip and get “Homo sapiens” only\n",
    "* filter out all non-human interactions, i.e., both “organism A” and “B” fields must be = 9606 (Homo sapiens)\n",
    "* keep only “physical” interactions” (“Experimental System Type” = physical)\n",
    "* purge out redundant and self loops\n",
    "* isolate the largest connected component (LCC)"
   ],
   "metadata": {
    "collapsed": false
   },
   "id": "8c29576be357a245"
  },
  {
   "cell_type": "code",
   "execution_count": 1,
   "outputs": [],
   "source": [
    "import os\n",
    "import zipfile\n",
    "from pathlib import Path\n",
    "\n",
    "import matplotlib.pyplot as plt\n",
    "import networkx as nx\n",
    "import pandas as pd\n",
    "import requests\n",
    "from dotenv import load_dotenv"
   ],
   "metadata": {
    "collapsed": false,
    "ExecuteTime": {
     "end_time": "2024-01-07T14:20:27.925024226Z",
     "start_time": "2024-01-07T14:20:27.306784285Z"
    }
   },
   "id": "1223f1168478a1ec"
  },
  {
   "cell_type": "markdown",
   "source": [
    "Load the environment variables from the `.env` file. If you don't have an `.env` file, create one and place the API token for DisGenet inside. \n",
    "\n",
    "```\n",
    "disgenet_api_token=\"<api token>\"\n",
    "```"
   ],
   "metadata": {
    "collapsed": false
   },
   "id": "41b4345ae21a12e2"
  },
  {
   "cell_type": "code",
   "execution_count": 2,
   "outputs": [
    {
     "data": {
      "text/plain": "True"
     },
     "execution_count": 2,
     "metadata": {},
     "output_type": "execute_result"
    }
   ],
   "source": [
    "load_dotenv()"
   ],
   "metadata": {
    "collapsed": false,
    "ExecuteTime": {
     "end_time": "2024-01-07T14:20:28.360172650Z",
     "start_time": "2024-01-07T14:20:28.355824977Z"
    }
   },
   "id": "446d66ca72fb4b6d"
  },
  {
   "cell_type": "markdown",
   "source": [
    "If you haven't already, download the biogrid data, unzip it and place the homo sapiens txt file inside the `data/` directory."
   ],
   "metadata": {
    "collapsed": false
   },
   "id": "643fba2329e8f775"
  },
  {
   "cell_type": "code",
   "execution_count": 47,
   "outputs": [
    {
     "name": "stdout",
     "output_type": "stream",
     "text": [
      "--2023-12-27 12:54:05--  https://downloads.thebiogrid.org/Download/BioGRID/Latest-Release/BIOGRID-ORGANISM-LATEST.tab3.zip\r\n",
      "Resolving downloads.thebiogrid.org (downloads.thebiogrid.org)... 173.255.198.187\r\n",
      "Connecting to downloads.thebiogrid.org (downloads.thebiogrid.org)|173.255.198.187|:443... connected.\r\n",
      "HTTP request sent, awaiting response... 200 OK\r\n",
      "Length: unspecified [application/download]\r\n",
      "Saving to: ‘biogrid.zip’\r\n",
      "\r\n",
      "biogrid.zip             [                 <=>] 159.74M  1.61MB/s    in 1m 52s  \r\n",
      "\r\n",
      "2023-12-27 12:56:00 (1.43 MB/s) - ‘biogrid.zip’ saved [167496760]\r\n",
      "\r\n"
     ]
    }
   ],
   "source": [
    "!wget -O biogrid.zip https://downloads.thebiogrid.org/Download/BioGRID/Latest-Release/BIOGRID-ORGANISM-LATEST.tab3.zip"
   ],
   "metadata": {
    "collapsed": false,
    "ExecuteTime": {
     "end_time": "2023-12-27T11:56:00.378422610Z",
     "start_time": "2023-12-27T11:54:05.591018082Z"
    }
   },
   "id": "8032da20b663cade"
  },
  {
   "cell_type": "markdown",
   "source": [
    "Then, let's extract the homo sapiens file into the `data/` directory."
   ],
   "metadata": {
    "collapsed": false
   },
   "id": "a600bfdc8fd00d02"
  },
  {
   "cell_type": "code",
   "execution_count": 58,
   "outputs": [],
   "source": [
    "data_folder = \"data\"\n",
    "Path(data_folder).mkdir(parents=True, exist_ok=True)\n",
    "\n",
    "with zipfile.ZipFile(\"biogrid.zip\", 'r') as zip_ref:\n",
    "        # Iterate through the files in the zip archive\n",
    "        for file_info in zip_ref.infolist():\n",
    "            # Check if the file name matches the target filename\n",
    "            if \"Homo_sapiens\" in file_info.filename:\n",
    "                # Extract the file to the target folder\n",
    "                zip_ref.extract(file_info, data_folder)\n",
    "                \n",
    "                # rename the file\n",
    "                os.rename(os.path.join(data_folder, file_info.filename), os.path.join(data_folder, \"biogrid.txt\"))\n",
    "                break"
   ],
   "metadata": {
    "collapsed": false,
    "ExecuteTime": {
     "end_time": "2023-12-27T12:09:17.983397214Z",
     "start_time": "2023-12-27T12:09:16.026719447Z"
    }
   },
   "id": "2970d4305f9cd0b8"
  },
  {
   "cell_type": "markdown",
   "source": [
    "Let's load the file, it is **tab separated** so we need to specify the tab separator `\\t`. Also, some of the columns have mixed data types, so we set `low_memory=False`."
   ],
   "metadata": {
    "collapsed": false
   },
   "id": "54174458a8bc93fe"
  },
  {
   "cell_type": "code",
   "execution_count": 3,
   "outputs": [],
   "source": [
    "biogrid = pd.read_csv(\"data/biogrid.txt\", sep=\"\\t\", low_memory=False)"
   ],
   "metadata": {
    "collapsed": false,
    "ExecuteTime": {
     "end_time": "2024-01-07T14:20:42.129943504Z",
     "start_time": "2024-01-07T14:20:34.292278536Z"
    }
   },
   "id": "d345b0a804b3e865"
  },
  {
   "cell_type": "markdown",
   "source": [
    "For an explanation of the different columns, we can check the [biogrid wiki](https://wiki.thebiogrid.org/doku.php/biogrid_tab_version_3.0)."
   ],
   "metadata": {
    "collapsed": false
   },
   "id": "df72c0caabc8b2c6"
  },
  {
   "cell_type": "code",
   "execution_count": 89,
   "outputs": [
    {
     "data": {
      "text/plain": "         #BioGRID Interaction ID Entrez Gene Interactor A  \\\n0                            103                     6416   \n1                            117                    84665   \n2                            183                       90   \n3                            278                     2624   \n4                            418                     6118   \n...                          ...                      ...   \n1188614                  3590145                   253260   \n1188615                  3590146                   253260   \n1188616                  3590147                     7189   \n1188617                  3621586                     8237   \n1188618                  3621587                     1956   \n\n        Entrez Gene Interactor B  BioGRID ID Interactor A  \\\n0                           2318                   112315   \n1                             88                   124185   \n2                           2339                   106605   \n3                           5371                   108894   \n4                           6774                   112038   \n...                          ...                      ...   \n1188614                     7408                   128962   \n1188615                     1072                   128962   \n1188616                     4217                   113041   \n1188617                     1956                   113866   \n1188618                     8237                   108276   \n\n         BioGRID ID Interactor B Systematic Name Interactor A  \\\n0                         108607                            -   \n1                         106603                            -   \n2                         108625                            -   \n3                         111384                            -   \n4                         112651                  RP4-547C9.3   \n...                          ...                          ...   \n1188614                   113251                            -   \n1188615                   107499                            -   \n1188616                   110381                            -   \n1188617                   108276                 RP4-659F15.2   \n1188618                   113866                            -   \n\n        Systematic Name Interactor B Official Symbol Interactor A  \\\n0                                  -                       MAP2K4   \n1                                  -                         MYPN   \n2                                  -                        ACVR1   \n3                                  -                        GATA2   \n4                                  -                         RPA2   \n...                              ...                          ...   \n1188614                            -                       RICTOR   \n1188615                            -                       RICTOR   \n1188616                 RP3-325F22.4                        TRAF6   \n1188617                            -                        USP11   \n1188618                 RP4-659F15.2                         EGFR   \n\n        Official Symbol Interactor B  \\\n0                               FLNC   \n1                              ACTN2   \n2                               FNTA   \n3                                PML   \n4                              STAT3   \n...                              ...   \n1188614                         VASP   \n1188615                         CFL1   \n1188616                       MAP3K5   \n1188617                         EGFR   \n1188618                        USP11   \n\n                                     Synonyms Interactor A  ...  \\\n0        JNKK|JNKK1|MAPKK4|MEK4|MKK4|PRKMK4|SAPKK-1|SAP...  ...   \n1                                   CMD1DD|CMH22|MYOP|RCM4  ...   \n2                  ACTRI|ACVR1A|ACVRLK2|ALK2|FOP|SKR1|TSRI  ...   \n3                                 DCML|IMD21|MONOMAC|NFE1B  ...   \n4                            REPA2|RP-A p32|RP-A p34|RPA32  ...   \n...                                                    ...  ...   \n1188614                                     AVO3|PIA|hAVO3  ...   \n1188615                                     AVO3|PIA|hAVO3  ...   \n1188616                                     MGC:3310|RNF85  ...   \n1188617                                               UHX1  ...   \n1188618                  ERBB|ERBB1|HER1|NISBD2|PIG61|mENA  ...   \n\n        TREMBL Accessions Interactor B  \\\n0                               Q59H94   \n1                        Q59FD9|F6THM6   \n2                                    -   \n3                                    -   \n4                                    -   \n...                                ...   \n1188614                     A0A024R0V4   \n1188615                         V9HWI5   \n1188616                              -   \n1188617                              -   \n1188618                         B4DGK3   \n\n                            REFSEQ Accessions Interactor B Ontology Term IDs  \\\n0                                   NP_001120959|NP_001449                 -   \n1                      NP_001094|NP_001265272|NP_001265273                 -   \n2                                                NP_002018                 -   \n3        NP_150250|NP_150253|NP_150252|NP_150247|NP_150...                 -   \n4        NP_644805|NP_003141|NP_001356447|NP_001356443|...                 -   \n...                                                    ...               ...   \n1188614                                          NP_003361                 -   \n1188615                                          NP_005498                 -   \n1188616                                          NP_005914                 -   \n1188617  NP_001333829|NP_001333828|NP_958440|NP_005219|...                 -   \n1188618                             NP_004642|NP_001358001                 -   \n\n        Ontology Term Names Ontology Term Categories  \\\n0                         -                        -   \n1                         -                        -   \n2                         -                        -   \n3                         -                        -   \n4                         -                        -   \n...                     ...                      ...   \n1188614                   -                        -   \n1188615                   -                        -   \n1188616                   -                        -   \n1188617                   -                        -   \n1188618                   -                        -   \n\n         Ontology Term Qualifier IDs  Ontology Term Qualifier Names  \\\n0                                  -                              -   \n1                                  -                              -   \n2                                  -                              -   \n3                                  -                              -   \n4                                  -                              -   \n...                              ...                            ...   \n1188614                            -                              -   \n1188615                            -                              -   \n1188616                            -                              -   \n1188617                            -                              -   \n1188618                            -                              -   \n\n        Ontology Term Types Organism Name Interactor A  \\\n0                         -               Homo sapiens   \n1                         -               Homo sapiens   \n2                         -               Homo sapiens   \n3                         -               Homo sapiens   \n4                         -               Homo sapiens   \n...                     ...                        ...   \n1188614                   -               Homo sapiens   \n1188615                   -               Homo sapiens   \n1188616                   -               Homo sapiens   \n1188617                   -               Homo sapiens   \n1188618                   -               Homo sapiens   \n\n        Organism Name Interactor B  \n0                     Homo sapiens  \n1                     Homo sapiens  \n2                     Homo sapiens  \n3                     Homo sapiens  \n4                     Homo sapiens  \n...                            ...  \n1188614               Homo sapiens  \n1188615               Homo sapiens  \n1188616               Homo sapiens  \n1188617               Homo sapiens  \n1188618               Homo sapiens  \n\n[1188619 rows x 37 columns]",
      "text/html": "<div>\n<style scoped>\n    .dataframe tbody tr th:only-of-type {\n        vertical-align: middle;\n    }\n\n    .dataframe tbody tr th {\n        vertical-align: top;\n    }\n\n    .dataframe thead th {\n        text-align: right;\n    }\n</style>\n<table border=\"1\" class=\"dataframe\">\n  <thead>\n    <tr style=\"text-align: right;\">\n      <th></th>\n      <th>#BioGRID Interaction ID</th>\n      <th>Entrez Gene Interactor A</th>\n      <th>Entrez Gene Interactor B</th>\n      <th>BioGRID ID Interactor A</th>\n      <th>BioGRID ID Interactor B</th>\n      <th>Systematic Name Interactor A</th>\n      <th>Systematic Name Interactor B</th>\n      <th>Official Symbol Interactor A</th>\n      <th>Official Symbol Interactor B</th>\n      <th>Synonyms Interactor A</th>\n      <th>...</th>\n      <th>TREMBL Accessions Interactor B</th>\n      <th>REFSEQ Accessions Interactor B</th>\n      <th>Ontology Term IDs</th>\n      <th>Ontology Term Names</th>\n      <th>Ontology Term Categories</th>\n      <th>Ontology Term Qualifier IDs</th>\n      <th>Ontology Term Qualifier Names</th>\n      <th>Ontology Term Types</th>\n      <th>Organism Name Interactor A</th>\n      <th>Organism Name Interactor B</th>\n    </tr>\n  </thead>\n  <tbody>\n    <tr>\n      <th>0</th>\n      <td>103</td>\n      <td>6416</td>\n      <td>2318</td>\n      <td>112315</td>\n      <td>108607</td>\n      <td>-</td>\n      <td>-</td>\n      <td>MAP2K4</td>\n      <td>FLNC</td>\n      <td>JNKK|JNKK1|MAPKK4|MEK4|MKK4|PRKMK4|SAPKK-1|SAP...</td>\n      <td>...</td>\n      <td>Q59H94</td>\n      <td>NP_001120959|NP_001449</td>\n      <td>-</td>\n      <td>-</td>\n      <td>-</td>\n      <td>-</td>\n      <td>-</td>\n      <td>-</td>\n      <td>Homo sapiens</td>\n      <td>Homo sapiens</td>\n    </tr>\n    <tr>\n      <th>1</th>\n      <td>117</td>\n      <td>84665</td>\n      <td>88</td>\n      <td>124185</td>\n      <td>106603</td>\n      <td>-</td>\n      <td>-</td>\n      <td>MYPN</td>\n      <td>ACTN2</td>\n      <td>CMD1DD|CMH22|MYOP|RCM4</td>\n      <td>...</td>\n      <td>Q59FD9|F6THM6</td>\n      <td>NP_001094|NP_001265272|NP_001265273</td>\n      <td>-</td>\n      <td>-</td>\n      <td>-</td>\n      <td>-</td>\n      <td>-</td>\n      <td>-</td>\n      <td>Homo sapiens</td>\n      <td>Homo sapiens</td>\n    </tr>\n    <tr>\n      <th>2</th>\n      <td>183</td>\n      <td>90</td>\n      <td>2339</td>\n      <td>106605</td>\n      <td>108625</td>\n      <td>-</td>\n      <td>-</td>\n      <td>ACVR1</td>\n      <td>FNTA</td>\n      <td>ACTRI|ACVR1A|ACVRLK2|ALK2|FOP|SKR1|TSRI</td>\n      <td>...</td>\n      <td>-</td>\n      <td>NP_002018</td>\n      <td>-</td>\n      <td>-</td>\n      <td>-</td>\n      <td>-</td>\n      <td>-</td>\n      <td>-</td>\n      <td>Homo sapiens</td>\n      <td>Homo sapiens</td>\n    </tr>\n    <tr>\n      <th>3</th>\n      <td>278</td>\n      <td>2624</td>\n      <td>5371</td>\n      <td>108894</td>\n      <td>111384</td>\n      <td>-</td>\n      <td>-</td>\n      <td>GATA2</td>\n      <td>PML</td>\n      <td>DCML|IMD21|MONOMAC|NFE1B</td>\n      <td>...</td>\n      <td>-</td>\n      <td>NP_150250|NP_150253|NP_150252|NP_150247|NP_150...</td>\n      <td>-</td>\n      <td>-</td>\n      <td>-</td>\n      <td>-</td>\n      <td>-</td>\n      <td>-</td>\n      <td>Homo sapiens</td>\n      <td>Homo sapiens</td>\n    </tr>\n    <tr>\n      <th>4</th>\n      <td>418</td>\n      <td>6118</td>\n      <td>6774</td>\n      <td>112038</td>\n      <td>112651</td>\n      <td>RP4-547C9.3</td>\n      <td>-</td>\n      <td>RPA2</td>\n      <td>STAT3</td>\n      <td>REPA2|RP-A p32|RP-A p34|RPA32</td>\n      <td>...</td>\n      <td>-</td>\n      <td>NP_644805|NP_003141|NP_001356447|NP_001356443|...</td>\n      <td>-</td>\n      <td>-</td>\n      <td>-</td>\n      <td>-</td>\n      <td>-</td>\n      <td>-</td>\n      <td>Homo sapiens</td>\n      <td>Homo sapiens</td>\n    </tr>\n    <tr>\n      <th>...</th>\n      <td>...</td>\n      <td>...</td>\n      <td>...</td>\n      <td>...</td>\n      <td>...</td>\n      <td>...</td>\n      <td>...</td>\n      <td>...</td>\n      <td>...</td>\n      <td>...</td>\n      <td>...</td>\n      <td>...</td>\n      <td>...</td>\n      <td>...</td>\n      <td>...</td>\n      <td>...</td>\n      <td>...</td>\n      <td>...</td>\n      <td>...</td>\n      <td>...</td>\n      <td>...</td>\n    </tr>\n    <tr>\n      <th>1188614</th>\n      <td>3590145</td>\n      <td>253260</td>\n      <td>7408</td>\n      <td>128962</td>\n      <td>113251</td>\n      <td>-</td>\n      <td>-</td>\n      <td>RICTOR</td>\n      <td>VASP</td>\n      <td>AVO3|PIA|hAVO3</td>\n      <td>...</td>\n      <td>A0A024R0V4</td>\n      <td>NP_003361</td>\n      <td>-</td>\n      <td>-</td>\n      <td>-</td>\n      <td>-</td>\n      <td>-</td>\n      <td>-</td>\n      <td>Homo sapiens</td>\n      <td>Homo sapiens</td>\n    </tr>\n    <tr>\n      <th>1188615</th>\n      <td>3590146</td>\n      <td>253260</td>\n      <td>1072</td>\n      <td>128962</td>\n      <td>107499</td>\n      <td>-</td>\n      <td>-</td>\n      <td>RICTOR</td>\n      <td>CFL1</td>\n      <td>AVO3|PIA|hAVO3</td>\n      <td>...</td>\n      <td>V9HWI5</td>\n      <td>NP_005498</td>\n      <td>-</td>\n      <td>-</td>\n      <td>-</td>\n      <td>-</td>\n      <td>-</td>\n      <td>-</td>\n      <td>Homo sapiens</td>\n      <td>Homo sapiens</td>\n    </tr>\n    <tr>\n      <th>1188616</th>\n      <td>3590147</td>\n      <td>7189</td>\n      <td>4217</td>\n      <td>113041</td>\n      <td>110381</td>\n      <td>-</td>\n      <td>RP3-325F22.4</td>\n      <td>TRAF6</td>\n      <td>MAP3K5</td>\n      <td>MGC:3310|RNF85</td>\n      <td>...</td>\n      <td>-</td>\n      <td>NP_005914</td>\n      <td>-</td>\n      <td>-</td>\n      <td>-</td>\n      <td>-</td>\n      <td>-</td>\n      <td>-</td>\n      <td>Homo sapiens</td>\n      <td>Homo sapiens</td>\n    </tr>\n    <tr>\n      <th>1188617</th>\n      <td>3621586</td>\n      <td>8237</td>\n      <td>1956</td>\n      <td>113866</td>\n      <td>108276</td>\n      <td>RP4-659F15.2</td>\n      <td>-</td>\n      <td>USP11</td>\n      <td>EGFR</td>\n      <td>UHX1</td>\n      <td>...</td>\n      <td>-</td>\n      <td>NP_001333829|NP_001333828|NP_958440|NP_005219|...</td>\n      <td>-</td>\n      <td>-</td>\n      <td>-</td>\n      <td>-</td>\n      <td>-</td>\n      <td>-</td>\n      <td>Homo sapiens</td>\n      <td>Homo sapiens</td>\n    </tr>\n    <tr>\n      <th>1188618</th>\n      <td>3621587</td>\n      <td>1956</td>\n      <td>8237</td>\n      <td>108276</td>\n      <td>113866</td>\n      <td>-</td>\n      <td>RP4-659F15.2</td>\n      <td>EGFR</td>\n      <td>USP11</td>\n      <td>ERBB|ERBB1|HER1|NISBD2|PIG61|mENA</td>\n      <td>...</td>\n      <td>B4DGK3</td>\n      <td>NP_004642|NP_001358001</td>\n      <td>-</td>\n      <td>-</td>\n      <td>-</td>\n      <td>-</td>\n      <td>-</td>\n      <td>-</td>\n      <td>Homo sapiens</td>\n      <td>Homo sapiens</td>\n    </tr>\n  </tbody>\n</table>\n<p>1188619 rows × 37 columns</p>\n</div>"
     },
     "execution_count": 89,
     "metadata": {},
     "output_type": "execute_result"
    }
   ],
   "source": [
    "biogrid"
   ],
   "metadata": {
    "collapsed": false,
    "ExecuteTime": {
     "end_time": "2023-12-27T14:00:43.128933793Z",
     "start_time": "2023-12-27T14:00:42.726172513Z"
    }
   },
   "id": "1193ea22855e3dc4"
  },
  {
   "cell_type": "markdown",
   "source": [
    "### Filter out all non-human interactions, i.e., both “organism A” and “B” fields must be = 9606 (Homo sapiens)\n",
    "First, we only keep human PPIs. The organism A and B columns are columns `Organism ID Interactor A` and `Organism ID Interactor B`."
   ],
   "metadata": {
    "collapsed": false
   },
   "id": "9fea19f2236a2cb"
  },
  {
   "cell_type": "code",
   "execution_count": 4,
   "outputs": [],
   "source": [
    "biogrid_human = biogrid[(biogrid[\"Organism ID Interactor A\"] == 9606) & (biogrid[\"Organism ID Interactor B\"] == 9606)]"
   ],
   "metadata": {
    "collapsed": false,
    "ExecuteTime": {
     "end_time": "2024-01-07T14:20:42.323408549Z",
     "start_time": "2024-01-07T14:20:42.131351036Z"
    }
   },
   "id": "eb9d737cbcda21dc"
  },
  {
   "cell_type": "markdown",
   "source": [
    "### Keep only “physical” interactions” (“Experimental System Type” = physical)\n",
    "Then, let's remove all non-physical interactions."
   ],
   "metadata": {
    "collapsed": false
   },
   "id": "77aad87aab2cd902"
  },
  {
   "cell_type": "code",
   "execution_count": 5,
   "outputs": [],
   "source": [
    "biogrid_human_physical = biogrid_human[biogrid_human[\"Experimental System Type\"] == \"physical\"]"
   ],
   "metadata": {
    "collapsed": false,
    "ExecuteTime": {
     "end_time": "2024-01-07T14:20:42.538745650Z",
     "start_time": "2024-01-07T14:20:42.354714482Z"
    }
   },
   "id": "95dd02692ff5fc93"
  },
  {
   "cell_type": "markdown",
   "source": [
    "### Purge out redundant and self loops\n",
    "Some of PPIs could be between proteins and themselves. If we think of the interactions as a graph structure, any edge that refers to its origin node can be removed. We can also remove any duplicate edges between nodes."
   ],
   "metadata": {
    "collapsed": false
   },
   "id": "fb1d59285fd00fe3"
  },
  {
   "cell_type": "markdown",
   "source": [
    "First, let's remove the self-loops by checking where the **Offical Symbol Interactor** columns are the same."
   ],
   "metadata": {
    "collapsed": false
   },
   "id": "be166b2f31025b97"
  },
  {
   "cell_type": "code",
   "execution_count": 6,
   "outputs": [
    {
     "name": "stdout",
     "output_type": "stream",
     "text": [
      "Total number of self loops 7375\n"
     ]
    }
   ],
   "source": [
    "biogrid_no_self_loops = biogrid_human_physical[biogrid_human_physical[\"Official Symbol Interactor A\"] != biogrid_human_physical[\"Official Symbol Interactor B\"]]\n",
    "\n",
    "print(f\"Total number of self loops {len(biogrid_human_physical) - len(biogrid_no_self_loops)}\")"
   ],
   "metadata": {
    "collapsed": false,
    "ExecuteTime": {
     "end_time": "2024-01-07T14:20:42.763142273Z",
     "start_time": "2024-01-07T14:20:42.583862248Z"
    }
   },
   "id": "6e9b2bfbb046f22d"
  },
  {
   "cell_type": "markdown",
   "source": [
    "As a next step, let's also remove all duplicate rows for the **Official Symbol Interactor A/B**, since we want to build a **simple** graph out of these interactors and not a **multi-graph**."
   ],
   "metadata": {
    "collapsed": false
   },
   "id": "8c812e9330469bfc"
  },
  {
   "cell_type": "code",
   "execution_count": 7,
   "outputs": [
    {
     "name": "stdout",
     "output_type": "stream",
     "text": [
      "There are 217822 duplicate rows\n"
     ]
    }
   ],
   "source": [
    "biogrid_no_duplicates = biogrid_no_self_loops[~biogrid_no_self_loops[[\"Official Symbol Interactor A\", \"Official Symbol Interactor B\"]].duplicated()]\n",
    "\n",
    "print(f\"There are {len(biogrid_no_self_loops) - len(biogrid_no_duplicates)} duplicate rows\")"
   ],
   "metadata": {
    "collapsed": false,
    "ExecuteTime": {
     "end_time": "2024-01-07T14:20:45.174385568Z",
     "start_time": "2024-01-07T14:20:44.923575602Z"
    }
   },
   "id": "8f50bd34972ae5d3"
  },
  {
   "cell_type": "markdown",
   "source": [
    "### Save Network File\n",
    "For point 2, we need the network file, which consists of an edge list of the PPIs. We use the Entrez IDs because the disease data that we fetch later maps to this ID type."
   ],
   "metadata": {
    "collapsed": false
   },
   "id": "8210b7446fa4cdf3"
  },
  {
   "cell_type": "code",
   "execution_count": 8,
   "outputs": [],
   "source": [
    "biogrid_no_duplicates[[\"Entrez Gene Interactor A\", \"Entrez Gene Interactor B\"]].to_csv(\"ppi.txt\", index=False, header=False)"
   ],
   "metadata": {
    "collapsed": false,
    "ExecuteTime": {
     "end_time": "2024-01-07T14:20:47.419818661Z",
     "start_time": "2024-01-07T14:20:46.983667628Z"
    }
   },
   "id": "dd585c757159d142"
  },
  {
   "cell_type": "markdown",
   "source": [
    "### Isolate LCC\n",
    "Finally, let's find the largest connected component (LCC) in the graph. The LCC is the largest subgraph that exists in our network. In this subgraph, every node can be reached from every other node."
   ],
   "metadata": {
    "collapsed": false
   },
   "id": "984c9de989024582"
  },
  {
   "cell_type": "code",
   "execution_count": 9,
   "outputs": [],
   "source": [
    "ppi_graph = nx.Graph()\n",
    "ppi_graph.add_edges_from(zip(biogrid_no_duplicates[\"Official Symbol Interactor A\"], biogrid_no_duplicates[\"Official Symbol Interactor B\"]))"
   ],
   "metadata": {
    "collapsed": false,
    "ExecuteTime": {
     "end_time": "2024-01-07T14:20:50.864919255Z",
     "start_time": "2024-01-07T14:20:49.600928312Z"
    }
   },
   "id": "eb5bd29c62edb04c"
  },
  {
   "cell_type": "markdown",
   "source": [
    "We can use the `connected_components` function from networkx to give us the nodes of the largest connected component. Then, we create a subgraph of these components."
   ],
   "metadata": {
    "collapsed": false
   },
   "id": "f3d0170894a0c97f"
  },
  {
   "cell_type": "code",
   "execution_count": 10,
   "outputs": [],
   "source": [
    "ppi_lcc_nodes = max(nx.connected_components(ppi_graph), key=len)\n",
    "ppi_lcc = ppi_graph.subgraph(ppi_lcc_nodes).copy()"
   ],
   "metadata": {
    "collapsed": false,
    "ExecuteTime": {
     "end_time": "2024-01-07T14:20:55.123232295Z",
     "start_time": "2024-01-07T14:20:52.093596242Z"
    }
   },
   "id": "60f9dcca25ceec22"
  },
  {
   "cell_type": "markdown",
   "source": [
    "## 1.2 Gather gene-disease associations\n",
    "We want to gather gene-disease associations to explore the links between genes associated with specific diseases and the proteins they interact with.\n",
    "\n",
    "I will use the DisGENET REST-API to fetch the cureated information associated with the **polydactyly** disease (C0152427). Since the API requirest an authentication token, we will load the one we got when we created our account there from an environment variable."
   ],
   "metadata": {
    "collapsed": false
   },
   "id": "61f15426aea17152"
  },
  {
   "cell_type": "code",
   "execution_count": 11,
   "outputs": [],
   "source": [
    "polydactyly_concept_id = \"C0152427\""
   ],
   "metadata": {
    "collapsed": false,
    "ExecuteTime": {
     "end_time": "2024-01-07T14:20:55.125619082Z",
     "start_time": "2024-01-07T14:20:55.124249902Z"
    }
   },
   "id": "5eac38567c290f1f"
  },
  {
   "cell_type": "code",
   "execution_count": 12,
   "outputs": [],
   "source": [
    "response = requests.get(f\"https://www.disgenet.org/api/gda/disease/{polydactyly_concept_id}\", \n",
    "             params={\"source\":\"CURATED\"},\n",
    "             headers={'Authorization': f'Bearer {os.getenv(\"disgenet_api_token\")}'})"
   ],
   "metadata": {
    "collapsed": false,
    "ExecuteTime": {
     "end_time": "2024-01-07T14:20:57.867150541Z",
     "start_time": "2024-01-07T14:20:56.148693092Z"
    }
   },
   "id": "8e8cafd3b6df69c2"
  },
  {
   "cell_type": "markdown",
   "source": [
    "Let's take the response and turn it into a pandas dataframe to be able to work with it. The columns in the dataframe have the following meaning:\n",
    "\n",
    "* geneId: NCBI Entrez Gene Identifier\n",
    "* geneSymbol: Official Gene Symbol\n",
    "* DSI: The Disease Specificity Index for the gene\n",
    "* DPI: The Disease Pleiotropy Index for the gene\n",
    "* PLI: The probability for the gene of being loss-of-function intolerant, provided by the GNOMAD consortium\n",
    "* protein_class: Protein Class identifier according to the Drug Target Ontology  \n",
    "* protein_class_name: Protein Class according to the Drug Target Ontology  \n",
    "* NofDiseases: Number of diseases associated to the gene\n",
    "* NofPmids: Number of publications associated to the gene\n",
    "\n",
    "[source](https://www.disgenet.org/static/disgenet_ap1/files/downloads/readme.txt)\n"
   ],
   "metadata": {
    "collapsed": false
   },
   "id": "4a4176ec91b35a76"
  },
  {
   "cell_type": "code",
   "execution_count": 13,
   "outputs": [],
   "source": [
    "disease_df = pd.DataFrame(response.json())\n",
    "disease_df.geneid = disease_df.geneid.astype(str)"
   ],
   "metadata": {
    "collapsed": false,
    "ExecuteTime": {
     "end_time": "2024-01-07T14:20:58.947491976Z",
     "start_time": "2024-01-07T14:20:58.945737840Z"
    }
   },
   "id": "299fec0ccb91d568"
  },
  {
   "cell_type": "markdown",
   "source": [
    "### Keep Seed Genes in Interactome\n",
    "We only want to keep the seed genes that are actually present in the PPI interactome."
   ],
   "metadata": {
    "collapsed": false
   },
   "id": "78244f85d397bd"
  },
  {
   "cell_type": "code",
   "execution_count": 14,
   "outputs": [],
   "source": [
    "disease_df_in_ppi = disease_df[disease_df.geneid.isin(biogrid_no_duplicates[\"Entrez Gene Interactor A\"]) & disease_df.geneid.isin(biogrid_no_duplicates[\"Entrez Gene Interactor B\"])]"
   ],
   "metadata": {
    "collapsed": false,
    "ExecuteTime": {
     "end_time": "2024-01-07T14:21:15.528345278Z",
     "start_time": "2024-01-07T14:21:15.494634053Z"
    }
   },
   "id": "c28c6bd93872c3aa"
  },
  {
   "cell_type": "markdown",
   "source": [
    "### Save Seed Genes\n",
    "As for the PPIs above, we need to save the disease genes as a `.txt` file. We only save the `geneid` because that is the only data we need to run the algorithms for point 2."
   ],
   "metadata": {
    "collapsed": false
   },
   "id": "8d4ed6c0d1d7d5b1"
  },
  {
   "cell_type": "code",
   "execution_count": 15,
   "outputs": [],
   "source": [
    "disease_df_in_ppi.geneid.to_csv(\"seed_genes.txt\", index=False, header=False)"
   ],
   "metadata": {
    "collapsed": false,
    "ExecuteTime": {
     "end_time": "2024-01-07T14:21:17.647878876Z",
     "start_time": "2024-01-07T14:21:17.641903075Z"
    }
   },
   "id": "fcfa00decf3d42af"
  },
  {
   "cell_type": "markdown",
   "source": [
    "## 1.3 Compute and characterize the disease LCC and its basic network measures\n",
    "We need to do the following:\n",
    "\n",
    "* isolate the LCC of the disease network\n",
    "* Summarize the GDA-related data\n",
    "* Compute the following network metrics on the disease LCC:\n",
    "    * Node degree\n",
    "    * Betweenness centrality\n",
    "    * Eigenvector centrality\n",
    "    * Closeness centrality\n",
    "    * ratio Betweenness/Node degree\n",
    "* Report in a table the above network measures of the first 50 disease genes\n",
    "in the disease LCC ordered for node degree from higher to lower\n",
    "* Represent node degree and node betweenness in a scatterplot"
   ],
   "metadata": {
    "collapsed": false
   },
   "id": "1b784707542c21ea"
  },
  {
   "cell_type": "markdown",
   "source": [
    "### Isolate LCC of the Disease Network\n",
    "Here we want to **overlap** the genes from GDA with the genes in PPI, using the Entrez Gene ID. First, let's select the PPIs that have Entrez Interactors in the polydactyly gene disease association data frame."
   ],
   "metadata": {
    "collapsed": false
   },
   "id": "1eeaf193a6c55329"
  },
  {
   "cell_type": "code",
   "execution_count": 16,
   "outputs": [],
   "source": [
    "# the PPIs that appear in the GDA\n",
    "disease_genes = biogrid_no_duplicates[(biogrid_no_duplicates[\"Entrez Gene Interactor A\"].isin(disease_df.geneid)) & (biogrid_no_duplicates[\"Entrez Gene Interactor B\"].isin(disease_df.geneid))]"
   ],
   "metadata": {
    "collapsed": false,
    "ExecuteTime": {
     "end_time": "2024-01-07T14:21:20.051735512Z",
     "start_time": "2024-01-07T14:21:20.006955729Z"
    }
   },
   "id": "8a79ba25fd16dadb"
  },
  {
   "cell_type": "code",
   "execution_count": 17,
   "outputs": [
    {
     "data": {
      "text/plain": "         #BioGRID Interaction ID Entrez Gene Interactor A  \\\n26281                     286709                    79659   \n26282                     286710                    51626   \n31663                     303378                     2263   \n108651                    719956                     4750   \n113324                    726261                     5296   \n...                          ...                      ...   \n1027743                  3362924                     5296   \n1119586                  3490560                     2260   \n1131157                  3509017                     2263   \n1131780                  3509640                     2261   \n1132263                  3510123                     2261   \n\n        Entrez Gene Interactor B  BioGRID ID Interactor A  \\\n26281                      51626                   122785   \n26282                      79659                   119644   \n31663                       2255                   108554   \n108651                     11127                   110825   \n113324                      5290                   111314   \n...                          ...                      ...   \n1027743                     8239                   111314   \n1119586                     2263                   108551   \n1131157                     5296                   108554   \n1131780                     2260                   108552   \n1132263                     8239                   108552   \n\n         BioGRID ID Interactor B Systematic Name Interactor A  \\\n26281                     119644                            -   \n26282                     122785                       CGI-60   \n31663                     108546                            -   \n108651                    116300                            -   \n113324                    111308                            -   \n...                          ...                          ...   \n1027743                   113867                            -   \n1119586                   108554                            -   \n1131157                   111314                            -   \n1131780                   108551                            -   \n1132263                   113867                            -   \n\n        Systematic Name Interactor B Official Symbol Interactor A  \\\n26281                         CGI-60                      DYNC2H1   \n26282                              -                     DYNC2LI1   \n31663                              -                        FGFR2   \n108651                             -                         NEK1   \n113324                             -                       PIK3R2   \n...                              ...                          ...   \n1027743                RP5-1172N10.4                       PIK3R2   \n1119586                            -                        FGFR1   \n1131157                            -                        FGFR2   \n1131780                            -                        FGFR3   \n1132263                RP5-1172N10.4                        FGFR3   \n\n        Official Symbol Interactor B  \\\n26281                       DYNC2LI1   \n26282                        DYNC2H1   \n31663                          FGF10   \n108651                         KIF3A   \n113324                        PIK3CA   \n...                              ...   \n1027743                        USP9X   \n1119586                        FGFR2   \n1131157                       PIK3R2   \n1131780                        FGFR1   \n1132263                        USP9X   \n\n                                     Synonyms Interactor A  ...  \\\n26281      ATD3|DHC1b|DHC2|DNCH2|DYH1B|SRPS2B|SRTD3|hdhc11  ...   \n26282                                           D2LIC|LIC3  ...   \n31663    BBDS|BEK|BFR-1|CD332|CEK3|CFD1|ECT1|JWS|K-SAM|...  ...   \n108651                        NY-REN-55|SRPS2|SRPS2A|SRTD6  ...   \n113324                        MPPH|MPPH1|P85B|p85|p85-BETA  ...   \n...                                                    ...  ...   \n1027743                       MPPH|MPPH1|P85B|p85|p85-BETA  ...   \n1119586  BFGFR|CD331|CEK|FGFBR|FGFR-1|FLG|FLT-2|FLT2|HB...  ...   \n1131157  BBDS|BEK|BFR-1|CD332|CEK3|CFD1|ECT1|JWS|K-SAM|...  ...   \n1131780                      ACH|CD333|CEK2|HSFGFR3EX|JTK4  ...   \n1132263                      ACH|CD333|CEK2|HSFGFR3EX|JTK4  ...   \n\n        TREMBL Accessions Interactor B  \\\n26281                                -   \n26282                                -   \n31663                                -   \n108651     E9PES4|J3KPF9|Q05CT3|B4DHG8   \n113324                               -   \n...                                ...   \n1027743                  Q6P468|Q86X58   \n1119586                  D3DRD5|D2CGD1   \n1131157                              -   \n1131780                              -   \n1132263                  Q6P468|Q86X58   \n\n                            REFSEQ Accessions Interactor B Ontology Term IDs  \\\n26281                     NP_056337|NP_057092|NP_001180393                 -   \n26282                               NP_001073932|NP_001368                 -   \n31663                                            NP_004456                 -   \n108651                 NP_008985|NP_001287720|NP_001287721                 -   \n113324                                           NP_006209       BTO:0000664   \n...                                                    ...               ...   \n1027743                          NP_001034680|NP_001034679                 -   \n1119586  NP_000132|NP_075259|NP_075418|NP_001138389|NP_...                 -   \n1131157                                          NP_005018                 -   \n1131780  NP_075598|NP_075593|NP_075594|NP_001167538|NP_...                 -   \n1132263                          NP_001034680|NP_001034679                 -   \n\n        Ontology Term Names Ontology Term Categories  \\\n26281                     -                        -   \n26282                     -                        -   \n31663                     -                        -   \n108651                    -                        -   \n113324           K-562 cell                cell line   \n...                     ...                      ...   \n1027743                   -                        -   \n1119586                   -                        -   \n1131157                   -                        -   \n1131780                   -                        -   \n1132263                   -                        -   \n\n         Ontology Term Qualifier IDs  Ontology Term Qualifier Names  \\\n26281                              -                              -   \n26282                              -                              -   \n31663                              -                              -   \n108651                             -                              -   \n113324                     DOID:8552       chronic myeloid leukemia   \n...                              ...                            ...   \n1027743                            -                              -   \n1119586                            -                              -   \n1131157                            -                              -   \n1131780                            -                              -   \n1132263                            -                              -   \n\n        Ontology Term Types Organism Name Interactor A  \\\n26281                     -               Homo sapiens   \n26282                     -               Homo sapiens   \n31663                     -               Homo sapiens   \n108651                    -               Homo sapiens   \n113324                    -               Homo sapiens   \n...                     ...                        ...   \n1027743                   -               Homo sapiens   \n1119586                   -               Homo sapiens   \n1131157                   -               Homo sapiens   \n1131780                   -               Homo sapiens   \n1132263                   -               Homo sapiens   \n\n        Organism Name Interactor B  \n26281                 Homo sapiens  \n26282                 Homo sapiens  \n31663                 Homo sapiens  \n108651                Homo sapiens  \n113324                Homo sapiens  \n...                            ...  \n1027743               Homo sapiens  \n1119586               Homo sapiens  \n1131157               Homo sapiens  \n1131780               Homo sapiens  \n1132263               Homo sapiens  \n\n[167 rows x 37 columns]",
      "text/html": "<div>\n<style scoped>\n    .dataframe tbody tr th:only-of-type {\n        vertical-align: middle;\n    }\n\n    .dataframe tbody tr th {\n        vertical-align: top;\n    }\n\n    .dataframe thead th {\n        text-align: right;\n    }\n</style>\n<table border=\"1\" class=\"dataframe\">\n  <thead>\n    <tr style=\"text-align: right;\">\n      <th></th>\n      <th>#BioGRID Interaction ID</th>\n      <th>Entrez Gene Interactor A</th>\n      <th>Entrez Gene Interactor B</th>\n      <th>BioGRID ID Interactor A</th>\n      <th>BioGRID ID Interactor B</th>\n      <th>Systematic Name Interactor A</th>\n      <th>Systematic Name Interactor B</th>\n      <th>Official Symbol Interactor A</th>\n      <th>Official Symbol Interactor B</th>\n      <th>Synonyms Interactor A</th>\n      <th>...</th>\n      <th>TREMBL Accessions Interactor B</th>\n      <th>REFSEQ Accessions Interactor B</th>\n      <th>Ontology Term IDs</th>\n      <th>Ontology Term Names</th>\n      <th>Ontology Term Categories</th>\n      <th>Ontology Term Qualifier IDs</th>\n      <th>Ontology Term Qualifier Names</th>\n      <th>Ontology Term Types</th>\n      <th>Organism Name Interactor A</th>\n      <th>Organism Name Interactor B</th>\n    </tr>\n  </thead>\n  <tbody>\n    <tr>\n      <th>26281</th>\n      <td>286709</td>\n      <td>79659</td>\n      <td>51626</td>\n      <td>122785</td>\n      <td>119644</td>\n      <td>-</td>\n      <td>CGI-60</td>\n      <td>DYNC2H1</td>\n      <td>DYNC2LI1</td>\n      <td>ATD3|DHC1b|DHC2|DNCH2|DYH1B|SRPS2B|SRTD3|hdhc11</td>\n      <td>...</td>\n      <td>-</td>\n      <td>NP_056337|NP_057092|NP_001180393</td>\n      <td>-</td>\n      <td>-</td>\n      <td>-</td>\n      <td>-</td>\n      <td>-</td>\n      <td>-</td>\n      <td>Homo sapiens</td>\n      <td>Homo sapiens</td>\n    </tr>\n    <tr>\n      <th>26282</th>\n      <td>286710</td>\n      <td>51626</td>\n      <td>79659</td>\n      <td>119644</td>\n      <td>122785</td>\n      <td>CGI-60</td>\n      <td>-</td>\n      <td>DYNC2LI1</td>\n      <td>DYNC2H1</td>\n      <td>D2LIC|LIC3</td>\n      <td>...</td>\n      <td>-</td>\n      <td>NP_001073932|NP_001368</td>\n      <td>-</td>\n      <td>-</td>\n      <td>-</td>\n      <td>-</td>\n      <td>-</td>\n      <td>-</td>\n      <td>Homo sapiens</td>\n      <td>Homo sapiens</td>\n    </tr>\n    <tr>\n      <th>31663</th>\n      <td>303378</td>\n      <td>2263</td>\n      <td>2255</td>\n      <td>108554</td>\n      <td>108546</td>\n      <td>-</td>\n      <td>-</td>\n      <td>FGFR2</td>\n      <td>FGF10</td>\n      <td>BBDS|BEK|BFR-1|CD332|CEK3|CFD1|ECT1|JWS|K-SAM|...</td>\n      <td>...</td>\n      <td>-</td>\n      <td>NP_004456</td>\n      <td>-</td>\n      <td>-</td>\n      <td>-</td>\n      <td>-</td>\n      <td>-</td>\n      <td>-</td>\n      <td>Homo sapiens</td>\n      <td>Homo sapiens</td>\n    </tr>\n    <tr>\n      <th>108651</th>\n      <td>719956</td>\n      <td>4750</td>\n      <td>11127</td>\n      <td>110825</td>\n      <td>116300</td>\n      <td>-</td>\n      <td>-</td>\n      <td>NEK1</td>\n      <td>KIF3A</td>\n      <td>NY-REN-55|SRPS2|SRPS2A|SRTD6</td>\n      <td>...</td>\n      <td>E9PES4|J3KPF9|Q05CT3|B4DHG8</td>\n      <td>NP_008985|NP_001287720|NP_001287721</td>\n      <td>-</td>\n      <td>-</td>\n      <td>-</td>\n      <td>-</td>\n      <td>-</td>\n      <td>-</td>\n      <td>Homo sapiens</td>\n      <td>Homo sapiens</td>\n    </tr>\n    <tr>\n      <th>113324</th>\n      <td>726261</td>\n      <td>5296</td>\n      <td>5290</td>\n      <td>111314</td>\n      <td>111308</td>\n      <td>-</td>\n      <td>-</td>\n      <td>PIK3R2</td>\n      <td>PIK3CA</td>\n      <td>MPPH|MPPH1|P85B|p85|p85-BETA</td>\n      <td>...</td>\n      <td>-</td>\n      <td>NP_006209</td>\n      <td>BTO:0000664</td>\n      <td>K-562 cell</td>\n      <td>cell line</td>\n      <td>DOID:8552</td>\n      <td>chronic myeloid leukemia</td>\n      <td>-</td>\n      <td>Homo sapiens</td>\n      <td>Homo sapiens</td>\n    </tr>\n    <tr>\n      <th>...</th>\n      <td>...</td>\n      <td>...</td>\n      <td>...</td>\n      <td>...</td>\n      <td>...</td>\n      <td>...</td>\n      <td>...</td>\n      <td>...</td>\n      <td>...</td>\n      <td>...</td>\n      <td>...</td>\n      <td>...</td>\n      <td>...</td>\n      <td>...</td>\n      <td>...</td>\n      <td>...</td>\n      <td>...</td>\n      <td>...</td>\n      <td>...</td>\n      <td>...</td>\n      <td>...</td>\n    </tr>\n    <tr>\n      <th>1027743</th>\n      <td>3362924</td>\n      <td>5296</td>\n      <td>8239</td>\n      <td>111314</td>\n      <td>113867</td>\n      <td>-</td>\n      <td>RP5-1172N10.4</td>\n      <td>PIK3R2</td>\n      <td>USP9X</td>\n      <td>MPPH|MPPH1|P85B|p85|p85-BETA</td>\n      <td>...</td>\n      <td>Q6P468|Q86X58</td>\n      <td>NP_001034680|NP_001034679</td>\n      <td>-</td>\n      <td>-</td>\n      <td>-</td>\n      <td>-</td>\n      <td>-</td>\n      <td>-</td>\n      <td>Homo sapiens</td>\n      <td>Homo sapiens</td>\n    </tr>\n    <tr>\n      <th>1119586</th>\n      <td>3490560</td>\n      <td>2260</td>\n      <td>2263</td>\n      <td>108551</td>\n      <td>108554</td>\n      <td>-</td>\n      <td>-</td>\n      <td>FGFR1</td>\n      <td>FGFR2</td>\n      <td>BFGFR|CD331|CEK|FGFBR|FGFR-1|FLG|FLT-2|FLT2|HB...</td>\n      <td>...</td>\n      <td>D3DRD5|D2CGD1</td>\n      <td>NP_000132|NP_075259|NP_075418|NP_001138389|NP_...</td>\n      <td>-</td>\n      <td>-</td>\n      <td>-</td>\n      <td>-</td>\n      <td>-</td>\n      <td>-</td>\n      <td>Homo sapiens</td>\n      <td>Homo sapiens</td>\n    </tr>\n    <tr>\n      <th>1131157</th>\n      <td>3509017</td>\n      <td>2263</td>\n      <td>5296</td>\n      <td>108554</td>\n      <td>111314</td>\n      <td>-</td>\n      <td>-</td>\n      <td>FGFR2</td>\n      <td>PIK3R2</td>\n      <td>BBDS|BEK|BFR-1|CD332|CEK3|CFD1|ECT1|JWS|K-SAM|...</td>\n      <td>...</td>\n      <td>-</td>\n      <td>NP_005018</td>\n      <td>-</td>\n      <td>-</td>\n      <td>-</td>\n      <td>-</td>\n      <td>-</td>\n      <td>-</td>\n      <td>Homo sapiens</td>\n      <td>Homo sapiens</td>\n    </tr>\n    <tr>\n      <th>1131780</th>\n      <td>3509640</td>\n      <td>2261</td>\n      <td>2260</td>\n      <td>108552</td>\n      <td>108551</td>\n      <td>-</td>\n      <td>-</td>\n      <td>FGFR3</td>\n      <td>FGFR1</td>\n      <td>ACH|CD333|CEK2|HSFGFR3EX|JTK4</td>\n      <td>...</td>\n      <td>-</td>\n      <td>NP_075598|NP_075593|NP_075594|NP_001167538|NP_...</td>\n      <td>-</td>\n      <td>-</td>\n      <td>-</td>\n      <td>-</td>\n      <td>-</td>\n      <td>-</td>\n      <td>Homo sapiens</td>\n      <td>Homo sapiens</td>\n    </tr>\n    <tr>\n      <th>1132263</th>\n      <td>3510123</td>\n      <td>2261</td>\n      <td>8239</td>\n      <td>108552</td>\n      <td>113867</td>\n      <td>-</td>\n      <td>RP5-1172N10.4</td>\n      <td>FGFR3</td>\n      <td>USP9X</td>\n      <td>ACH|CD333|CEK2|HSFGFR3EX|JTK4</td>\n      <td>...</td>\n      <td>Q6P468|Q86X58</td>\n      <td>NP_001034680|NP_001034679</td>\n      <td>-</td>\n      <td>-</td>\n      <td>-</td>\n      <td>-</td>\n      <td>-</td>\n      <td>-</td>\n      <td>Homo sapiens</td>\n      <td>Homo sapiens</td>\n    </tr>\n  </tbody>\n</table>\n<p>167 rows × 37 columns</p>\n</div>"
     },
     "execution_count": 17,
     "metadata": {},
     "output_type": "execute_result"
    }
   ],
   "source": [
    "disease_genes"
   ],
   "metadata": {
    "collapsed": false,
    "ExecuteTime": {
     "end_time": "2024-01-07T14:21:21.459451941Z",
     "start_time": "2024-01-07T14:21:21.416945482Z"
    }
   },
   "id": "4964d84c7699fb8a"
  },
  {
   "cell_type": "markdown",
   "source": [
    "Then, let's first create a graph from the PPIs that are associated with Polydactyly."
   ],
   "metadata": {
    "collapsed": false
   },
   "id": "4e818ba27aa4eb31"
  },
  {
   "cell_type": "code",
   "execution_count": 18,
   "outputs": [],
   "source": [
    "disease_ppi_graph = nx.Graph()\n",
    "disease_ppi_graph.add_edges_from(zip(disease_genes[\"Official Symbol Interactor A\"], disease_genes[\"Official Symbol Interactor B\"]))"
   ],
   "metadata": {
    "collapsed": false,
    "ExecuteTime": {
     "end_time": "2024-01-07T14:21:25.788659147Z",
     "start_time": "2024-01-07T14:21:25.784515819Z"
    }
   },
   "id": "12dd6f9781e49cae"
  },
  {
   "cell_type": "markdown",
   "source": [
    "Once we have the graph of the PPIs that are associated with Polydactyly, we can select the subgraph that has the most connected components."
   ],
   "metadata": {
    "collapsed": false
   },
   "id": "690bf7823ec95f4d"
  },
  {
   "cell_type": "code",
   "execution_count": 19,
   "outputs": [],
   "source": [
    "disease_ppi_lcc_nodes = max(nx.connected_components(disease_ppi_graph), key=len)\n",
    "disease_ppi_lcc = disease_ppi_graph.subgraph(disease_ppi_lcc_nodes).copy()"
   ],
   "metadata": {
    "collapsed": false,
    "ExecuteTime": {
     "end_time": "2024-01-07T14:21:28.937410711Z",
     "start_time": "2024-01-07T14:21:28.931934522Z"
    }
   },
   "id": "3e63af804cfb1eaa"
  },
  {
   "cell_type": "markdown",
   "source": [
    "### Summarise the GDA Related Data\n",
    "Here, we summarise the GDA data in a table."
   ],
   "metadata": {
    "collapsed": false
   },
   "id": "4630a2fa238bbb3d"
  },
  {
   "cell_type": "code",
   "execution_count": 20,
   "outputs": [],
   "source": [
    "disease_name = \"Polydactyly\"\n",
    "disease_id = polydactyly_concept_id\n",
    "disease_class = \"\"\n",
    "num_associated_genes = len(disease_df)\n",
    "num_genes_in_interactome = disease_ppi_graph.number_of_nodes()\n",
    "lcc_interactome_size = disease_ppi_lcc.number_of_nodes()"
   ],
   "metadata": {
    "collapsed": false,
    "ExecuteTime": {
     "end_time": "2024-01-07T14:21:31.134485818Z",
     "start_time": "2024-01-07T14:21:31.124426953Z"
    }
   },
   "id": "eca6151f1afce2b6"
  },
  {
   "cell_type": "code",
   "execution_count": 26,
   "outputs": [
    {
     "data": {
      "text/plain": "  Disease Name UMLS Disease ID MeSH Disease Class  Number of Associated Genes  \\\n0  Polydactyly        C0152427                                            117   \n\n   Number of Genes Present in Interactome  LCC Size of the Disease Interactome  \n0                                      77                                   62  ",
      "text/html": "<div>\n<style scoped>\n    .dataframe tbody tr th:only-of-type {\n        vertical-align: middle;\n    }\n\n    .dataframe tbody tr th {\n        vertical-align: top;\n    }\n\n    .dataframe thead th {\n        text-align: right;\n    }\n</style>\n<table border=\"1\" class=\"dataframe\">\n  <thead>\n    <tr style=\"text-align: right;\">\n      <th></th>\n      <th>Disease Name</th>\n      <th>UMLS Disease ID</th>\n      <th>MeSH Disease Class</th>\n      <th>Number of Associated Genes</th>\n      <th>Number of Genes Present in Interactome</th>\n      <th>LCC Size of the Disease Interactome</th>\n    </tr>\n  </thead>\n  <tbody>\n    <tr>\n      <th>0</th>\n      <td>Polydactyly</td>\n      <td>C0152427</td>\n      <td></td>\n      <td>117</td>\n      <td>77</td>\n      <td>62</td>\n    </tr>\n  </tbody>\n</table>\n</div>"
     },
     "metadata": {},
     "output_type": "display_data"
    }
   ],
   "source": [
    "gda_summary_df = pd.DataFrame(data=[[disease_name, disease_id, disease_class, num_associated_genes, num_genes_in_interactome, lcc_interactome_size]], columns=[\"Disease Name\", \"UMLS Disease ID\", \"MeSH Disease Class\", \"Number of Associated Genes\", \"Number of Genes Present in Interactome\", \"LCC Size of the Disease Interactome\"])\n",
    "gda_summary_df.to_csv(\"gda_summary_df.csv\", index=None)\n",
    "display(gda_summary_df)"
   ],
   "metadata": {
    "collapsed": false,
    "ExecuteTime": {
     "end_time": "2024-01-07T14:48:54.467116910Z",
     "start_time": "2024-01-07T14:48:54.425517400Z"
    }
   },
   "id": "c229e084746d977d"
  },
  {
   "cell_type": "markdown",
   "source": [
    "### Network Metrics\n",
    "Now, let's summarise the network metrics for the first 50 disease genes in the disease LCC ordered for node degree in descending order.\n",
    "\n",
    "First, we gather all the metrics on the entire graph using `networkx`, we can do this because it is a small graph. "
   ],
   "metadata": {
    "collapsed": false
   },
   "id": "ff10f3e01890fb1f"
  },
  {
   "cell_type": "code",
   "execution_count": 22,
   "outputs": [],
   "source": [
    "degrees = {node: nx.degree(disease_ppi_lcc, node) for  node in disease_ppi_lcc}\n",
    "betweenness_centralities = nx.betweenness_centrality(disease_ppi_lcc)\n",
    "eigenvector_centralities = nx.eigenvector_centrality(disease_ppi_lcc)\n",
    "closeness_centralities = nx.closeness_centrality(disease_ppi_lcc)"
   ],
   "metadata": {
    "collapsed": false,
    "ExecuteTime": {
     "end_time": "2024-01-07T14:22:12.830588929Z",
     "start_time": "2024-01-07T14:22:12.789799866Z"
    }
   },
   "id": "8e0453c6d82ef912"
  },
  {
   "cell_type": "markdown",
   "source": [
    "As the next step, let's rework the data so that we can create a nice pandas dataframe out of it. We will create a list of lists, where each nested list is a **row** in the dataframe.\n",
    "\n",
    "```\n",
    "[[gene, degree, betweenness, eigenvector, closeness, ratio]]\n",
    "```"
   ],
   "metadata": {
    "collapsed": false
   },
   "id": "9cc21ed29d10f47f"
  },
  {
   "cell_type": "code",
   "execution_count": 66,
   "outputs": [],
   "source": [
    "rows = []\n",
    "for node in disease_ppi_lcc:\n",
    "    degree = degrees[node]\n",
    "    betweenness = betweenness_centralities[node]\n",
    "    eigenvector = eigenvector_centralities[node]\n",
    "    closeness = closeness_centralities[node]\n",
    "    ratio = betweenness / degree\n",
    "    \n",
    "    rows.append([node, degree, betweenness, eigenvector, closeness, ratio])"
   ],
   "metadata": {
    "collapsed": false,
    "ExecuteTime": {
     "end_time": "2024-01-07T15:40:40.523282639Z",
     "start_time": "2024-01-07T15:40:40.516779516Z"
    }
   },
   "id": "c0635e80ebe39c17"
  },
  {
   "cell_type": "markdown",
   "source": [
    "Finally, we create the dataframe using the list of lists created in the cell above, save it, sort it, and display the first 50 rows."
   ],
   "metadata": {
    "collapsed": false
   },
   "id": "a5fa5e7fd6b7af2b"
  },
  {
   "cell_type": "code",
   "execution_count": 73,
   "outputs": [
    {
     "data": {
      "text/plain": "    Rank      Gene  Degree  Betweenness Centrality  Eigenvector Centrality  \\\n12     1      BBS7      11                  0.1690                  0.3681   \n26     2      OFD1      10                  0.5024                  0.0809   \n17     3     TCTN2       9                  0.1054                  0.0103   \n27     4    CC2D2A       9                  0.3007                  0.0245   \n10     5      BBS4       9                  0.2417                  0.3577   \n13     6      BBS1       8                  0.0951                  0.3469   \n8      7    LZTFL1       8                  0.0328                  0.3466   \n14     8      BBS9       7                  0.0000                  0.3407   \n24     9     IFT88       7                  0.1816                  0.0119   \n15    10      BBS5       7                  0.0000                  0.3407   \n11    11      TTC8       7                  0.0000                  0.3407   \n19    12      B9D2       7                  0.0341                  0.0097   \n9     13      BBS2       7                  0.0000                  0.3407   \n16    14   TMEM231       6                  0.0655                  0.0089   \n28    15    CEP290       6                  0.2630                  0.0271   \n51    16    IFT172       6                  0.0012                  0.0039   \n18    17      B9D1       5                  0.0000                  0.0087   \n22    18     IFT80       5                  0.0001                  0.0036   \n4     19    PIK3R2       5                  0.0620                  0.0009   \n52    20     IFT27       5                  0.0001                  0.0036   \n33    21     TCTN3       5                  0.0505                  0.0069   \n21    22      MKS1       5                  0.0000                  0.0087   \n36    23    CEP120       5                  0.0835                  0.0226   \n31    24     CSPP1       4                  0.0167                  0.0203   \n43    25      PTEN       4                  0.0634                  0.0007   \n35    26       LBR       4                  0.0650                  0.0025   \n23    27     IFT52       4                  0.0000                  0.0032   \n20    28     FGFR3       4                  0.0818                  0.0020   \n0     29     FGFR2       4                  0.0194                  0.0005   \n7     30    CEP164       4                  0.2657                  0.0656   \n55    31     USP9X       4                  0.2013                  0.0043   \n53    32  TRAF3IP1       4                  0.0000                  0.0032   \n42    33     FGFR1       4                  0.0194                  0.0005   \n30    34      KIF7       4                  0.0686                  0.0582   \n44    35     IFT43       3                  0.0645                  0.0507   \n29    36  RPGRIP1L       3                  0.0152                  0.0150   \n2     37      NEK1       3                  0.0348                  0.0060   \n59    38      GLI2       3                  0.0151                  0.0209   \n61    39      GLI3       2                  0.0000                  0.0110   \n54    40       ICK       2                  0.0000                  0.0022   \n25    41      AHI1       2                  0.0000                  0.0147   \n5     42    PIK3CA       2                  0.0011                  0.0001   \n1     43     FGF10       2                  0.0000                  0.0001   \n34    44       EBP       2                  0.0000                  0.0024   \n45    45    TTC21B       2                  0.0000                  0.0082   \n37    46     ALMS1       2                  0.0155                  0.0545   \n57    47     CCND2       2                  0.0005                  0.0001   \n46    48     BBS12       2                  0.0328                  0.0524   \n48    49    IFT140       2                  0.0000                  0.0082   \n6     50     NPHP3       1                  0.0000                  0.0092   \n\n    Closeness Centrality  Betweenness Degree Ratio  \n12                0.3020                    0.0154  \n26                0.3987                    0.0502  \n17                0.2905                    0.0117  \n27                0.3588                    0.0334  \n10                0.3370                    0.0269  \n13                0.2837                    0.0119  \n8                 0.2811                    0.0041  \n14                0.2798                    0.0000  \n24                0.2699                    0.0259  \n15                0.2798                    0.0000  \n11                0.2798                    0.0000  \n19                0.2850                    0.0049  \n9                 0.2798                    0.0000  \n16                0.2961                    0.0109  \n28                0.3547                    0.0438  \n51                0.2171                    0.0002  \n18                0.2824                    0.0000  \n22                0.2163                    0.0000  \n4                 0.2328                    0.0124  \n52                0.2163                    0.0000  \n33                0.2798                    0.0101  \n21                0.2824                    0.0000  \n36                0.3020                    0.0167  \n31                0.3144                    0.0042  \n43                0.2311                    0.0158  \n35                0.2302                    0.0163  \n23                0.2155                    0.0000  \n20                0.2521                    0.0204  \n0                 0.2089                    0.0048  \n7                 0.3427                    0.0664  \n55                0.2864                    0.0503  \n53                0.2155                    0.0000  \n42                0.2089                    0.0048  \n30                0.3096                    0.0171  \n44                0.2251                    0.0215  \n29                0.2933                    0.0051  \n2                 0.2675                    0.0116  \n59                0.2919                    0.0050  \n61                0.2542                    0.0000  \n54                0.2140                    0.0000  \n25                0.3112                    0.0000  \n5                 0.1906                    0.0005  \n1                 0.1738                    0.0000  \n34                0.2268                    0.0000  \n45                0.1848                    0.0000  \n37                0.2735                    0.0077  \n57                0.1894                    0.0003  \n46                0.2346                    0.0164  \n48                0.1848                    0.0000  \n6                 0.2563                    0.0000  ",
      "text/html": "<div>\n<style scoped>\n    .dataframe tbody tr th:only-of-type {\n        vertical-align: middle;\n    }\n\n    .dataframe tbody tr th {\n        vertical-align: top;\n    }\n\n    .dataframe thead th {\n        text-align: right;\n    }\n</style>\n<table border=\"1\" class=\"dataframe\">\n  <thead>\n    <tr style=\"text-align: right;\">\n      <th></th>\n      <th>Rank</th>\n      <th>Gene</th>\n      <th>Degree</th>\n      <th>Betweenness Centrality</th>\n      <th>Eigenvector Centrality</th>\n      <th>Closeness Centrality</th>\n      <th>Betweenness Degree Ratio</th>\n    </tr>\n  </thead>\n  <tbody>\n    <tr>\n      <th>12</th>\n      <td>1</td>\n      <td>BBS7</td>\n      <td>11</td>\n      <td>0.1690</td>\n      <td>0.3681</td>\n      <td>0.3020</td>\n      <td>0.0154</td>\n    </tr>\n    <tr>\n      <th>26</th>\n      <td>2</td>\n      <td>OFD1</td>\n      <td>10</td>\n      <td>0.5024</td>\n      <td>0.0809</td>\n      <td>0.3987</td>\n      <td>0.0502</td>\n    </tr>\n    <tr>\n      <th>17</th>\n      <td>3</td>\n      <td>TCTN2</td>\n      <td>9</td>\n      <td>0.1054</td>\n      <td>0.0103</td>\n      <td>0.2905</td>\n      <td>0.0117</td>\n    </tr>\n    <tr>\n      <th>27</th>\n      <td>4</td>\n      <td>CC2D2A</td>\n      <td>9</td>\n      <td>0.3007</td>\n      <td>0.0245</td>\n      <td>0.3588</td>\n      <td>0.0334</td>\n    </tr>\n    <tr>\n      <th>10</th>\n      <td>5</td>\n      <td>BBS4</td>\n      <td>9</td>\n      <td>0.2417</td>\n      <td>0.3577</td>\n      <td>0.3370</td>\n      <td>0.0269</td>\n    </tr>\n    <tr>\n      <th>13</th>\n      <td>6</td>\n      <td>BBS1</td>\n      <td>8</td>\n      <td>0.0951</td>\n      <td>0.3469</td>\n      <td>0.2837</td>\n      <td>0.0119</td>\n    </tr>\n    <tr>\n      <th>8</th>\n      <td>7</td>\n      <td>LZTFL1</td>\n      <td>8</td>\n      <td>0.0328</td>\n      <td>0.3466</td>\n      <td>0.2811</td>\n      <td>0.0041</td>\n    </tr>\n    <tr>\n      <th>14</th>\n      <td>8</td>\n      <td>BBS9</td>\n      <td>7</td>\n      <td>0.0000</td>\n      <td>0.3407</td>\n      <td>0.2798</td>\n      <td>0.0000</td>\n    </tr>\n    <tr>\n      <th>24</th>\n      <td>9</td>\n      <td>IFT88</td>\n      <td>7</td>\n      <td>0.1816</td>\n      <td>0.0119</td>\n      <td>0.2699</td>\n      <td>0.0259</td>\n    </tr>\n    <tr>\n      <th>15</th>\n      <td>10</td>\n      <td>BBS5</td>\n      <td>7</td>\n      <td>0.0000</td>\n      <td>0.3407</td>\n      <td>0.2798</td>\n      <td>0.0000</td>\n    </tr>\n    <tr>\n      <th>11</th>\n      <td>11</td>\n      <td>TTC8</td>\n      <td>7</td>\n      <td>0.0000</td>\n      <td>0.3407</td>\n      <td>0.2798</td>\n      <td>0.0000</td>\n    </tr>\n    <tr>\n      <th>19</th>\n      <td>12</td>\n      <td>B9D2</td>\n      <td>7</td>\n      <td>0.0341</td>\n      <td>0.0097</td>\n      <td>0.2850</td>\n      <td>0.0049</td>\n    </tr>\n    <tr>\n      <th>9</th>\n      <td>13</td>\n      <td>BBS2</td>\n      <td>7</td>\n      <td>0.0000</td>\n      <td>0.3407</td>\n      <td>0.2798</td>\n      <td>0.0000</td>\n    </tr>\n    <tr>\n      <th>16</th>\n      <td>14</td>\n      <td>TMEM231</td>\n      <td>6</td>\n      <td>0.0655</td>\n      <td>0.0089</td>\n      <td>0.2961</td>\n      <td>0.0109</td>\n    </tr>\n    <tr>\n      <th>28</th>\n      <td>15</td>\n      <td>CEP290</td>\n      <td>6</td>\n      <td>0.2630</td>\n      <td>0.0271</td>\n      <td>0.3547</td>\n      <td>0.0438</td>\n    </tr>\n    <tr>\n      <th>51</th>\n      <td>16</td>\n      <td>IFT172</td>\n      <td>6</td>\n      <td>0.0012</td>\n      <td>0.0039</td>\n      <td>0.2171</td>\n      <td>0.0002</td>\n    </tr>\n    <tr>\n      <th>18</th>\n      <td>17</td>\n      <td>B9D1</td>\n      <td>5</td>\n      <td>0.0000</td>\n      <td>0.0087</td>\n      <td>0.2824</td>\n      <td>0.0000</td>\n    </tr>\n    <tr>\n      <th>22</th>\n      <td>18</td>\n      <td>IFT80</td>\n      <td>5</td>\n      <td>0.0001</td>\n      <td>0.0036</td>\n      <td>0.2163</td>\n      <td>0.0000</td>\n    </tr>\n    <tr>\n      <th>4</th>\n      <td>19</td>\n      <td>PIK3R2</td>\n      <td>5</td>\n      <td>0.0620</td>\n      <td>0.0009</td>\n      <td>0.2328</td>\n      <td>0.0124</td>\n    </tr>\n    <tr>\n      <th>52</th>\n      <td>20</td>\n      <td>IFT27</td>\n      <td>5</td>\n      <td>0.0001</td>\n      <td>0.0036</td>\n      <td>0.2163</td>\n      <td>0.0000</td>\n    </tr>\n    <tr>\n      <th>33</th>\n      <td>21</td>\n      <td>TCTN3</td>\n      <td>5</td>\n      <td>0.0505</td>\n      <td>0.0069</td>\n      <td>0.2798</td>\n      <td>0.0101</td>\n    </tr>\n    <tr>\n      <th>21</th>\n      <td>22</td>\n      <td>MKS1</td>\n      <td>5</td>\n      <td>0.0000</td>\n      <td>0.0087</td>\n      <td>0.2824</td>\n      <td>0.0000</td>\n    </tr>\n    <tr>\n      <th>36</th>\n      <td>23</td>\n      <td>CEP120</td>\n      <td>5</td>\n      <td>0.0835</td>\n      <td>0.0226</td>\n      <td>0.3020</td>\n      <td>0.0167</td>\n    </tr>\n    <tr>\n      <th>31</th>\n      <td>24</td>\n      <td>CSPP1</td>\n      <td>4</td>\n      <td>0.0167</td>\n      <td>0.0203</td>\n      <td>0.3144</td>\n      <td>0.0042</td>\n    </tr>\n    <tr>\n      <th>43</th>\n      <td>25</td>\n      <td>PTEN</td>\n      <td>4</td>\n      <td>0.0634</td>\n      <td>0.0007</td>\n      <td>0.2311</td>\n      <td>0.0158</td>\n    </tr>\n    <tr>\n      <th>35</th>\n      <td>26</td>\n      <td>LBR</td>\n      <td>4</td>\n      <td>0.0650</td>\n      <td>0.0025</td>\n      <td>0.2302</td>\n      <td>0.0163</td>\n    </tr>\n    <tr>\n      <th>23</th>\n      <td>27</td>\n      <td>IFT52</td>\n      <td>4</td>\n      <td>0.0000</td>\n      <td>0.0032</td>\n      <td>0.2155</td>\n      <td>0.0000</td>\n    </tr>\n    <tr>\n      <th>20</th>\n      <td>28</td>\n      <td>FGFR3</td>\n      <td>4</td>\n      <td>0.0818</td>\n      <td>0.0020</td>\n      <td>0.2521</td>\n      <td>0.0204</td>\n    </tr>\n    <tr>\n      <th>0</th>\n      <td>29</td>\n      <td>FGFR2</td>\n      <td>4</td>\n      <td>0.0194</td>\n      <td>0.0005</td>\n      <td>0.2089</td>\n      <td>0.0048</td>\n    </tr>\n    <tr>\n      <th>7</th>\n      <td>30</td>\n      <td>CEP164</td>\n      <td>4</td>\n      <td>0.2657</td>\n      <td>0.0656</td>\n      <td>0.3427</td>\n      <td>0.0664</td>\n    </tr>\n    <tr>\n      <th>55</th>\n      <td>31</td>\n      <td>USP9X</td>\n      <td>4</td>\n      <td>0.2013</td>\n      <td>0.0043</td>\n      <td>0.2864</td>\n      <td>0.0503</td>\n    </tr>\n    <tr>\n      <th>53</th>\n      <td>32</td>\n      <td>TRAF3IP1</td>\n      <td>4</td>\n      <td>0.0000</td>\n      <td>0.0032</td>\n      <td>0.2155</td>\n      <td>0.0000</td>\n    </tr>\n    <tr>\n      <th>42</th>\n      <td>33</td>\n      <td>FGFR1</td>\n      <td>4</td>\n      <td>0.0194</td>\n      <td>0.0005</td>\n      <td>0.2089</td>\n      <td>0.0048</td>\n    </tr>\n    <tr>\n      <th>30</th>\n      <td>34</td>\n      <td>KIF7</td>\n      <td>4</td>\n      <td>0.0686</td>\n      <td>0.0582</td>\n      <td>0.3096</td>\n      <td>0.0171</td>\n    </tr>\n    <tr>\n      <th>44</th>\n      <td>35</td>\n      <td>IFT43</td>\n      <td>3</td>\n      <td>0.0645</td>\n      <td>0.0507</td>\n      <td>0.2251</td>\n      <td>0.0215</td>\n    </tr>\n    <tr>\n      <th>29</th>\n      <td>36</td>\n      <td>RPGRIP1L</td>\n      <td>3</td>\n      <td>0.0152</td>\n      <td>0.0150</td>\n      <td>0.2933</td>\n      <td>0.0051</td>\n    </tr>\n    <tr>\n      <th>2</th>\n      <td>37</td>\n      <td>NEK1</td>\n      <td>3</td>\n      <td>0.0348</td>\n      <td>0.0060</td>\n      <td>0.2675</td>\n      <td>0.0116</td>\n    </tr>\n    <tr>\n      <th>59</th>\n      <td>38</td>\n      <td>GLI2</td>\n      <td>3</td>\n      <td>0.0151</td>\n      <td>0.0209</td>\n      <td>0.2919</td>\n      <td>0.0050</td>\n    </tr>\n    <tr>\n      <th>61</th>\n      <td>39</td>\n      <td>GLI3</td>\n      <td>2</td>\n      <td>0.0000</td>\n      <td>0.0110</td>\n      <td>0.2542</td>\n      <td>0.0000</td>\n    </tr>\n    <tr>\n      <th>54</th>\n      <td>40</td>\n      <td>ICK</td>\n      <td>2</td>\n      <td>0.0000</td>\n      <td>0.0022</td>\n      <td>0.2140</td>\n      <td>0.0000</td>\n    </tr>\n    <tr>\n      <th>25</th>\n      <td>41</td>\n      <td>AHI1</td>\n      <td>2</td>\n      <td>0.0000</td>\n      <td>0.0147</td>\n      <td>0.3112</td>\n      <td>0.0000</td>\n    </tr>\n    <tr>\n      <th>5</th>\n      <td>42</td>\n      <td>PIK3CA</td>\n      <td>2</td>\n      <td>0.0011</td>\n      <td>0.0001</td>\n      <td>0.1906</td>\n      <td>0.0005</td>\n    </tr>\n    <tr>\n      <th>1</th>\n      <td>43</td>\n      <td>FGF10</td>\n      <td>2</td>\n      <td>0.0000</td>\n      <td>0.0001</td>\n      <td>0.1738</td>\n      <td>0.0000</td>\n    </tr>\n    <tr>\n      <th>34</th>\n      <td>44</td>\n      <td>EBP</td>\n      <td>2</td>\n      <td>0.0000</td>\n      <td>0.0024</td>\n      <td>0.2268</td>\n      <td>0.0000</td>\n    </tr>\n    <tr>\n      <th>45</th>\n      <td>45</td>\n      <td>TTC21B</td>\n      <td>2</td>\n      <td>0.0000</td>\n      <td>0.0082</td>\n      <td>0.1848</td>\n      <td>0.0000</td>\n    </tr>\n    <tr>\n      <th>37</th>\n      <td>46</td>\n      <td>ALMS1</td>\n      <td>2</td>\n      <td>0.0155</td>\n      <td>0.0545</td>\n      <td>0.2735</td>\n      <td>0.0077</td>\n    </tr>\n    <tr>\n      <th>57</th>\n      <td>47</td>\n      <td>CCND2</td>\n      <td>2</td>\n      <td>0.0005</td>\n      <td>0.0001</td>\n      <td>0.1894</td>\n      <td>0.0003</td>\n    </tr>\n    <tr>\n      <th>46</th>\n      <td>48</td>\n      <td>BBS12</td>\n      <td>2</td>\n      <td>0.0328</td>\n      <td>0.0524</td>\n      <td>0.2346</td>\n      <td>0.0164</td>\n    </tr>\n    <tr>\n      <th>48</th>\n      <td>49</td>\n      <td>IFT140</td>\n      <td>2</td>\n      <td>0.0000</td>\n      <td>0.0082</td>\n      <td>0.1848</td>\n      <td>0.0000</td>\n    </tr>\n    <tr>\n      <th>6</th>\n      <td>50</td>\n      <td>NPHP3</td>\n      <td>1</td>\n      <td>0.0000</td>\n      <td>0.0092</td>\n      <td>0.2563</td>\n      <td>0.0000</td>\n    </tr>\n  </tbody>\n</table>\n</div>"
     },
     "metadata": {},
     "output_type": "display_data"
    }
   ],
   "source": [
    "column_names = [\"Gene\", \"Degree\", \"Betweenness Centrality\", \"Eigenvector Centrality\", \"Closeness Centrality\", \"Betweenness Degree Ratio\"]\n",
    "\n",
    "network_summary_df = pd.DataFrame(rows, columns=column_names)\n",
    "network_summary_df.sort_values(\"Degree\", ascending=False, inplace=True)\n",
    "network_summary_df[\"Rank\"] = range(1, len(network_summary_df) + 1)\n",
    "\n",
    "# round to the 4th decimal to make the table fit the page width in the report\n",
    "network_summary_df[network_summary_df.select_dtypes(\"float64\").columns] = network_summary_df.select_dtypes('float64').round(4)\n",
    "\n",
    "# rearrange columns to put rank first as demanded by the instructions\n",
    "columns = network_summary_df.columns.tolist()\n",
    "network_summary_df = network_summary_df[[columns[-1]] + columns[:-1]]\n",
    "\n",
    "network_summary_df.to_csv(\"network_metrics.csv\", index=None)\n",
    "display(network_summary_df.head(50))"
   ],
   "metadata": {
    "collapsed": false,
    "ExecuteTime": {
     "end_time": "2024-01-07T15:43:16.657621228Z",
     "start_time": "2024-01-07T15:43:16.568845308Z"
    }
   },
   "id": "74fec26bd1f62b7e"
  },
  {
   "cell_type": "markdown",
   "source": [
    "### Represent node degree and node betweenness in a scatterplot\n",
    "Let's plot the node betweenness as a function of the node degree. From the plot we can perhaps see a small trend where the betweenness centrality increases with the degree of a node. A high betweenness centrality for a node means that many shortest paths in the network are crossing through this node. This, in turn, means that a lot of information flows through the node in question and that it is great influence on interactions between node pairs in the network. From the plot we can see that the higher the degree of a node, the more information flows through it."
   ],
   "metadata": {
    "collapsed": false
   },
   "id": "472e6fcc47e63692"
  },
  {
   "cell_type": "code",
   "execution_count": 24,
   "outputs": [
    {
     "data": {
      "text/plain": "<Figure size 640x480 with 1 Axes>",
      "image/png": "[encoded data removed]"
     },
     "metadata": {},
     "output_type": "display_data"
    }
   ],
   "source": [
    "plt.scatter(network_summary_df.degree, network_summary_df.betweenness_centrality)\n",
    "plt.xlabel(\"Degree\")\n",
    "plt.ylabel(\"Betweenness Centrality\")\n",
    "plt.title(\"Betweenness Centrality vs Degree\")\n",
    "plt.savefig(\"betweenness_centrality_vs_degree.eps\", format=\"eps\")"
   ],
   "metadata": {
    "collapsed": false,
    "ExecuteTime": {
     "end_time": "2024-01-01T16:05:19.611375034Z",
     "start_time": "2024-01-01T16:05:19.229146160Z"
    }
   },
   "id": "ee654b4a6781eb45"
  },
  {
   "cell_type": "markdown",
   "source": [
    "# 2 Comparative analysis of the disease genes identification algorithms\n",
    "\n",
    "## Diamond\n",
    "I have forked the original `DIAMOnD` [repository](https://github.com/dinaghiassian/DIAMOnD) and made it `pip` installable. Additionally, I also added a new function, `diamond()`, that runs the script with the same parameters as the command line version.\n",
    "\n",
    "The function can easily be imported like this:"
   ],
   "metadata": {
    "collapsed": false
   },
   "id": "40665084dfc38a02"
  },
  {
   "cell_type": "code",
   "execution_count": 32,
   "outputs": [],
   "source": [
    "from diamond import diamond"
   ],
   "metadata": {
    "collapsed": false,
    "ExecuteTime": {
     "end_time": "2024-01-01T17:40:20.472145748Z",
     "start_time": "2024-01-01T17:40:19.968287302Z"
    }
   },
   "id": "944395646e0484bc"
  },
  {
   "cell_type": "markdown",
   "source": [
    "And run with the:\n",
    "\n",
    "* link to the PPI file.\n",
    "* link to the seed genes file.\n",
    "* the number of DIAMOnD genes.\n",
    "* alpha (optional) the seed weight.\n",
    "* outfile name (optional), the name of the file where to save the p-values."
   ],
   "metadata": {
    "collapsed": false
   },
   "id": "6d3a2a502698aa76"
  },
  {
   "cell_type": "code",
   "execution_count": 33,
   "outputs": [
    {
     "name": "stdout",
     "output_type": "stream",
     "text": [
      "\n",
      " results have been saved to 'first_200_added_nodes_weight_1.txt' \n"
     ]
    }
   ],
   "source": [
    "diamond(\"ppi.txt\", \"seed_genes.txt\", 200)"
   ],
   "metadata": {
    "collapsed": false,
    "ExecuteTime": {
     "end_time": "2024-01-01T17:42:23.921155404Z",
     "start_time": "2024-01-01T17:41:46.153015594Z"
    }
   },
   "id": "d14ee0d738f3dc7a"
  }
 ],
 "metadata": {
  "kernelspec": {
   "display_name": "Python 3",
   "language": "python",
   "name": "python3"
  },
  "language_info": {
   "codemirror_mode": {
    "name": "ipython",
    "version": 2
   },
   "file_extension": ".py",
   "mimetype": "text/x-python",
   "name": "python",
   "nbconvert_exporter": "python",
   "pygments_lexer": "ipython2",
   "version": "2.7.6"
  }
 },
 "nbformat": 4,
 "nbformat_minor": 5
}
