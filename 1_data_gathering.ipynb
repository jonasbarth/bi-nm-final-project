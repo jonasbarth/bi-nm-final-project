{
 "cells": [
  {
   "cell_type": "markdown",
   "source": [
    "# 1. PPI and GDA data gathering and interactome reconstruction"
   ],
   "metadata": {
    "collapsed": false
   },
   "id": "cc508417603fb3f"
  },
  {
   "cell_type": "markdown",
   "source": [
    "## 1.1.\n",
    "Download PPIs from BioGRID latest release to build the human interactome:\n",
    "\n",
    "* use “all organisms” tab3 file, unzip and get “Homo sapiens” only\n",
    "* filter out all non-human interactions, i.e., both “organism A” and “B” fields must be = 9606 (Homo sapiens)\n",
    "* keep only “physical” interactions” (“Experimental System Type” = physical)\n",
    "* purge out redundant and self loops\n",
    "* isolate the largest connected component (LCC)"
   ],
   "metadata": {
    "collapsed": false
   },
   "id": "8c29576be357a245"
  },
  {
   "cell_type": "code",
   "execution_count": 1,
   "outputs": [],
   "source": [
    "import os\n",
    "import zipfile\n",
    "from pathlib import Path\n",
    "\n",
    "import matplotlib.pyplot as plt\n",
    "import networkx as nx\n",
    "import pandas as pd\n",
    "import requests\n",
    "from dotenv import load_dotenv"
   ],
   "metadata": {
    "collapsed": false,
    "ExecuteTime": {
     "end_time": "2024-01-12T09:04:03.581224172Z",
     "start_time": "2024-01-12T09:04:02.751161388Z"
    }
   },
   "id": "1223f1168478a1ec"
  },
  {
   "cell_type": "markdown",
   "source": [
    "Load the environment variables from the `.env` file. If you don't have an `.env` file, create one and place the API token for DisGenet inside. \n",
    "\n",
    "```\n",
    "disgenet_api_token=\"<api token>\"\n",
    "```"
   ],
   "metadata": {
    "collapsed": false
   },
   "id": "41b4345ae21a12e2"
  },
  {
   "cell_type": "code",
   "execution_count": 2,
   "outputs": [
    {
     "data": {
      "text/plain": "True"
     },
     "execution_count": 2,
     "metadata": {},
     "output_type": "execute_result"
    }
   ],
   "source": [
    "load_dotenv()"
   ],
   "metadata": {
    "collapsed": false,
    "ExecuteTime": {
     "end_time": "2024-01-12T09:04:04.098606147Z",
     "start_time": "2024-01-12T09:04:04.092533840Z"
    }
   },
   "id": "446d66ca72fb4b6d"
  },
  {
   "cell_type": "markdown",
   "source": [
    "If you haven't already, download the biogrid data, unzip it and place the homo sapiens txt file inside the `data/` directory."
   ],
   "metadata": {
    "collapsed": false
   },
   "id": "643fba2329e8f775"
  },
  {
   "cell_type": "code",
   "execution_count": 3,
   "outputs": [
    {
     "name": "stdout",
     "output_type": "stream",
     "text": [
      "--2024-01-12 10:04:08--  https://downloads.thebiogrid.org/Download/BioGRID/Latest-Release/BIOGRID-ORGANISM-LATEST.tab3.zip\r\n",
      "Resolving downloads.thebiogrid.org (downloads.thebiogrid.org)... 173.255.198.187\r\n",
      "Connecting to downloads.thebiogrid.org (downloads.thebiogrid.org)|173.255.198.187|:443... connected.\r\n",
      "HTTP request sent, awaiting response... 200 OK\r\n",
      "Length: unspecified [application/download]\r\n",
      "Saving to: ‘biogrid.zip’\r\n",
      "\r\n",
      "biogrid.zip             [             <=>    ] 160.74M  5.70MB/s    in 31s     \r\n",
      "\r\n",
      "2024-01-12 10:04:42 (5.18 MB/s) - ‘biogrid.zip’ saved [168552342]\r\n",
      "\r\n"
     ]
    }
   ],
   "source": [
    "!wget -O biogrid.zip https://downloads.thebiogrid.org/Download/BioGRID/Latest-Release/BIOGRID-ORGANISM-LATEST.tab3.zip"
   ],
   "metadata": {
    "collapsed": false,
    "ExecuteTime": {
     "end_time": "2024-01-12T09:04:42.735043430Z",
     "start_time": "2024-01-12T09:04:08.327240843Z"
    }
   },
   "id": "8032da20b663cade"
  },
  {
   "cell_type": "markdown",
   "source": [
    "Then, let's extract the homo sapiens file into the `data/` directory."
   ],
   "metadata": {
    "collapsed": false
   },
   "id": "a600bfdc8fd00d02"
  },
  {
   "cell_type": "code",
   "execution_count": 4,
   "outputs": [],
   "source": [
    "data_folder = \"data\"\n",
    "Path(data_folder).mkdir(parents=True, exist_ok=True)\n",
    "\n",
    "with zipfile.ZipFile(\"biogrid.zip\", 'r') as zip_ref:\n",
    "        # Iterate through the files in the zip archive\n",
    "        for file_info in zip_ref.infolist():\n",
    "            # Check if the file name matches the target filename\n",
    "            if \"Homo_sapiens\" in file_info.filename:\n",
    "                # Extract the file to the target folder\n",
    "                zip_ref.extract(file_info, data_folder)\n",
    "                \n",
    "                # rename the file\n",
    "                os.rename(os.path.join(data_folder, file_info.filename), os.path.join(data_folder, \"biogrid.txt\"))\n",
    "                break"
   ],
   "metadata": {
    "collapsed": false,
    "ExecuteTime": {
     "end_time": "2024-01-12T09:05:02.231401699Z",
     "start_time": "2024-01-12T09:05:00.926957610Z"
    }
   },
   "id": "2970d4305f9cd0b8"
  },
  {
   "cell_type": "markdown",
   "source": [
    "Let's load the file, it is **tab separated** so we need to specify the tab separator `\\t`. Also, some of the columns have mixed data types, so we set `low_memory=False`."
   ],
   "metadata": {
    "collapsed": false
   },
   "id": "54174458a8bc93fe"
  },
  {
   "cell_type": "code",
   "execution_count": 5,
   "outputs": [],
   "source": [
    "biogrid = pd.read_csv(\"data/biogrid.txt\", sep=\"\\t\", low_memory=False)"
   ],
   "metadata": {
    "collapsed": false,
    "ExecuteTime": {
     "end_time": "2024-01-12T09:05:13.906500621Z",
     "start_time": "2024-01-12T09:05:06.308761865Z"
    }
   },
   "id": "d345b0a804b3e865"
  },
  {
   "cell_type": "markdown",
   "source": [
    "For an explanation of the different columns, we can check the [biogrid wiki](https://wiki.thebiogrid.org/doku.php/biogrid_tab_version_3.0)."
   ],
   "metadata": {
    "collapsed": false
   },
   "id": "df72c0caabc8b2c6"
  },
  {
   "cell_type": "code",
   "execution_count": 89,
   "outputs": [
    {
     "data": {
      "text/plain": "         #BioGRID Interaction ID Entrez Gene Interactor A  \\\n0                            103                     6416   \n1                            117                    84665   \n2                            183                       90   \n3                            278                     2624   \n4                            418                     6118   \n...                          ...                      ...   \n1188614                  3590145                   253260   \n1188615                  3590146                   253260   \n1188616                  3590147                     7189   \n1188617                  3621586                     8237   \n1188618                  3621587                     1956   \n\n        Entrez Gene Interactor B  BioGRID ID Interactor A  \\\n0                           2318                   112315   \n1                             88                   124185   \n2                           2339                   106605   \n3                           5371                   108894   \n4                           6774                   112038   \n...                          ...                      ...   \n1188614                     7408                   128962   \n1188615                     1072                   128962   \n1188616                     4217                   113041   \n1188617                     1956                   113866   \n1188618                     8237                   108276   \n\n         BioGRID ID Interactor B Systematic Name Interactor A  \\\n0                         108607                            -   \n1                         106603                            -   \n2                         108625                            -   \n3                         111384                            -   \n4                         112651                  RP4-547C9.3   \n...                          ...                          ...   \n1188614                   113251                            -   \n1188615                   107499                            -   \n1188616                   110381                            -   \n1188617                   108276                 RP4-659F15.2   \n1188618                   113866                            -   \n\n        Systematic Name Interactor B Official Symbol Interactor A  \\\n0                                  -                       MAP2K4   \n1                                  -                         MYPN   \n2                                  -                        ACVR1   \n3                                  -                        GATA2   \n4                                  -                         RPA2   \n...                              ...                          ...   \n1188614                            -                       RICTOR   \n1188615                            -                       RICTOR   \n1188616                 RP3-325F22.4                        TRAF6   \n1188617                            -                        USP11   \n1188618                 RP4-659F15.2                         EGFR   \n\n        Official Symbol Interactor B  \\\n0                               FLNC   \n1                              ACTN2   \n2                               FNTA   \n3                                PML   \n4                              STAT3   \n...                              ...   \n1188614                         VASP   \n1188615                         CFL1   \n1188616                       MAP3K5   \n1188617                         EGFR   \n1188618                        USP11   \n\n                                     Synonyms Interactor A  ...  \\\n0        JNKK|JNKK1|MAPKK4|MEK4|MKK4|PRKMK4|SAPKK-1|SAP...  ...   \n1                                   CMD1DD|CMH22|MYOP|RCM4  ...   \n2                  ACTRI|ACVR1A|ACVRLK2|ALK2|FOP|SKR1|TSRI  ...   \n3                                 DCML|IMD21|MONOMAC|NFE1B  ...   \n4                            REPA2|RP-A p32|RP-A p34|RPA32  ...   \n...                                                    ...  ...   \n1188614                                     AVO3|PIA|hAVO3  ...   \n1188615                                     AVO3|PIA|hAVO3  ...   \n1188616                                     MGC:3310|RNF85  ...   \n1188617                                               UHX1  ...   \n1188618                  ERBB|ERBB1|HER1|NISBD2|PIG61|mENA  ...   \n\n        TREMBL Accessions Interactor B  \\\n0                               Q59H94   \n1                        Q59FD9|F6THM6   \n2                                    -   \n3                                    -   \n4                                    -   \n...                                ...   \n1188614                     A0A024R0V4   \n1188615                         V9HWI5   \n1188616                              -   \n1188617                              -   \n1188618                         B4DGK3   \n\n                            REFSEQ Accessions Interactor B Ontology Term IDs  \\\n0                                   NP_001120959|NP_001449                 -   \n1                      NP_001094|NP_001265272|NP_001265273                 -   \n2                                                NP_002018                 -   \n3        NP_150250|NP_150253|NP_150252|NP_150247|NP_150...                 -   \n4        NP_644805|NP_003141|NP_001356447|NP_001356443|...                 -   \n...                                                    ...               ...   \n1188614                                          NP_003361                 -   \n1188615                                          NP_005498                 -   \n1188616                                          NP_005914                 -   \n1188617  NP_001333829|NP_001333828|NP_958440|NP_005219|...                 -   \n1188618                             NP_004642|NP_001358001                 -   \n\n        Ontology Term Names Ontology Term Categories  \\\n0                         -                        -   \n1                         -                        -   \n2                         -                        -   \n3                         -                        -   \n4                         -                        -   \n...                     ...                      ...   \n1188614                   -                        -   \n1188615                   -                        -   \n1188616                   -                        -   \n1188617                   -                        -   \n1188618                   -                        -   \n\n         Ontology Term Qualifier IDs  Ontology Term Qualifier Names  \\\n0                                  -                              -   \n1                                  -                              -   \n2                                  -                              -   \n3                                  -                              -   \n4                                  -                              -   \n...                              ...                            ...   \n1188614                            -                              -   \n1188615                            -                              -   \n1188616                            -                              -   \n1188617                            -                              -   \n1188618                            -                              -   \n\n        Ontology Term Types Organism Name Interactor A  \\\n0                         -               Homo sapiens   \n1                         -               Homo sapiens   \n2                         -               Homo sapiens   \n3                         -               Homo sapiens   \n4                         -               Homo sapiens   \n...                     ...                        ...   \n1188614                   -               Homo sapiens   \n1188615                   -               Homo sapiens   \n1188616                   -               Homo sapiens   \n1188617                   -               Homo sapiens   \n1188618                   -               Homo sapiens   \n\n        Organism Name Interactor B  \n0                     Homo sapiens  \n1                     Homo sapiens  \n2                     Homo sapiens  \n3                     Homo sapiens  \n4                     Homo sapiens  \n...                            ...  \n1188614               Homo sapiens  \n1188615               Homo sapiens  \n1188616               Homo sapiens  \n1188617               Homo sapiens  \n1188618               Homo sapiens  \n\n[1188619 rows x 37 columns]",
      "text/html": "<div>\n<style scoped>\n    .dataframe tbody tr th:only-of-type {\n        vertical-align: middle;\n    }\n\n    .dataframe tbody tr th {\n        vertical-align: top;\n    }\n\n    .dataframe thead th {\n        text-align: right;\n    }\n</style>\n<table border=\"1\" class=\"dataframe\">\n  <thead>\n    <tr style=\"text-align: right;\">\n      <th></th>\n      <th>#BioGRID Interaction ID</th>\n      <th>Entrez Gene Interactor A</th>\n      <th>Entrez Gene Interactor B</th>\n      <th>BioGRID ID Interactor A</th>\n      <th>BioGRID ID Interactor B</th>\n      <th>Systematic Name Interactor A</th>\n      <th>Systematic Name Interactor B</th>\n      <th>Official Symbol Interactor A</th>\n      <th>Official Symbol Interactor B</th>\n      <th>Synonyms Interactor A</th>\n      <th>...</th>\n      <th>TREMBL Accessions Interactor B</th>\n      <th>REFSEQ Accessions Interactor B</th>\n      <th>Ontology Term IDs</th>\n      <th>Ontology Term Names</th>\n      <th>Ontology Term Categories</th>\n      <th>Ontology Term Qualifier IDs</th>\n      <th>Ontology Term Qualifier Names</th>\n      <th>Ontology Term Types</th>\n      <th>Organism Name Interactor A</th>\n      <th>Organism Name Interactor B</th>\n    </tr>\n  </thead>\n  <tbody>\n    <tr>\n      <th>0</th>\n      <td>103</td>\n      <td>6416</td>\n      <td>2318</td>\n      <td>112315</td>\n      <td>108607</td>\n      <td>-</td>\n      <td>-</td>\n      <td>MAP2K4</td>\n      <td>FLNC</td>\n      <td>JNKK|JNKK1|MAPKK4|MEK4|MKK4|PRKMK4|SAPKK-1|SAP...</td>\n      <td>...</td>\n      <td>Q59H94</td>\n      <td>NP_001120959|NP_001449</td>\n      <td>-</td>\n      <td>-</td>\n      <td>-</td>\n      <td>-</td>\n      <td>-</td>\n      <td>-</td>\n      <td>Homo sapiens</td>\n      <td>Homo sapiens</td>\n    </tr>\n    <tr>\n      <th>1</th>\n      <td>117</td>\n      <td>84665</td>\n      <td>88</td>\n      <td>124185</td>\n      <td>106603</td>\n      <td>-</td>\n      <td>-</td>\n      <td>MYPN</td>\n      <td>ACTN2</td>\n      <td>CMD1DD|CMH22|MYOP|RCM4</td>\n      <td>...</td>\n      <td>Q59FD9|F6THM6</td>\n      <td>NP_001094|NP_001265272|NP_001265273</td>\n      <td>-</td>\n      <td>-</td>\n      <td>-</td>\n      <td>-</td>\n      <td>-</td>\n      <td>-</td>\n      <td>Homo sapiens</td>\n      <td>Homo sapiens</td>\n    </tr>\n    <tr>\n      <th>2</th>\n      <td>183</td>\n      <td>90</td>\n      <td>2339</td>\n      <td>106605</td>\n      <td>108625</td>\n      <td>-</td>\n      <td>-</td>\n      <td>ACVR1</td>\n      <td>FNTA</td>\n      <td>ACTRI|ACVR1A|ACVRLK2|ALK2|FOP|SKR1|TSRI</td>\n      <td>...</td>\n      <td>-</td>\n      <td>NP_002018</td>\n      <td>-</td>\n      <td>-</td>\n      <td>-</td>\n      <td>-</td>\n      <td>-</td>\n      <td>-</td>\n      <td>Homo sapiens</td>\n      <td>Homo sapiens</td>\n    </tr>\n    <tr>\n      <th>3</th>\n      <td>278</td>\n      <td>2624</td>\n      <td>5371</td>\n      <td>108894</td>\n      <td>111384</td>\n      <td>-</td>\n      <td>-</td>\n      <td>GATA2</td>\n      <td>PML</td>\n      <td>DCML|IMD21|MONOMAC|NFE1B</td>\n      <td>...</td>\n      <td>-</td>\n      <td>NP_150250|NP_150253|NP_150252|NP_150247|NP_150...</td>\n      <td>-</td>\n      <td>-</td>\n      <td>-</td>\n      <td>-</td>\n      <td>-</td>\n      <td>-</td>\n      <td>Homo sapiens</td>\n      <td>Homo sapiens</td>\n    </tr>\n    <tr>\n      <th>4</th>\n      <td>418</td>\n      <td>6118</td>\n      <td>6774</td>\n      <td>112038</td>\n      <td>112651</td>\n      <td>RP4-547C9.3</td>\n      <td>-</td>\n      <td>RPA2</td>\n      <td>STAT3</td>\n      <td>REPA2|RP-A p32|RP-A p34|RPA32</td>\n      <td>...</td>\n      <td>-</td>\n      <td>NP_644805|NP_003141|NP_001356447|NP_001356443|...</td>\n      <td>-</td>\n      <td>-</td>\n      <td>-</td>\n      <td>-</td>\n      <td>-</td>\n      <td>-</td>\n      <td>Homo sapiens</td>\n      <td>Homo sapiens</td>\n    </tr>\n    <tr>\n      <th>...</th>\n      <td>...</td>\n      <td>...</td>\n      <td>...</td>\n      <td>...</td>\n      <td>...</td>\n      <td>...</td>\n      <td>...</td>\n      <td>...</td>\n      <td>...</td>\n      <td>...</td>\n      <td>...</td>\n      <td>...</td>\n      <td>...</td>\n      <td>...</td>\n      <td>...</td>\n      <td>...</td>\n      <td>...</td>\n      <td>...</td>\n      <td>...</td>\n      <td>...</td>\n      <td>...</td>\n    </tr>\n    <tr>\n      <th>1188614</th>\n      <td>3590145</td>\n      <td>253260</td>\n      <td>7408</td>\n      <td>128962</td>\n      <td>113251</td>\n      <td>-</td>\n      <td>-</td>\n      <td>RICTOR</td>\n      <td>VASP</td>\n      <td>AVO3|PIA|hAVO3</td>\n      <td>...</td>\n      <td>A0A024R0V4</td>\n      <td>NP_003361</td>\n      <td>-</td>\n      <td>-</td>\n      <td>-</td>\n      <td>-</td>\n      <td>-</td>\n      <td>-</td>\n      <td>Homo sapiens</td>\n      <td>Homo sapiens</td>\n    </tr>\n    <tr>\n      <th>1188615</th>\n      <td>3590146</td>\n      <td>253260</td>\n      <td>1072</td>\n      <td>128962</td>\n      <td>107499</td>\n      <td>-</td>\n      <td>-</td>\n      <td>RICTOR</td>\n      <td>CFL1</td>\n      <td>AVO3|PIA|hAVO3</td>\n      <td>...</td>\n      <td>V9HWI5</td>\n      <td>NP_005498</td>\n      <td>-</td>\n      <td>-</td>\n      <td>-</td>\n      <td>-</td>\n      <td>-</td>\n      <td>-</td>\n      <td>Homo sapiens</td>\n      <td>Homo sapiens</td>\n    </tr>\n    <tr>\n      <th>1188616</th>\n      <td>3590147</td>\n      <td>7189</td>\n      <td>4217</td>\n      <td>113041</td>\n      <td>110381</td>\n      <td>-</td>\n      <td>RP3-325F22.4</td>\n      <td>TRAF6</td>\n      <td>MAP3K5</td>\n      <td>MGC:3310|RNF85</td>\n      <td>...</td>\n      <td>-</td>\n      <td>NP_005914</td>\n      <td>-</td>\n      <td>-</td>\n      <td>-</td>\n      <td>-</td>\n      <td>-</td>\n      <td>-</td>\n      <td>Homo sapiens</td>\n      <td>Homo sapiens</td>\n    </tr>\n    <tr>\n      <th>1188617</th>\n      <td>3621586</td>\n      <td>8237</td>\n      <td>1956</td>\n      <td>113866</td>\n      <td>108276</td>\n      <td>RP4-659F15.2</td>\n      <td>-</td>\n      <td>USP11</td>\n      <td>EGFR</td>\n      <td>UHX1</td>\n      <td>...</td>\n      <td>-</td>\n      <td>NP_001333829|NP_001333828|NP_958440|NP_005219|...</td>\n      <td>-</td>\n      <td>-</td>\n      <td>-</td>\n      <td>-</td>\n      <td>-</td>\n      <td>-</td>\n      <td>Homo sapiens</td>\n      <td>Homo sapiens</td>\n    </tr>\n    <tr>\n      <th>1188618</th>\n      <td>3621587</td>\n      <td>1956</td>\n      <td>8237</td>\n      <td>108276</td>\n      <td>113866</td>\n      <td>-</td>\n      <td>RP4-659F15.2</td>\n      <td>EGFR</td>\n      <td>USP11</td>\n      <td>ERBB|ERBB1|HER1|NISBD2|PIG61|mENA</td>\n      <td>...</td>\n      <td>B4DGK3</td>\n      <td>NP_004642|NP_001358001</td>\n      <td>-</td>\n      <td>-</td>\n      <td>-</td>\n      <td>-</td>\n      <td>-</td>\n      <td>-</td>\n      <td>Homo sapiens</td>\n      <td>Homo sapiens</td>\n    </tr>\n  </tbody>\n</table>\n<p>1188619 rows × 37 columns</p>\n</div>"
     },
     "execution_count": 89,
     "metadata": {},
     "output_type": "execute_result"
    }
   ],
   "source": [
    "biogrid"
   ],
   "metadata": {
    "collapsed": false,
    "ExecuteTime": {
     "end_time": "2023-12-27T14:00:43.128933793Z",
     "start_time": "2023-12-27T14:00:42.726172513Z"
    }
   },
   "id": "1193ea22855e3dc4"
  },
  {
   "cell_type": "markdown",
   "source": [
    "### Filter out all non-human interactions, i.e., both “organism A” and “B” fields must be = 9606 (Homo sapiens)\n",
    "First, we only keep human PPIs. The organism A and B columns are columns `Organism ID Interactor A` and `Organism ID Interactor B`."
   ],
   "metadata": {
    "collapsed": false
   },
   "id": "9fea19f2236a2cb"
  },
  {
   "cell_type": "code",
   "execution_count": 6,
   "outputs": [],
   "source": [
    "biogrid_human = biogrid[(biogrid[\"Organism ID Interactor A\"] == 9606) & (biogrid[\"Organism ID Interactor B\"] == 9606)]"
   ],
   "metadata": {
    "collapsed": false,
    "ExecuteTime": {
     "end_time": "2024-01-12T09:05:14.925882209Z",
     "start_time": "2024-01-12T09:05:14.728854867Z"
    }
   },
   "id": "eb9d737cbcda21dc"
  },
  {
   "cell_type": "markdown",
   "source": [
    "### Keep only “physical” interactions” (“Experimental System Type” = physical)\n",
    "Then, let's remove all non-physical interactions."
   ],
   "metadata": {
    "collapsed": false
   },
   "id": "77aad87aab2cd902"
  },
  {
   "cell_type": "code",
   "execution_count": 7,
   "outputs": [],
   "source": [
    "biogrid_human_physical = biogrid_human[biogrid_human[\"Experimental System Type\"] == \"physical\"]"
   ],
   "metadata": {
    "collapsed": false,
    "ExecuteTime": {
     "end_time": "2024-01-12T09:05:17.337288878Z",
     "start_time": "2024-01-12T09:05:17.014744717Z"
    }
   },
   "id": "95dd02692ff5fc93"
  },
  {
   "cell_type": "markdown",
   "source": [
    "### Purge out redundant and self loops\n",
    "Some of PPIs could be between proteins and themselves. If we think of the interactions as a graph structure, any edge that refers to its origin node can be removed. We can also remove any duplicate edges between nodes."
   ],
   "metadata": {
    "collapsed": false
   },
   "id": "fb1d59285fd00fe3"
  },
  {
   "cell_type": "markdown",
   "source": [
    "First, let's remove the self-loops by checking where the **Offical Symbol Interactor** columns are the same."
   ],
   "metadata": {
    "collapsed": false
   },
   "id": "be166b2f31025b97"
  },
  {
   "cell_type": "code",
   "execution_count": 8,
   "outputs": [
    {
     "name": "stdout",
     "output_type": "stream",
     "text": [
      "Total number of self loops 7393\n"
     ]
    }
   ],
   "source": [
    "biogrid_no_self_loops = biogrid_human_physical[biogrid_human_physical[\"Official Symbol Interactor A\"] != biogrid_human_physical[\"Official Symbol Interactor B\"]]\n",
    "\n",
    "print(f\"Total number of self loops {len(biogrid_human_physical) - len(biogrid_no_self_loops)}\")"
   ],
   "metadata": {
    "collapsed": false,
    "ExecuteTime": {
     "end_time": "2024-01-12T09:05:20.901648182Z",
     "start_time": "2024-01-12T09:05:20.549724809Z"
    }
   },
   "id": "6e9b2bfbb046f22d"
  },
  {
   "cell_type": "markdown",
   "source": [
    "As a next step, let's also remove all duplicate rows for the **Official Symbol Interactor A/B**, since we want to build a **simple** graph out of these interactors and not a **multi-graph**."
   ],
   "metadata": {
    "collapsed": false
   },
   "id": "8c812e9330469bfc"
  },
  {
   "cell_type": "code",
   "execution_count": 9,
   "outputs": [
    {
     "name": "stdout",
     "output_type": "stream",
     "text": [
      "There are 219740 duplicate rows\n"
     ]
    }
   ],
   "source": [
    "biogrid_no_duplicates = biogrid_no_self_loops[~biogrid_no_self_loops[[\"Official Symbol Interactor A\", \"Official Symbol Interactor B\"]].duplicated()]\n",
    "\n",
    "print(f\"There are {len(biogrid_no_self_loops) - len(biogrid_no_duplicates)} duplicate rows\")"
   ],
   "metadata": {
    "collapsed": false,
    "ExecuteTime": {
     "end_time": "2024-01-12T09:05:23.365771623Z",
     "start_time": "2024-01-12T09:05:22.879974261Z"
    }
   },
   "id": "8f50bd34972ae5d3"
  },
  {
   "cell_type": "markdown",
   "source": [
    "### Isolate LCC\n",
    "Finally, let's find the largest connected component (LCC) in the graph. The LCC is the largest subgraph that exists in our network. In this subgraph, every node can be reached from every other node."
   ],
   "metadata": {
    "collapsed": false
   },
   "id": "984c9de989024582"
  },
  {
   "cell_type": "code",
   "execution_count": 10,
   "outputs": [],
   "source": [
    "ppi_graph = nx.Graph()\n",
    "ppi_graph.add_edges_from(zip(biogrid_no_duplicates[\"Entrez Gene Interactor A\"], biogrid_no_duplicates[\"Entrez Gene Interactor B\"]))"
   ],
   "metadata": {
    "collapsed": false,
    "ExecuteTime": {
     "end_time": "2024-01-12T09:05:31.224431106Z",
     "start_time": "2024-01-12T09:05:29.540026677Z"
    }
   },
   "id": "eb5bd29c62edb04c"
  },
  {
   "cell_type": "markdown",
   "source": [
    "We can use the `connected_components` function from networkx to give us the nodes of the largest connected component. Then, we create a subgraph of these components."
   ],
   "metadata": {
    "collapsed": false
   },
   "id": "f3d0170894a0c97f"
  },
  {
   "cell_type": "code",
   "execution_count": 11,
   "outputs": [],
   "source": [
    "ppi_lcc_nodes = max(nx.connected_components(ppi_graph), key=len)\n",
    "ppi_lcc = ppi_graph.subgraph(ppi_lcc_nodes).copy()"
   ],
   "metadata": {
    "collapsed": false,
    "ExecuteTime": {
     "end_time": "2024-01-12T09:05:36.268255686Z",
     "start_time": "2024-01-12T09:05:32.554101214Z"
    }
   },
   "id": "60f9dcca25ceec22"
  },
  {
   "cell_type": "markdown",
   "source": [
    "### Save Network File\n",
    "For point 2, we need the LCC of the PPI network. We use the Entrez IDs because the disease data that we fetch later maps to this ID type."
   ],
   "metadata": {
    "collapsed": false
   },
   "id": "5513f2a5708c1ac0"
  },
  {
   "cell_type": "code",
   "execution_count": 12,
   "outputs": [],
   "source": [
    "nx.to_pandas_edgelist(ppi_lcc).to_csv(\"ppi_lcc.txt\", index=False, header=False)"
   ],
   "metadata": {
    "collapsed": false,
    "ExecuteTime": {
     "end_time": "2024-01-12T09:05:38.251770998Z",
     "start_time": "2024-01-12T09:05:36.309420552Z"
    }
   },
   "id": "95f9d291a18dd8e0"
  },
  {
   "cell_type": "markdown",
   "source": [
    "## 1.2 Gather gene-disease associations\n",
    "We want to gather gene-disease associations to explore the links between genes associated with specific diseases and the proteins they interact with.\n",
    "\n",
    "I will use the DisGENET REST-API to fetch the cureated information associated with the **polydactyly** disease (C0152427). Since the API requirest an authentication token, we will load the one we got when we created our account there from an environment variable."
   ],
   "metadata": {
    "collapsed": false
   },
   "id": "61f15426aea17152"
  },
  {
   "cell_type": "code",
   "execution_count": 13,
   "outputs": [],
   "source": [
    "polydactyly_concept_id = \"C0152427\""
   ],
   "metadata": {
    "collapsed": false,
    "ExecuteTime": {
     "end_time": "2024-01-12T09:05:43.083771079Z",
     "start_time": "2024-01-12T09:05:43.076887821Z"
    }
   },
   "id": "5eac38567c290f1f"
  },
  {
   "cell_type": "code",
   "execution_count": 14,
   "outputs": [],
   "source": [
    "response = requests.get(f\"https://www.disgenet.org/api/gda/disease/{polydactyly_concept_id}\", \n",
    "             params={\"source\":\"CURATED\"},\n",
    "             headers={'Authorization': f'Bearer {os.getenv(\"disgenet_api_token\")}'})"
   ],
   "metadata": {
    "collapsed": false,
    "ExecuteTime": {
     "end_time": "2024-01-12T09:05:46.595643370Z",
     "start_time": "2024-01-12T09:05:45.345955612Z"
    }
   },
   "id": "8e8cafd3b6df69c2"
  },
  {
   "cell_type": "markdown",
   "source": [
    "Let's take the response and turn it into a pandas dataframe to be able to work with it. The columns in the dataframe have the following meaning:\n",
    "\n",
    "* geneId: NCBI Entrez Gene Identifier\n",
    "* geneSymbol: Official Gene Symbol\n",
    "* DSI: The Disease Specificity Index for the gene\n",
    "* DPI: The Disease Pleiotropy Index for the gene\n",
    "* PLI: The probability for the gene of being loss-of-function intolerant, provided by the GNOMAD consortium\n",
    "* protein_class: Protein Class identifier according to the Drug Target Ontology  \n",
    "* protein_class_name: Protein Class according to the Drug Target Ontology  \n",
    "* NofDiseases: Number of diseases associated to the gene\n",
    "* NofPmids: Number of publications associated to the gene\n",
    "\n",
    "[source](https://www.disgenet.org/static/disgenet_ap1/files/downloads/readme.txt)\n"
   ],
   "metadata": {
    "collapsed": false
   },
   "id": "4a4176ec91b35a76"
  },
  {
   "cell_type": "code",
   "execution_count": 15,
   "outputs": [],
   "source": [
    "disease_df = pd.DataFrame(response.json())\n",
    "disease_df.geneid = disease_df.geneid.astype(str)"
   ],
   "metadata": {
    "collapsed": false,
    "ExecuteTime": {
     "end_time": "2024-01-12T09:05:49.021734656Z",
     "start_time": "2024-01-12T09:05:49.020580136Z"
    }
   },
   "id": "299fec0ccb91d568"
  },
  {
   "cell_type": "markdown",
   "source": [
    "### Keep Seed Genes in Interactome\n",
    "We only want to keep the seed genes that are actually present in the PPI interactome."
   ],
   "metadata": {
    "collapsed": false
   },
   "id": "78244f85d397bd"
  },
  {
   "cell_type": "code",
   "execution_count": 16,
   "outputs": [],
   "source": [
    "disease_df_in_ppi = disease_df[disease_df.geneid.isin(biogrid_no_duplicates[\"Entrez Gene Interactor A\"]) & disease_df.geneid.isin(biogrid_no_duplicates[\"Entrez Gene Interactor B\"])]"
   ],
   "metadata": {
    "collapsed": false,
    "ExecuteTime": {
     "end_time": "2024-01-12T09:05:51.781864903Z",
     "start_time": "2024-01-12T09:05:51.778906426Z"
    }
   },
   "id": "c28c6bd93872c3aa"
  },
  {
   "cell_type": "markdown",
   "source": [
    "### Save Seed Genes\n",
    "As for the PPIs above, we need to save the disease genes as a `.txt` file. We only save the `geneid` because that is the only data we need to run the algorithms for point 2."
   ],
   "metadata": {
    "collapsed": false
   },
   "id": "8d4ed6c0d1d7d5b1"
  },
  {
   "cell_type": "code",
   "execution_count": 17,
   "outputs": [],
   "source": [
    "disease_df_in_ppi.geneid.to_csv(\"seed_genes.txt\", index=False, header=False)"
   ],
   "metadata": {
    "collapsed": false,
    "ExecuteTime": {
     "end_time": "2024-01-12T09:05:56.962986656Z",
     "start_time": "2024-01-12T09:05:56.958990089Z"
    }
   },
   "id": "fcfa00decf3d42af"
  },
  {
   "cell_type": "markdown",
   "source": [
    "## 1.3 Compute and characterize the disease LCC and its basic network measures\n",
    "We need to do the following:\n",
    "\n",
    "* isolate the LCC of the disease network\n",
    "* Summarize the GDA-related data\n",
    "* Compute the following network metrics on the disease LCC:\n",
    "    * Node degree\n",
    "    * Betweenness centrality\n",
    "    * Eigenvector centrality\n",
    "    * Closeness centrality\n",
    "    * ratio Betweenness/Node degree\n",
    "* Report in a table the above network measures of the first 50 disease genes\n",
    "in the disease LCC ordered for node degree from higher to lower\n",
    "* Represent node degree and node betweenness in a scatterplot"
   ],
   "metadata": {
    "collapsed": false
   },
   "id": "1b784707542c21ea"
  },
  {
   "cell_type": "markdown",
   "source": [
    "### Isolate LCC of the Disease Network\n",
    "Here we want to **overlap** the genes from GDA with the genes in PPI, using the Entrez Gene ID. First, let's select the PPIs that have Entrez Interactors in the polydactyly gene disease association data frame."
   ],
   "metadata": {
    "collapsed": false
   },
   "id": "1eeaf193a6c55329"
  },
  {
   "cell_type": "code",
   "execution_count": 18,
   "outputs": [],
   "source": [
    "# the PPIs that appear in the GDA\n",
    "disease_genes = biogrid_no_duplicates[(biogrid_no_duplicates[\"Entrez Gene Interactor A\"].isin(disease_df.geneid)) & (biogrid_no_duplicates[\"Entrez Gene Interactor B\"].isin(disease_df.geneid))]"
   ],
   "metadata": {
    "collapsed": false,
    "ExecuteTime": {
     "end_time": "2024-01-12T09:06:04.014337191Z",
     "start_time": "2024-01-12T09:06:03.973113945Z"
    }
   },
   "id": "8a79ba25fd16dadb"
  },
  {
   "cell_type": "code",
   "execution_count": 19,
   "outputs": [
    {
     "data": {
      "text/plain": "         #BioGRID Interaction ID Entrez Gene Interactor A  \\\n26281                     286709                    79659   \n26282                     286710                    51626   \n31663                     303378                     2263   \n108651                    719956                     4750   \n113324                    726261                     5296   \n...                          ...                      ...   \n1119584                  3490560                     2260   \n1131155                  3509017                     2263   \n1131778                  3509640                     2261   \n1132261                  3510123                     2261   \n1195209                  3629939                    84100   \n\n        Entrez Gene Interactor B  BioGRID ID Interactor A  \\\n26281                      51626                   122785   \n26282                      79659                   119644   \n31663                       2255                   108554   \n108651                     11127                   110825   \n113324                      5290                   111314   \n...                          ...                      ...   \n1119584                     2263                   108551   \n1131155                     5296                   108554   \n1131778                     2260                   108552   \n1132261                     8239                   108552   \n1195209                      582                   123889   \n\n         BioGRID ID Interactor B Systematic Name Interactor A  \\\n26281                     119644                            -   \n26282                     122785                       CGI-60   \n31663                     108546                            -   \n108651                    116300                            -   \n113324                    111308                            -   \n...                          ...                          ...   \n1119584                   108554                            -   \n1131155                   111314                            -   \n1131778                   108551                            -   \n1132261                   113867                            -   \n1195209                   107058                            -   \n\n        Systematic Name Interactor B Official Symbol Interactor A  \\\n26281                         CGI-60                      DYNC2H1   \n26282                              -                     DYNC2LI1   \n31663                              -                        FGFR2   \n108651                             -                         NEK1   \n113324                             -                       PIK3R2   \n...                              ...                          ...   \n1119584                            -                        FGFR1   \n1131155                            -                        FGFR2   \n1131778                            -                        FGFR3   \n1132261                RP5-1172N10.4                        FGFR3   \n1195209                            -                         ARL6   \n\n        Official Symbol Interactor B  \\\n26281                       DYNC2LI1   \n26282                        DYNC2H1   \n31663                          FGF10   \n108651                         KIF3A   \n113324                        PIK3CA   \n...                              ...   \n1119584                        FGFR2   \n1131155                       PIK3R2   \n1131778                        FGFR1   \n1132261                        USP9X   \n1195209                         BBS1   \n\n                                     Synonyms Interactor A  ...  \\\n26281      ATD3|DHC1b|DHC2|DNCH2|DYH1B|SRPS2B|SRTD3|hdhc11  ...   \n26282                                           D2LIC|LIC3  ...   \n31663    BBDS|BEK|BFR-1|CD332|CEK3|CFD1|ECT1|JWS|K-SAM|...  ...   \n108651                        NY-REN-55|SRPS2|SRPS2A|SRTD6  ...   \n113324                        MPPH|MPPH1|P85B|p85|p85-BETA  ...   \n...                                                    ...  ...   \n1119584  BFGFR|CD331|CEK|FGFBR|FGFR-1|FLG|FLT-2|FLT2|HB...  ...   \n1131155  BBDS|BEK|BFR-1|CD332|CEK3|CFD1|ECT1|JWS|K-SAM|...  ...   \n1131778                      ACH|CD333|CEK2|HSFGFR3EX|JTK4  ...   \n1132261                      ACH|CD333|CEK2|HSFGFR3EX|JTK4  ...   \n1195209                                          BBS3|RP55  ...   \n\n        TREMBL Accessions Interactor B  \\\n26281                                -   \n26282                                -   \n31663                                -   \n108651     E9PES4|J3KPF9|Q05CT3|B4DHG8   \n113324                               -   \n...                                ...   \n1119584                  D3DRD5|D2CGD1   \n1131155                              -   \n1131778                              -   \n1132261                  Q6P468|Q86X58   \n1195209                              -   \n\n                            REFSEQ Accessions Interactor B Ontology Term IDs  \\\n26281                     NP_056337|NP_057092|NP_001180393                 -   \n26282                               NP_001073932|NP_001368                 -   \n31663                                            NP_004456                 -   \n108651                 NP_008985|NP_001287720|NP_001287721                 -   \n113324                                           NP_006209       BTO:0000664   \n...                                                    ...               ...   \n1119584  NP_000132|NP_075259|NP_075418|NP_001138389|NP_...                 -   \n1131155                                          NP_005018                 -   \n1131778  NP_075598|NP_075593|NP_075594|NP_001167538|NP_...                 -   \n1132261                          NP_001034680|NP_001034679                 -   \n1195209                                          NP_078925                 -   \n\n        Ontology Term Names Ontology Term Categories  \\\n26281                     -                        -   \n26282                     -                        -   \n31663                     -                        -   \n108651                    -                        -   \n113324           K-562 cell                cell line   \n...                     ...                      ...   \n1119584                   -                        -   \n1131155                   -                        -   \n1131778                   -                        -   \n1132261                   -                        -   \n1195209                   -                        -   \n\n         Ontology Term Qualifier IDs  Ontology Term Qualifier Names  \\\n26281                              -                              -   \n26282                              -                              -   \n31663                              -                              -   \n108651                             -                              -   \n113324                     DOID:8552       chronic myeloid leukemia   \n...                              ...                            ...   \n1119584                            -                              -   \n1131155                            -                              -   \n1131778                            -                              -   \n1132261                            -                              -   \n1195209                            -                              -   \n\n        Ontology Term Types Organism Name Interactor A  \\\n26281                     -               Homo sapiens   \n26282                     -               Homo sapiens   \n31663                     -               Homo sapiens   \n108651                    -               Homo sapiens   \n113324                    -               Homo sapiens   \n...                     ...                        ...   \n1119584                   -               Homo sapiens   \n1131155                   -               Homo sapiens   \n1131778                   -               Homo sapiens   \n1132261                   -               Homo sapiens   \n1195209                   -               Homo sapiens   \n\n        Organism Name Interactor B  \n26281                 Homo sapiens  \n26282                 Homo sapiens  \n31663                 Homo sapiens  \n108651                Homo sapiens  \n113324                Homo sapiens  \n...                            ...  \n1119584               Homo sapiens  \n1131155               Homo sapiens  \n1131778               Homo sapiens  \n1132261               Homo sapiens  \n1195209               Homo sapiens  \n\n[168 rows x 37 columns]",
      "text/html": "<div>\n<style scoped>\n    .dataframe tbody tr th:only-of-type {\n        vertical-align: middle;\n    }\n\n    .dataframe tbody tr th {\n        vertical-align: top;\n    }\n\n    .dataframe thead th {\n        text-align: right;\n    }\n</style>\n<table border=\"1\" class=\"dataframe\">\n  <thead>\n    <tr style=\"text-align: right;\">\n      <th></th>\n      <th>#BioGRID Interaction ID</th>\n      <th>Entrez Gene Interactor A</th>\n      <th>Entrez Gene Interactor B</th>\n      <th>BioGRID ID Interactor A</th>\n      <th>BioGRID ID Interactor B</th>\n      <th>Systematic Name Interactor A</th>\n      <th>Systematic Name Interactor B</th>\n      <th>Official Symbol Interactor A</th>\n      <th>Official Symbol Interactor B</th>\n      <th>Synonyms Interactor A</th>\n      <th>...</th>\n      <th>TREMBL Accessions Interactor B</th>\n      <th>REFSEQ Accessions Interactor B</th>\n      <th>Ontology Term IDs</th>\n      <th>Ontology Term Names</th>\n      <th>Ontology Term Categories</th>\n      <th>Ontology Term Qualifier IDs</th>\n      <th>Ontology Term Qualifier Names</th>\n      <th>Ontology Term Types</th>\n      <th>Organism Name Interactor A</th>\n      <th>Organism Name Interactor B</th>\n    </tr>\n  </thead>\n  <tbody>\n    <tr>\n      <th>26281</th>\n      <td>286709</td>\n      <td>79659</td>\n      <td>51626</td>\n      <td>122785</td>\n      <td>119644</td>\n      <td>-</td>\n      <td>CGI-60</td>\n      <td>DYNC2H1</td>\n      <td>DYNC2LI1</td>\n      <td>ATD3|DHC1b|DHC2|DNCH2|DYH1B|SRPS2B|SRTD3|hdhc11</td>\n      <td>...</td>\n      <td>-</td>\n      <td>NP_056337|NP_057092|NP_001180393</td>\n      <td>-</td>\n      <td>-</td>\n      <td>-</td>\n      <td>-</td>\n      <td>-</td>\n      <td>-</td>\n      <td>Homo sapiens</td>\n      <td>Homo sapiens</td>\n    </tr>\n    <tr>\n      <th>26282</th>\n      <td>286710</td>\n      <td>51626</td>\n      <td>79659</td>\n      <td>119644</td>\n      <td>122785</td>\n      <td>CGI-60</td>\n      <td>-</td>\n      <td>DYNC2LI1</td>\n      <td>DYNC2H1</td>\n      <td>D2LIC|LIC3</td>\n      <td>...</td>\n      <td>-</td>\n      <td>NP_001073932|NP_001368</td>\n      <td>-</td>\n      <td>-</td>\n      <td>-</td>\n      <td>-</td>\n      <td>-</td>\n      <td>-</td>\n      <td>Homo sapiens</td>\n      <td>Homo sapiens</td>\n    </tr>\n    <tr>\n      <th>31663</th>\n      <td>303378</td>\n      <td>2263</td>\n      <td>2255</td>\n      <td>108554</td>\n      <td>108546</td>\n      <td>-</td>\n      <td>-</td>\n      <td>FGFR2</td>\n      <td>FGF10</td>\n      <td>BBDS|BEK|BFR-1|CD332|CEK3|CFD1|ECT1|JWS|K-SAM|...</td>\n      <td>...</td>\n      <td>-</td>\n      <td>NP_004456</td>\n      <td>-</td>\n      <td>-</td>\n      <td>-</td>\n      <td>-</td>\n      <td>-</td>\n      <td>-</td>\n      <td>Homo sapiens</td>\n      <td>Homo sapiens</td>\n    </tr>\n    <tr>\n      <th>108651</th>\n      <td>719956</td>\n      <td>4750</td>\n      <td>11127</td>\n      <td>110825</td>\n      <td>116300</td>\n      <td>-</td>\n      <td>-</td>\n      <td>NEK1</td>\n      <td>KIF3A</td>\n      <td>NY-REN-55|SRPS2|SRPS2A|SRTD6</td>\n      <td>...</td>\n      <td>E9PES4|J3KPF9|Q05CT3|B4DHG8</td>\n      <td>NP_008985|NP_001287720|NP_001287721</td>\n      <td>-</td>\n      <td>-</td>\n      <td>-</td>\n      <td>-</td>\n      <td>-</td>\n      <td>-</td>\n      <td>Homo sapiens</td>\n      <td>Homo sapiens</td>\n    </tr>\n    <tr>\n      <th>113324</th>\n      <td>726261</td>\n      <td>5296</td>\n      <td>5290</td>\n      <td>111314</td>\n      <td>111308</td>\n      <td>-</td>\n      <td>-</td>\n      <td>PIK3R2</td>\n      <td>PIK3CA</td>\n      <td>MPPH|MPPH1|P85B|p85|p85-BETA</td>\n      <td>...</td>\n      <td>-</td>\n      <td>NP_006209</td>\n      <td>BTO:0000664</td>\n      <td>K-562 cell</td>\n      <td>cell line</td>\n      <td>DOID:8552</td>\n      <td>chronic myeloid leukemia</td>\n      <td>-</td>\n      <td>Homo sapiens</td>\n      <td>Homo sapiens</td>\n    </tr>\n    <tr>\n      <th>...</th>\n      <td>...</td>\n      <td>...</td>\n      <td>...</td>\n      <td>...</td>\n      <td>...</td>\n      <td>...</td>\n      <td>...</td>\n      <td>...</td>\n      <td>...</td>\n      <td>...</td>\n      <td>...</td>\n      <td>...</td>\n      <td>...</td>\n      <td>...</td>\n      <td>...</td>\n      <td>...</td>\n      <td>...</td>\n      <td>...</td>\n      <td>...</td>\n      <td>...</td>\n      <td>...</td>\n    </tr>\n    <tr>\n      <th>1119584</th>\n      <td>3490560</td>\n      <td>2260</td>\n      <td>2263</td>\n      <td>108551</td>\n      <td>108554</td>\n      <td>-</td>\n      <td>-</td>\n      <td>FGFR1</td>\n      <td>FGFR2</td>\n      <td>BFGFR|CD331|CEK|FGFBR|FGFR-1|FLG|FLT-2|FLT2|HB...</td>\n      <td>...</td>\n      <td>D3DRD5|D2CGD1</td>\n      <td>NP_000132|NP_075259|NP_075418|NP_001138389|NP_...</td>\n      <td>-</td>\n      <td>-</td>\n      <td>-</td>\n      <td>-</td>\n      <td>-</td>\n      <td>-</td>\n      <td>Homo sapiens</td>\n      <td>Homo sapiens</td>\n    </tr>\n    <tr>\n      <th>1131155</th>\n      <td>3509017</td>\n      <td>2263</td>\n      <td>5296</td>\n      <td>108554</td>\n      <td>111314</td>\n      <td>-</td>\n      <td>-</td>\n      <td>FGFR2</td>\n      <td>PIK3R2</td>\n      <td>BBDS|BEK|BFR-1|CD332|CEK3|CFD1|ECT1|JWS|K-SAM|...</td>\n      <td>...</td>\n      <td>-</td>\n      <td>NP_005018</td>\n      <td>-</td>\n      <td>-</td>\n      <td>-</td>\n      <td>-</td>\n      <td>-</td>\n      <td>-</td>\n      <td>Homo sapiens</td>\n      <td>Homo sapiens</td>\n    </tr>\n    <tr>\n      <th>1131778</th>\n      <td>3509640</td>\n      <td>2261</td>\n      <td>2260</td>\n      <td>108552</td>\n      <td>108551</td>\n      <td>-</td>\n      <td>-</td>\n      <td>FGFR3</td>\n      <td>FGFR1</td>\n      <td>ACH|CD333|CEK2|HSFGFR3EX|JTK4</td>\n      <td>...</td>\n      <td>-</td>\n      <td>NP_075598|NP_075593|NP_075594|NP_001167538|NP_...</td>\n      <td>-</td>\n      <td>-</td>\n      <td>-</td>\n      <td>-</td>\n      <td>-</td>\n      <td>-</td>\n      <td>Homo sapiens</td>\n      <td>Homo sapiens</td>\n    </tr>\n    <tr>\n      <th>1132261</th>\n      <td>3510123</td>\n      <td>2261</td>\n      <td>8239</td>\n      <td>108552</td>\n      <td>113867</td>\n      <td>-</td>\n      <td>RP5-1172N10.4</td>\n      <td>FGFR3</td>\n      <td>USP9X</td>\n      <td>ACH|CD333|CEK2|HSFGFR3EX|JTK4</td>\n      <td>...</td>\n      <td>Q6P468|Q86X58</td>\n      <td>NP_001034680|NP_001034679</td>\n      <td>-</td>\n      <td>-</td>\n      <td>-</td>\n      <td>-</td>\n      <td>-</td>\n      <td>-</td>\n      <td>Homo sapiens</td>\n      <td>Homo sapiens</td>\n    </tr>\n    <tr>\n      <th>1195209</th>\n      <td>3629939</td>\n      <td>84100</td>\n      <td>582</td>\n      <td>123889</td>\n      <td>107058</td>\n      <td>-</td>\n      <td>-</td>\n      <td>ARL6</td>\n      <td>BBS1</td>\n      <td>BBS3|RP55</td>\n      <td>...</td>\n      <td>-</td>\n      <td>NP_078925</td>\n      <td>-</td>\n      <td>-</td>\n      <td>-</td>\n      <td>-</td>\n      <td>-</td>\n      <td>-</td>\n      <td>Homo sapiens</td>\n      <td>Homo sapiens</td>\n    </tr>\n  </tbody>\n</table>\n<p>168 rows × 37 columns</p>\n</div>"
     },
     "execution_count": 19,
     "metadata": {},
     "output_type": "execute_result"
    }
   ],
   "source": [
    "disease_genes"
   ],
   "metadata": {
    "collapsed": false,
    "ExecuteTime": {
     "end_time": "2024-01-12T09:06:05.936962198Z",
     "start_time": "2024-01-12T09:06:05.893430272Z"
    }
   },
   "id": "4964d84c7699fb8a"
  },
  {
   "cell_type": "markdown",
   "source": [
    "Then, let's first create a graph from the PPIs that are associated with Polydactyly."
   ],
   "metadata": {
    "collapsed": false
   },
   "id": "4e818ba27aa4eb31"
  },
  {
   "cell_type": "code",
   "execution_count": 20,
   "outputs": [],
   "source": [
    "disease_ppi_graph = nx.Graph()\n",
    "disease_ppi_graph.add_edges_from(zip(disease_genes[\"Official Symbol Interactor A\"], disease_genes[\"Official Symbol Interactor B\"]))"
   ],
   "metadata": {
    "collapsed": false,
    "ExecuteTime": {
     "end_time": "2024-01-12T09:06:09.923583248Z",
     "start_time": "2024-01-12T09:06:09.921476199Z"
    }
   },
   "id": "12dd6f9781e49cae"
  },
  {
   "cell_type": "markdown",
   "source": [
    "Once we have the graph of the PPIs that are associated with Polydactyly, we can select the subgraph that has the most connected components."
   ],
   "metadata": {
    "collapsed": false
   },
   "id": "690bf7823ec95f4d"
  },
  {
   "cell_type": "code",
   "execution_count": 21,
   "outputs": [],
   "source": [
    "disease_ppi_lcc_nodes = max(nx.connected_components(disease_ppi_graph), key=len)\n",
    "disease_ppi_lcc = disease_ppi_graph.subgraph(disease_ppi_lcc_nodes).copy()"
   ],
   "metadata": {
    "collapsed": false,
    "ExecuteTime": {
     "end_time": "2024-01-12T09:06:11.423811268Z",
     "start_time": "2024-01-12T09:06:11.421239381Z"
    }
   },
   "id": "3e63af804cfb1eaa"
  },
  {
   "cell_type": "markdown",
   "source": [
    "### Summarise the GDA Related Data\n",
    "Here, we summarise the GDA data in a table."
   ],
   "metadata": {
    "collapsed": false
   },
   "id": "4630a2fa238bbb3d"
  },
  {
   "cell_type": "code",
   "execution_count": 23,
   "outputs": [],
   "source": [
    "disease_name = \"Polydactyly\"\n",
    "disease_id = polydactyly_concept_id\n",
    "disease_class = \"C05\"\n",
    "num_associated_genes = len(disease_df)\n",
    "num_genes_in_interactome = disease_ppi_graph.number_of_nodes()\n",
    "lcc_interactome_size = disease_ppi_lcc.number_of_nodes()"
   ],
   "metadata": {
    "collapsed": false,
    "ExecuteTime": {
     "end_time": "2024-01-12T09:06:22.315172169Z",
     "start_time": "2024-01-12T09:06:22.312723866Z"
    }
   },
   "id": "eca6151f1afce2b6"
  },
  {
   "cell_type": "code",
   "execution_count": 24,
   "outputs": [
    {
     "data": {
      "text/plain": "  Disease Name UMLS Disease ID MeSH Disease Class  Number of Associated Genes  \\\n0  Polydactyly        C0152427                C05                         117   \n\n   Number of Genes Present in Interactome  LCC Size of the Disease Interactome  \n0                                      78                                   63  ",
      "text/html": "<div>\n<style scoped>\n    .dataframe tbody tr th:only-of-type {\n        vertical-align: middle;\n    }\n\n    .dataframe tbody tr th {\n        vertical-align: top;\n    }\n\n    .dataframe thead th {\n        text-align: right;\n    }\n</style>\n<table border=\"1\" class=\"dataframe\">\n  <thead>\n    <tr style=\"text-align: right;\">\n      <th></th>\n      <th>Disease Name</th>\n      <th>UMLS Disease ID</th>\n      <th>MeSH Disease Class</th>\n      <th>Number of Associated Genes</th>\n      <th>Number of Genes Present in Interactome</th>\n      <th>LCC Size of the Disease Interactome</th>\n    </tr>\n  </thead>\n  <tbody>\n    <tr>\n      <th>0</th>\n      <td>Polydactyly</td>\n      <td>C0152427</td>\n      <td>C05</td>\n      <td>117</td>\n      <td>78</td>\n      <td>63</td>\n    </tr>\n  </tbody>\n</table>\n</div>"
     },
     "metadata": {},
     "output_type": "display_data"
    }
   ],
   "source": [
    "gda_summary_df = pd.DataFrame(data=[[disease_name, disease_id, disease_class, num_associated_genes, num_genes_in_interactome, lcc_interactome_size]], columns=[\"Disease Name\", \"UMLS Disease ID\", \"MeSH Disease Class\", \"Number of Associated Genes\", \"Number of Genes Present in Interactome\", \"LCC Size of the Disease Interactome\"])\n",
    "gda_summary_df.to_csv(\"gda_summary_df.csv\", index=None)\n",
    "display(gda_summary_df)"
   ],
   "metadata": {
    "collapsed": false,
    "ExecuteTime": {
     "end_time": "2024-01-12T09:06:26.164337666Z",
     "start_time": "2024-01-12T09:06:26.119754716Z"
    }
   },
   "id": "c229e084746d977d"
  },
  {
   "cell_type": "markdown",
   "source": [
    "### Network Metrics\n",
    "Now, let's summarise the network metrics for the first 50 disease genes in the disease LCC ordered for node degree in descending order.\n",
    "\n",
    "First, we gather all the metrics on the entire graph using `networkx`, we can do this because it is a small graph. "
   ],
   "metadata": {
    "collapsed": false
   },
   "id": "ff10f3e01890fb1f"
  },
  {
   "cell_type": "code",
   "execution_count": 25,
   "outputs": [],
   "source": [
    "degrees = {node: nx.degree(disease_ppi_lcc, node) for  node in disease_ppi_lcc}\n",
    "betweenness_centralities = nx.betweenness_centrality(disease_ppi_lcc)\n",
    "eigenvector_centralities = nx.eigenvector_centrality(disease_ppi_lcc)\n",
    "closeness_centralities = nx.closeness_centrality(disease_ppi_lcc)"
   ],
   "metadata": {
    "collapsed": false,
    "ExecuteTime": {
     "end_time": "2024-01-12T09:06:36.391680902Z",
     "start_time": "2024-01-12T09:06:36.350204173Z"
    }
   },
   "id": "8e0453c6d82ef912"
  },
  {
   "cell_type": "markdown",
   "source": [
    "As the next step, let's rework the data so that we can create a nice pandas dataframe out of it. We will create a list of lists, where each nested list is a **row** in the dataframe.\n",
    "\n",
    "```\n",
    "[[gene, degree, betweenness, eigenvector, closeness, ratio]]\n",
    "```"
   ],
   "metadata": {
    "collapsed": false
   },
   "id": "9cc21ed29d10f47f"
  },
  {
   "cell_type": "code",
   "execution_count": 26,
   "outputs": [],
   "source": [
    "rows = []\n",
    "for node in disease_ppi_lcc:\n",
    "    degree = degrees[node]\n",
    "    betweenness = betweenness_centralities[node]\n",
    "    eigenvector = eigenvector_centralities[node]\n",
    "    closeness = closeness_centralities[node]\n",
    "    ratio = betweenness / degree\n",
    "    \n",
    "    rows.append([node, degree, betweenness, eigenvector, closeness, ratio])"
   ],
   "metadata": {
    "collapsed": false,
    "ExecuteTime": {
     "end_time": "2024-01-12T09:06:40.677607408Z",
     "start_time": "2024-01-12T09:06:40.670056943Z"
    }
   },
   "id": "c0635e80ebe39c17"
  },
  {
   "cell_type": "markdown",
   "source": [
    "Finally, we create the dataframe using the list of lists created in the cell above, save it, sort it, and display the first 50 rows."
   ],
   "metadata": {
    "collapsed": false
   },
   "id": "a5fa5e7fd6b7af2b"
  },
  {
   "cell_type": "code",
   "execution_count": 29,
   "outputs": [
    {
     "data": {
      "text/plain": "    Rank      Gene  Degree  Betweenness Centrality  Eigenvector Centrality  \\\n12     1      BBS7      11                  0.1712                  0.3668   \n26     2      OFD1      10                  0.5001                  0.0802   \n10     3      BBS4       9                  0.2526                  0.3565   \n17     4     TCTN2       9                  0.1036                  0.0101   \n27     5    CC2D2A       9                  0.2979                  0.0242   \n13     6      BBS1       9                  0.1243                  0.3519   \n8      7    LZTFL1       8                  0.0323                  0.3455   \n15     8      BBS5       7                  0.0000                  0.3396   \n14     9      BBS9       7                  0.0000                  0.3396   \n24    10     IFT88       7                  0.1789                  0.0118   \n19    11      B9D2       7                  0.0335                  0.0095   \n9     12      BBS2       7                  0.0000                  0.3396   \n11    13      TTC8       7                  0.0000                  0.3396   \n16    14   TMEM231       6                  0.0639                  0.0087   \n28    15    CEP290       6                  0.2600                  0.0268   \n51    16    IFT172       6                  0.0012                  0.0038   \n21    17      MKS1       5                  0.0000                  0.0085   \n18    18      B9D1       5                  0.0000                  0.0085   \n22    19     IFT80       5                  0.0001                  0.0035   \n36    20    CEP120       5                  0.0819                  0.0224   \n52    21     IFT27       5                  0.0001                  0.0035   \n33    22     TCTN3       5                  0.0499                  0.0068   \n4     23    PIK3R2       5                  0.0612                  0.0008   \n23    24     IFT52       4                  0.0000                  0.0032   \n35    25       LBR       4                  0.0640                  0.0024   \n42    26     FGFR1       4                  0.0190                  0.0005   \n43    27      PTEN       4                  0.0624                  0.0007   \n30    28      KIF7       4                  0.0702                  0.0578   \n7     29    CEP164       4                  0.2614                  0.0651   \n0     30     FGFR2       4                  0.0190                  0.0005   \n20    31     FGFR3       4                  0.0801                  0.0019   \n55    32     USP9X       4                  0.1991                  0.0042   \n53    33  TRAF3IP1       4                  0.0000                  0.0032   \n31    34     CSPP1       4                  0.0161                  0.0201   \n44    35     IFT43       3                  0.0635                  0.0513   \n2     36      NEK1       3                  0.0342                  0.0059   \n29    37  RPGRIP1L       3                  0.0151                  0.0148   \n59    38      GLI2       3                  0.0146                  0.0207   \n5     39    PIK3CA       2                  0.0011                  0.0001   \n57    40     CCND2       2                  0.0005                  0.0001   \n61    41      GLI3       2                  0.0000                  0.0109   \n25    42      AHI1       2                  0.0000                  0.0145   \n1     43     FGF10       2                  0.0000                  0.0001   \n46    44     BBS12       2                  0.0323                  0.0521   \n45    45    TTC21B       2                  0.0000                  0.0083   \n34    46       EBP       2                  0.0000                  0.0023   \n37    47     ALMS1       2                  0.0158                  0.0542   \n54    48       ICK       2                  0.0000                  0.0022   \n48    49    IFT140       2                  0.0000                  0.0083   \n6     50     NPHP3       1                  0.0000                  0.0091   \n\n    Closeness Centrality  Betweenness Degree Ratio  \n12                0.3039                    0.0156  \n26                0.3974                    0.0500  \n10                0.3388                    0.0281  \n17                0.2884                    0.0115  \n27                0.3563                    0.0331  \n13                0.2870                    0.0138  \n8                 0.2831                    0.0040  \n15                0.2818                    0.0000  \n14                0.2818                    0.0000  \n24                0.2696                    0.0256  \n19                0.2831                    0.0048  \n9                 0.2818                    0.0000  \n11                0.2818                    0.0000  \n16                0.2938                    0.0106  \n28                0.3523                    0.0433  \n51                0.2168                    0.0002  \n21                0.2805                    0.0000  \n18                0.2805                    0.0000  \n22                0.2160                    0.0000  \n36                0.3010                    0.0164  \n52                0.2160                    0.0000  \n33                0.2780                    0.0100  \n4                 0.2313                    0.0122  \n23                0.2153                    0.0000  \n35                0.2288                    0.0160  \n42                0.2074                    0.0048  \n43                0.2296                    0.0156  \n30                0.3100                    0.0175  \n7                 0.3425                    0.0653  \n0                 0.2074                    0.0048  \n20                0.2500                    0.0200  \n55                0.2844                    0.0498  \n53                0.2153                    0.0000  \n31                0.3131                    0.0040  \n44                0.2271                    0.0212  \n2                 0.2661                    0.0114  \n29                0.2925                    0.0050  \n59                0.2911                    0.0049  \n5                 0.1896                    0.0005  \n57                0.1884                    0.0003  \n61                0.2541                    0.0000  \n25                0.3100                    0.0000  \n1                 0.1727                    0.0000  \n46                0.2357                    0.0161  \n45                0.1862                    0.0000  \n34                0.2255                    0.0000  \n37                0.2743                    0.0079  \n54                0.2138                    0.0000  \n48                0.1862                    0.0000  \n6                 0.2562                    0.0000  ",
      "text/html": "<div>\n<style scoped>\n    .dataframe tbody tr th:only-of-type {\n        vertical-align: middle;\n    }\n\n    .dataframe tbody tr th {\n        vertical-align: top;\n    }\n\n    .dataframe thead th {\n        text-align: right;\n    }\n</style>\n<table border=\"1\" class=\"dataframe\">\n  <thead>\n    <tr style=\"text-align: right;\">\n      <th></th>\n      <th>Rank</th>\n      <th>Gene</th>\n      <th>Degree</th>\n      <th>Betweenness Centrality</th>\n      <th>Eigenvector Centrality</th>\n      <th>Closeness Centrality</th>\n      <th>Betweenness Degree Ratio</th>\n    </tr>\n  </thead>\n  <tbody>\n    <tr>\n      <th>12</th>\n      <td>1</td>\n      <td>BBS7</td>\n      <td>11</td>\n      <td>0.1712</td>\n      <td>0.3668</td>\n      <td>0.3039</td>\n      <td>0.0156</td>\n    </tr>\n    <tr>\n      <th>26</th>\n      <td>2</td>\n      <td>OFD1</td>\n      <td>10</td>\n      <td>0.5001</td>\n      <td>0.0802</td>\n      <td>0.3974</td>\n      <td>0.0500</td>\n    </tr>\n    <tr>\n      <th>10</th>\n      <td>3</td>\n      <td>BBS4</td>\n      <td>9</td>\n      <td>0.2526</td>\n      <td>0.3565</td>\n      <td>0.3388</td>\n      <td>0.0281</td>\n    </tr>\n    <tr>\n      <th>17</th>\n      <td>4</td>\n      <td>TCTN2</td>\n      <td>9</td>\n      <td>0.1036</td>\n      <td>0.0101</td>\n      <td>0.2884</td>\n      <td>0.0115</td>\n    </tr>\n    <tr>\n      <th>27</th>\n      <td>5</td>\n      <td>CC2D2A</td>\n      <td>9</td>\n      <td>0.2979</td>\n      <td>0.0242</td>\n      <td>0.3563</td>\n      <td>0.0331</td>\n    </tr>\n    <tr>\n      <th>13</th>\n      <td>6</td>\n      <td>BBS1</td>\n      <td>9</td>\n      <td>0.1243</td>\n      <td>0.3519</td>\n      <td>0.2870</td>\n      <td>0.0138</td>\n    </tr>\n    <tr>\n      <th>8</th>\n      <td>7</td>\n      <td>LZTFL1</td>\n      <td>8</td>\n      <td>0.0323</td>\n      <td>0.3455</td>\n      <td>0.2831</td>\n      <td>0.0040</td>\n    </tr>\n    <tr>\n      <th>15</th>\n      <td>8</td>\n      <td>BBS5</td>\n      <td>7</td>\n      <td>0.0000</td>\n      <td>0.3396</td>\n      <td>0.2818</td>\n      <td>0.0000</td>\n    </tr>\n    <tr>\n      <th>14</th>\n      <td>9</td>\n      <td>BBS9</td>\n      <td>7</td>\n      <td>0.0000</td>\n      <td>0.3396</td>\n      <td>0.2818</td>\n      <td>0.0000</td>\n    </tr>\n    <tr>\n      <th>24</th>\n      <td>10</td>\n      <td>IFT88</td>\n      <td>7</td>\n      <td>0.1789</td>\n      <td>0.0118</td>\n      <td>0.2696</td>\n      <td>0.0256</td>\n    </tr>\n    <tr>\n      <th>19</th>\n      <td>11</td>\n      <td>B9D2</td>\n      <td>7</td>\n      <td>0.0335</td>\n      <td>0.0095</td>\n      <td>0.2831</td>\n      <td>0.0048</td>\n    </tr>\n    <tr>\n      <th>9</th>\n      <td>12</td>\n      <td>BBS2</td>\n      <td>7</td>\n      <td>0.0000</td>\n      <td>0.3396</td>\n      <td>0.2818</td>\n      <td>0.0000</td>\n    </tr>\n    <tr>\n      <th>11</th>\n      <td>13</td>\n      <td>TTC8</td>\n      <td>7</td>\n      <td>0.0000</td>\n      <td>0.3396</td>\n      <td>0.2818</td>\n      <td>0.0000</td>\n    </tr>\n    <tr>\n      <th>16</th>\n      <td>14</td>\n      <td>TMEM231</td>\n      <td>6</td>\n      <td>0.0639</td>\n      <td>0.0087</td>\n      <td>0.2938</td>\n      <td>0.0106</td>\n    </tr>\n    <tr>\n      <th>28</th>\n      <td>15</td>\n      <td>CEP290</td>\n      <td>6</td>\n      <td>0.2600</td>\n      <td>0.0268</td>\n      <td>0.3523</td>\n      <td>0.0433</td>\n    </tr>\n    <tr>\n      <th>51</th>\n      <td>16</td>\n      <td>IFT172</td>\n      <td>6</td>\n      <td>0.0012</td>\n      <td>0.0038</td>\n      <td>0.2168</td>\n      <td>0.0002</td>\n    </tr>\n    <tr>\n      <th>21</th>\n      <td>17</td>\n      <td>MKS1</td>\n      <td>5</td>\n      <td>0.0000</td>\n      <td>0.0085</td>\n      <td>0.2805</td>\n      <td>0.0000</td>\n    </tr>\n    <tr>\n      <th>18</th>\n      <td>18</td>\n      <td>B9D1</td>\n      <td>5</td>\n      <td>0.0000</td>\n      <td>0.0085</td>\n      <td>0.2805</td>\n      <td>0.0000</td>\n    </tr>\n    <tr>\n      <th>22</th>\n      <td>19</td>\n      <td>IFT80</td>\n      <td>5</td>\n      <td>0.0001</td>\n      <td>0.0035</td>\n      <td>0.2160</td>\n      <td>0.0000</td>\n    </tr>\n    <tr>\n      <th>36</th>\n      <td>20</td>\n      <td>CEP120</td>\n      <td>5</td>\n      <td>0.0819</td>\n      <td>0.0224</td>\n      <td>0.3010</td>\n      <td>0.0164</td>\n    </tr>\n    <tr>\n      <th>52</th>\n      <td>21</td>\n      <td>IFT27</td>\n      <td>5</td>\n      <td>0.0001</td>\n      <td>0.0035</td>\n      <td>0.2160</td>\n      <td>0.0000</td>\n    </tr>\n    <tr>\n      <th>33</th>\n      <td>22</td>\n      <td>TCTN3</td>\n      <td>5</td>\n      <td>0.0499</td>\n      <td>0.0068</td>\n      <td>0.2780</td>\n      <td>0.0100</td>\n    </tr>\n    <tr>\n      <th>4</th>\n      <td>23</td>\n      <td>PIK3R2</td>\n      <td>5</td>\n      <td>0.0612</td>\n      <td>0.0008</td>\n      <td>0.2313</td>\n      <td>0.0122</td>\n    </tr>\n    <tr>\n      <th>23</th>\n      <td>24</td>\n      <td>IFT52</td>\n      <td>4</td>\n      <td>0.0000</td>\n      <td>0.0032</td>\n      <td>0.2153</td>\n      <td>0.0000</td>\n    </tr>\n    <tr>\n      <th>35</th>\n      <td>25</td>\n      <td>LBR</td>\n      <td>4</td>\n      <td>0.0640</td>\n      <td>0.0024</td>\n      <td>0.2288</td>\n      <td>0.0160</td>\n    </tr>\n    <tr>\n      <th>42</th>\n      <td>26</td>\n      <td>FGFR1</td>\n      <td>4</td>\n      <td>0.0190</td>\n      <td>0.0005</td>\n      <td>0.2074</td>\n      <td>0.0048</td>\n    </tr>\n    <tr>\n      <th>43</th>\n      <td>27</td>\n      <td>PTEN</td>\n      <td>4</td>\n      <td>0.0624</td>\n      <td>0.0007</td>\n      <td>0.2296</td>\n      <td>0.0156</td>\n    </tr>\n    <tr>\n      <th>30</th>\n      <td>28</td>\n      <td>KIF7</td>\n      <td>4</td>\n      <td>0.0702</td>\n      <td>0.0578</td>\n      <td>0.3100</td>\n      <td>0.0175</td>\n    </tr>\n    <tr>\n      <th>7</th>\n      <td>29</td>\n      <td>CEP164</td>\n      <td>4</td>\n      <td>0.2614</td>\n      <td>0.0651</td>\n      <td>0.3425</td>\n      <td>0.0653</td>\n    </tr>\n    <tr>\n      <th>0</th>\n      <td>30</td>\n      <td>FGFR2</td>\n      <td>4</td>\n      <td>0.0190</td>\n      <td>0.0005</td>\n      <td>0.2074</td>\n      <td>0.0048</td>\n    </tr>\n    <tr>\n      <th>20</th>\n      <td>31</td>\n      <td>FGFR3</td>\n      <td>4</td>\n      <td>0.0801</td>\n      <td>0.0019</td>\n      <td>0.2500</td>\n      <td>0.0200</td>\n    </tr>\n    <tr>\n      <th>55</th>\n      <td>32</td>\n      <td>USP9X</td>\n      <td>4</td>\n      <td>0.1991</td>\n      <td>0.0042</td>\n      <td>0.2844</td>\n      <td>0.0498</td>\n    </tr>\n    <tr>\n      <th>53</th>\n      <td>33</td>\n      <td>TRAF3IP1</td>\n      <td>4</td>\n      <td>0.0000</td>\n      <td>0.0032</td>\n      <td>0.2153</td>\n      <td>0.0000</td>\n    </tr>\n    <tr>\n      <th>31</th>\n      <td>34</td>\n      <td>CSPP1</td>\n      <td>4</td>\n      <td>0.0161</td>\n      <td>0.0201</td>\n      <td>0.3131</td>\n      <td>0.0040</td>\n    </tr>\n    <tr>\n      <th>44</th>\n      <td>35</td>\n      <td>IFT43</td>\n      <td>3</td>\n      <td>0.0635</td>\n      <td>0.0513</td>\n      <td>0.2271</td>\n      <td>0.0212</td>\n    </tr>\n    <tr>\n      <th>2</th>\n      <td>36</td>\n      <td>NEK1</td>\n      <td>3</td>\n      <td>0.0342</td>\n      <td>0.0059</td>\n      <td>0.2661</td>\n      <td>0.0114</td>\n    </tr>\n    <tr>\n      <th>29</th>\n      <td>37</td>\n      <td>RPGRIP1L</td>\n      <td>3</td>\n      <td>0.0151</td>\n      <td>0.0148</td>\n      <td>0.2925</td>\n      <td>0.0050</td>\n    </tr>\n    <tr>\n      <th>59</th>\n      <td>38</td>\n      <td>GLI2</td>\n      <td>3</td>\n      <td>0.0146</td>\n      <td>0.0207</td>\n      <td>0.2911</td>\n      <td>0.0049</td>\n    </tr>\n    <tr>\n      <th>5</th>\n      <td>39</td>\n      <td>PIK3CA</td>\n      <td>2</td>\n      <td>0.0011</td>\n      <td>0.0001</td>\n      <td>0.1896</td>\n      <td>0.0005</td>\n    </tr>\n    <tr>\n      <th>57</th>\n      <td>40</td>\n      <td>CCND2</td>\n      <td>2</td>\n      <td>0.0005</td>\n      <td>0.0001</td>\n      <td>0.1884</td>\n      <td>0.0003</td>\n    </tr>\n    <tr>\n      <th>61</th>\n      <td>41</td>\n      <td>GLI3</td>\n      <td>2</td>\n      <td>0.0000</td>\n      <td>0.0109</td>\n      <td>0.2541</td>\n      <td>0.0000</td>\n    </tr>\n    <tr>\n      <th>25</th>\n      <td>42</td>\n      <td>AHI1</td>\n      <td>2</td>\n      <td>0.0000</td>\n      <td>0.0145</td>\n      <td>0.3100</td>\n      <td>0.0000</td>\n    </tr>\n    <tr>\n      <th>1</th>\n      <td>43</td>\n      <td>FGF10</td>\n      <td>2</td>\n      <td>0.0000</td>\n      <td>0.0001</td>\n      <td>0.1727</td>\n      <td>0.0000</td>\n    </tr>\n    <tr>\n      <th>46</th>\n      <td>44</td>\n      <td>BBS12</td>\n      <td>2</td>\n      <td>0.0323</td>\n      <td>0.0521</td>\n      <td>0.2357</td>\n      <td>0.0161</td>\n    </tr>\n    <tr>\n      <th>45</th>\n      <td>45</td>\n      <td>TTC21B</td>\n      <td>2</td>\n      <td>0.0000</td>\n      <td>0.0083</td>\n      <td>0.1862</td>\n      <td>0.0000</td>\n    </tr>\n    <tr>\n      <th>34</th>\n      <td>46</td>\n      <td>EBP</td>\n      <td>2</td>\n      <td>0.0000</td>\n      <td>0.0023</td>\n      <td>0.2255</td>\n      <td>0.0000</td>\n    </tr>\n    <tr>\n      <th>37</th>\n      <td>47</td>\n      <td>ALMS1</td>\n      <td>2</td>\n      <td>0.0158</td>\n      <td>0.0542</td>\n      <td>0.2743</td>\n      <td>0.0079</td>\n    </tr>\n    <tr>\n      <th>54</th>\n      <td>48</td>\n      <td>ICK</td>\n      <td>2</td>\n      <td>0.0000</td>\n      <td>0.0022</td>\n      <td>0.2138</td>\n      <td>0.0000</td>\n    </tr>\n    <tr>\n      <th>48</th>\n      <td>49</td>\n      <td>IFT140</td>\n      <td>2</td>\n      <td>0.0000</td>\n      <td>0.0083</td>\n      <td>0.1862</td>\n      <td>0.0000</td>\n    </tr>\n    <tr>\n      <th>6</th>\n      <td>50</td>\n      <td>NPHP3</td>\n      <td>1</td>\n      <td>0.0000</td>\n      <td>0.0091</td>\n      <td>0.2562</td>\n      <td>0.0000</td>\n    </tr>\n  </tbody>\n</table>\n</div>"
     },
     "metadata": {},
     "output_type": "display_data"
    }
   ],
   "source": [
    "column_names = [\"Gene\", \"Degree\", \"Betweenness Centrality\", \"Eigenvector Centrality\", \"Closeness Centrality\", \"Betweenness Degree Ratio\"]\n",
    "\n",
    "network_summary_df = pd.DataFrame(rows, columns=column_names)\n",
    "network_summary_df.sort_values(\"Degree\", ascending=False, inplace=True)\n",
    "network_summary_df[\"Rank\"] = range(1, len(network_summary_df) + 1)\n",
    "\n",
    "# round to the 4th decimal to make the table fit the page width in the report\n",
    "network_summary_df[network_summary_df.select_dtypes(\"float64\").columns] = network_summary_df.select_dtypes('float64').round(4)\n",
    "\n",
    "# rearrange columns to put rank first as demanded by the instructions\n",
    "columns = network_summary_df.columns.tolist()\n",
    "network_summary_df = network_summary_df[[columns[-1]] + columns[:-1]]\n",
    "\n",
    "network_summary_df.to_csv(\"network_metrics.csv\", index=None)\n",
    "display(network_summary_df.head(50))"
   ],
   "metadata": {
    "collapsed": false,
    "ExecuteTime": {
     "end_time": "2024-01-12T09:10:57.762144536Z",
     "start_time": "2024-01-12T09:10:57.706759960Z"
    }
   },
   "id": "74fec26bd1f62b7e"
  },
  {
   "cell_type": "markdown",
   "source": [
    "### Represent node degree and node betweenness in a scatterplot\n",
    "Let's plot the node betweenness as a function of the node degree. From the plot we can perhaps see a small trend where the betweenness centrality increases with the degree of a node. A high betweenness centrality for a node means that many shortest paths in the network are crossing through this node. This, in turn, means that a lot of information flows through the node in question and that it is great influence on interactions between node pairs in the network. From the plot we can see that the higher the degree of a node, the more information flows through it."
   ],
   "metadata": {
    "collapsed": false
   },
   "id": "472e6fcc47e63692"
  },
  {
   "cell_type": "code",
   "execution_count": 31,
   "outputs": [
    {
     "data": {
      "text/plain": "<Figure size 640x480 with 1 Axes>",
      "image/png": "[encoded data removed]"
     },
     "metadata": {},
     "output_type": "display_data"
    }
   ],
   "source": [
    "plt.scatter(network_summary_df[\"Degree\"], network_summary_df[\"Betweenness Centrality\"])\n",
    "plt.xlabel(\"Degree\")\n",
    "plt.ylabel(\"Betweenness Centrality\")\n",
    "plt.title(\"Betweenness Centrality vs Degree\")\n",
    "plt.savefig(\"betweenness_centrality_vs_degree.pdf\", format=\"pdf\")"
   ],
   "metadata": {
    "collapsed": false,
    "ExecuteTime": {
     "end_time": "2024-01-12T09:13:04.413601473Z",
     "start_time": "2024-01-12T09:13:04.216980598Z"
    }
   },
   "id": "ee654b4a6781eb45"
  }
 ],
 "metadata": {
  "kernelspec": {
   "display_name": "Python 3",
   "language": "python",
   "name": "python3"
  },
  "language_info": {
   "codemirror_mode": {
    "name": "ipython",
    "version": 2
   },
   "file_extension": ".py",
   "mimetype": "text/x-python",
   "name": "python",
   "nbconvert_exporter": "python",
   "pygments_lexer": "ipython2",
   "version": "2.7.6"
  }
 },
 "nbformat": 4,
 "nbformat_minor": 5
}
