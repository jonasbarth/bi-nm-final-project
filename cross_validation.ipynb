{
 "cells": [
  {
   "cell_type": "markdown",
   "source": [
    "# Cross Validation\n",
    "\n",
    "Perform a 5-fold cross validation: split the disease genes set $S_0$ into 5 subsets. Each time, select one subset as probe set $S_P$ and the remaining four subsets as training set $S_T$. Run the algorithm of your choice using the $S_T$ sets and check the output for genes in the $S_P$ set. Compute the following performance metrics:\n",
    "\n",
    "* Precision (average $\\pm$ SD)\n",
    "* Recall (average $\\pm$ SD)\n",
    "* F1-score (average $\\pm$ SD)\n",
    "\n",
    "Provide the performance measures selecting the top 50 positions and the top X positions where $X = \\{\\frac{n}{10}, \\frac{n}{4} \\frac{n}{2}, n\\}$ with $n$ being the number of known GDAs (i.e., number of disease’s seed genes).\n",
    "\n",
    "This notebook contains code for cross validating the DIAMOnD, *Dia*mond *B*ackground *L*ocal *E*xpansion (DiaBLE), and cytoscape diffusion algorithms. We also added all three algorithms to the `diamond` [fork](https://github.com/jonasbarth/DIAMOnD) that we made. All algorithms can be run with paths to network and seed genes files or with pandas DataFrames containing the network and seed genes respectively. The function returns a pandas DataFrame containing the predicted genes as well as their values. For DIAMOnD and DiaBLE the values are **p-values**, whereas for the cytoscape diffusion these are instead **heat** values.\n",
    "\n",
    "If you wish to see the progress of the algorithm, you can pass `verbose=True` and it will print a `tqdm` progress bar of the cross validation loop."
   ],
   "metadata": {
    "collapsed": false
   },
   "id": "87410ef890fee796"
  },
  {
   "cell_type": "code",
   "execution_count": 1,
   "id": "initial_id",
   "metadata": {
    "collapsed": true,
    "ExecuteTime": {
     "end_time": "2024-01-09T09:09:04.122948337Z",
     "start_time": "2024-01-09T09:09:03.623440654Z"
    }
   },
   "outputs": [],
   "source": [
    "from metrics import cross_validate\n",
    "from diamond import diamond, diable, diffusion\n",
    "import pandas as pd\n",
    "import numpy as np"
   ]
  },
  {
   "cell_type": "markdown",
   "source": [
    "Prepare the network and seed genes files. The network is not the entire human interactome, but only the Largest Connected Component (LCC)."
   ],
   "metadata": {
    "collapsed": false
   },
   "id": "97555ce63ab7ade8"
  },
  {
   "cell_type": "code",
   "execution_count": 2,
   "outputs": [],
   "source": [
    "network_file = \"ppi_lcc.txt\"\n",
    "seed_genes_file = \"seed_genes.txt\"\n",
    "\n",
    "network = pd.read_csv(network_file, header=None, dtype=str)\n",
    "seed_genes = pd.read_csv(seed_genes_file, header=None, dtype=str)"
   ],
   "metadata": {
    "collapsed": false,
    "ExecuteTime": {
     "end_time": "2024-01-09T09:09:05.613399681Z",
     "start_time": "2024-01-09T09:09:05.515716284Z"
    }
   },
   "id": "a617184b112804cb"
  },
  {
   "cell_type": "markdown",
   "source": [
    "Here we calculate the number of genes that we want the algorithm to predict. As written above, this will be $X = \\{\\frac{n}{10}, \\frac{n}{4} \\frac{n}{2}, n\\}$."
   ],
   "metadata": {
    "collapsed": false
   },
   "id": "2348269abfe1e16a"
  },
  {
   "cell_type": "code",
   "execution_count": 4,
   "outputs": [],
   "source": [
    "num_disease_seed_genes = len(seed_genes)\n",
    "num_folds = 5\n",
    "fractions = [10, 4, 2, 1]\n",
    "num_to_predict = np.array([num_disease_seed_genes], dtype=np.int32) // fractions\n",
    "num_to_predict = np.concatenate((num_to_predict, [50]))"
   ],
   "metadata": {
    "collapsed": false,
    "ExecuteTime": {
     "end_time": "2024-01-09T09:09:19.189665744Z",
     "start_time": "2024-01-09T09:09:19.187947462Z"
    }
   },
   "id": "80fc2aec1a45579b"
  },
  {
   "cell_type": "markdown",
   "source": [
    "## DIAMOnD\n"
   ],
   "metadata": {
    "collapsed": false
   },
   "id": "36ee6ff0d2e3c71c"
  },
  {
   "cell_type": "code",
   "execution_count": 13,
   "outputs": [
    {
     "name": "stdout",
     "output_type": "stream",
     "text": [
      "\n",
      " results have been saved to 'first_105_added_nodes_weight_1.txt' \n",
      "\n",
      " results have been saved to 'first_105_added_nodes_weight_1.txt' \n",
      "\n",
      " results have been saved to 'first_105_added_nodes_weight_1.txt' \n",
      "\n",
      " results have been saved to 'first_105_added_nodes_weight_1.txt' \n",
      "\n",
      " results have been saved to 'first_105_added_nodes_weight_1.txt' \n"
     ]
    }
   ],
   "source": [
    "diamond_result = cross_validate(diamond, network_file, seed_genes_file, num_to_predict, num_folds)\n",
    "diamond_result.to_csv(\"metrics/cv_diamond.csv\", index=False)"
   ],
   "metadata": {
    "collapsed": false,
    "ExecuteTime": {
     "end_time": "2024-01-09T10:05:23.495843671Z",
     "start_time": "2024-01-09T10:04:48.198905350Z"
    }
   },
   "id": "ed1bca5d507a12a1"
  },
  {
   "cell_type": "markdown",
   "source": [
    "## DiaBLE"
   ],
   "metadata": {
    "collapsed": false
   },
   "id": "d5c635b78475518d"
  },
  {
   "cell_type": "code",
   "execution_count": 14,
   "outputs": [
    {
     "name": "stderr",
     "output_type": "stream",
     "text": [
      "5it [04:55, 59.16s/it]\n"
     ]
    }
   ],
   "source": [
    "diable_result = cross_validate(diable, network_file, seed_genes_file, num_to_predict, num_folds, verbose=True)\n",
    "diable_result.to_csv(\"metrics/cv_diable.csv\", index=False)"
   ],
   "metadata": {
    "collapsed": false,
    "ExecuteTime": {
     "end_time": "2024-01-09T10:10:19.389195076Z",
     "start_time": "2024-01-09T10:05:23.497016902Z"
    }
   },
   "id": "ab5e09a7991731a2"
  },
  {
   "cell_type": "markdown",
   "source": [
    "## Diffusion\n",
    "Let's run the diffusion algorithm for time values $\\{0.002, 0.005, 0.01\\}$."
   ],
   "metadata": {
    "collapsed": false
   },
   "id": "8916ee6ea0566af5"
  },
  {
   "cell_type": "code",
   "execution_count": 11,
   "outputs": [
    {
     "name": "stdout",
     "output_type": "stream",
     "text": [
      "Generating CX\n",
      "Generating CX\n",
      "Generating CX\n",
      "Generating CX\n",
      "Generating CX\n",
      "Generating CX\n",
      "Generating CX\n",
      "Generating CX\n",
      "Generating CX\n",
      "Generating CX\n",
      "Generating CX\n",
      "Generating CX\n",
      "Generating CX\n",
      "Generating CX\n",
      "Generating CX\n"
     ]
    }
   ],
   "source": [
    "times = [0.002, 0.005, 0.01]\n",
    "diffusion_results = []\n",
    "\n",
    "for time in times:\n",
    "    diffusion_result = cross_validate(diffusion, network_file, seed_genes_file, num_to_predict, num_folds, time=time)\n",
    "    diffusion_result[\"time\"] = time\n",
    "    diffusion_results.append(diffusion_result)"
   ],
   "metadata": {
    "collapsed": false,
    "ExecuteTime": {
     "end_time": "2024-01-09T10:03:57.585551299Z",
     "start_time": "2024-01-09T09:45:09.420115617Z"
    }
   },
   "id": "47e8bc54da2d3ae7"
  },
  {
   "cell_type": "code",
   "execution_count": 12,
   "outputs": [],
   "source": [
    "diffusion_result = pd.concat(diffusion_results)\n",
    "diffusion_result.to_csv(\"metrics/cv_diffusion.csv\", index=None)"
   ],
   "metadata": {
    "collapsed": false,
    "ExecuteTime": {
     "end_time": "2024-01-09T10:03:57.626347003Z",
     "start_time": "2024-01-09T10:03:57.625882107Z"
    }
   },
   "id": "b0eb1b6060aafb11"
  }
 ],
 "metadata": {
  "kernelspec": {
   "display_name": "Python 3",
   "language": "python",
   "name": "python3"
  },
  "language_info": {
   "codemirror_mode": {
    "name": "ipython",
    "version": 2
   },
   "file_extension": ".py",
   "mimetype": "text/x-python",
   "name": "python",
   "nbconvert_exporter": "python",
   "pygments_lexer": "ipython2",
   "version": "2.7.6"
  }
 },
 "nbformat": 4,
 "nbformat_minor": 5
}
