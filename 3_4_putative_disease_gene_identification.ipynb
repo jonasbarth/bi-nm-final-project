{
 "cells": [
  {
   "cell_type": "markdown",
   "source": [
    "# 3 Putative Disease Gene Identification\n",
    "In this notebook, we want to pick the best performing algorithm and use it to find new putative disease genes as well as performing an enrichment analysis.\n",
    "\n",
    "Make sure you do the following setup:\n",
    "\n",
    "* install all requirements in `requirements.txt`.\n",
    "* have a `ppi.txt` file in the root directory.\n",
    "* have a `seed_genes.txt` file in the root directory."
   ],
   "metadata": {
    "collapsed": false
   },
   "id": "45e78993d85b9e96"
  },
  {
   "cell_type": "markdown",
   "source": [
    "From the [cross_validation](2_cross_validation.ipynb), we know that `diffusion` is the best performing algorithm, hence we will use it here."
   ],
   "metadata": {
    "collapsed": false
   },
   "id": "88c3860f099af7fc"
  },
  {
   "cell_type": "code",
   "execution_count": 1,
   "outputs": [],
   "source": [
    "from diamond import diffusion\n",
    "import pandas as pd\n",
    "import pyperclip"
   ],
   "metadata": {
    "collapsed": false,
    "ExecuteTime": {
     "end_time": "2024-01-15T16:24:17.647781963Z",
     "start_time": "2024-01-15T16:24:17.220887354Z"
    }
   },
   "id": "5798cf0f8660d56"
  },
  {
   "cell_type": "markdown",
   "source": [
    "## 3.1 Putative Disease Genes\n",
    "Using all known GDAs as seed genes, we will obtain a list of 100 putative disease genes."
   ],
   "metadata": {
    "collapsed": false
   },
   "id": "4044e9a1953fe3f8"
  },
  {
   "cell_type": "code",
   "execution_count": 2,
   "outputs": [
    {
     "name": "stdout",
     "output_type": "stream",
     "text": [
      "Generating CX\n"
     ]
    }
   ],
   "source": [
    "num_disease_genes_to_find = 100\n",
    "new_genes = diffusion(\"ppi_lcc.txt\", \"seed_genes.txt\", num_disease_genes_to_find, time=0.01)\n",
    "entrez_ids = new_genes.gene"
   ],
   "metadata": {
    "collapsed": false,
    "ExecuteTime": {
     "end_time": "2024-01-15T16:25:33.238958709Z",
     "start_time": "2024-01-15T16:24:17.649597899Z"
    }
   },
   "id": "3474d6ae916dca91"
  },
  {
   "cell_type": "markdown",
   "source": [
    "Save the Entrez IDs of the predicted genes."
   ],
   "metadata": {
    "collapsed": false
   },
   "id": "7c7c1c8c8b4b1e81"
  },
  {
   "cell_type": "code",
   "outputs": [],
   "source": [
    "entrez_ids.to_csv(\"data/putative_disease_genes_entrez.txt\", header=False, index=False)"
   ],
   "metadata": {
    "collapsed": false,
    "ExecuteTime": {
     "end_time": "2024-01-15T16:30:52.673168046Z",
     "start_time": "2024-01-15T16:30:52.631754319Z"
    }
   },
   "id": "a16d9becbd3be478",
   "execution_count": 11
  },
  {
   "cell_type": "markdown",
   "source": [
    "## 3.2 Enrichment Analysis\n",
    "First, let's get the official interactor symbols of our gene IDs, since that is what Enrichr needs. For the conversion, we can use the `GeneDB` class from our own `genes` [package](genes)."
   ],
   "metadata": {
    "collapsed": false
   },
   "id": "f30821acb003ee50"
  },
  {
   "cell_type": "code",
   "execution_count": 3,
   "outputs": [],
   "source": [
    "from genes import GeneDB\n",
    "\n",
    "gene_db = GeneDB(\"data/biogrid.txt\")"
   ],
   "metadata": {
    "collapsed": false,
    "ExecuteTime": {
     "end_time": "2024-01-15T16:25:40.809816685Z",
     "start_time": "2024-01-15T16:25:33.278959892Z"
    }
   },
   "id": "6c439b8f989a0f1e"
  },
  {
   "cell_type": "markdown",
   "source": [
    "### Predicted Disease Genes"
   ],
   "metadata": {
    "collapsed": false
   },
   "id": "ebbbeaec957d84eb"
  },
  {
   "cell_type": "code",
   "execution_count": 4,
   "outputs": [],
   "source": [
    "official_symbols = gene_db.to_official_symbol_interactor(entrez_ids)"
   ],
   "metadata": {
    "collapsed": false,
    "ExecuteTime": {
     "end_time": "2024-01-15T16:25:40.811727049Z",
     "start_time": "2024-01-15T16:25:40.810433338Z"
    }
   },
   "id": "5792ee31ac2e3bb5"
  },
  {
   "cell_type": "markdown",
   "source": [
    "Save the official symbols of the predicted genes."
   ],
   "metadata": {
    "collapsed": false
   },
   "id": "42815888a911024b"
  },
  {
   "cell_type": "code",
   "outputs": [],
   "source": [
    "pd.DataFrame(official_symbols).to_csv(\"data/putative_disease_genes_official_symbols.txt\", header=False, index=False)"
   ],
   "metadata": {
    "collapsed": false,
    "ExecuteTime": {
     "end_time": "2024-01-15T16:30:43.172007175Z",
     "start_time": "2024-01-15T16:30:43.131156189Z"
    }
   },
   "id": "e4404b6b44af171",
   "execution_count": 10
  },
  {
   "cell_type": "markdown",
   "source": [
    "Then let's copy the putative disease genes to our clipboard using `pyperclip`. That way we can just paste them into the [Enrichr](https://maayanlab.cloud/Enrichr/enrich) search form."
   ],
   "metadata": {
    "collapsed": false
   },
   "id": "39899cd07bdb28a"
  },
  {
   "cell_type": "code",
   "execution_count": 5,
   "outputs": [],
   "source": [
    "pyperclip.copy(\"\\n\".join(official_symbols))"
   ],
   "metadata": {
    "collapsed": false,
    "ExecuteTime": {
     "end_time": "2024-01-15T16:25:40.821402181Z",
     "start_time": "2024-01-15T16:25:40.813024256Z"
    }
   },
   "id": "e6b218f439d5733"
  },
  {
   "cell_type": "markdown",
   "source": [
    "### Known Disease Genes\n",
    "Now let's do the same for the known Polydactyly disease genes. After running this cell, paste the output into the [Enrichr](https://maayanlab.cloud/Enrichr/enrich) search form."
   ],
   "metadata": {
    "collapsed": false
   },
   "id": "518a94c415d4da3c"
  },
  {
   "cell_type": "code",
   "execution_count": 6,
   "outputs": [],
   "source": [
    "disease_genes = pd.read_csv(\"seed_genes.txt\", dtype=str)\n",
    "known_genes_official_symbols = gene_db.to_official_symbol_interactor(disease_genes.iloc[:, 0])\n",
    "\n",
    "pyperclip.copy(\"\\n\".join(known_genes_official_symbols))"
   ],
   "metadata": {
    "collapsed": false,
    "ExecuteTime": {
     "end_time": "2024-01-15T16:25:40.828922999Z",
     "start_time": "2024-01-15T16:25:40.822868077Z"
    }
   },
   "id": "e6e3a23681b21e2a"
  },
  {
   "cell_type": "markdown",
   "source": [
    "# 4.1 Drugs\n",
    "We should copy the first 20 putative genes, but these don't give us any results so we copy the first 100 putative genes instead, and paste them on [dgidb](https://old.dgidb.org/search_interactions). "
   ],
   "metadata": {
    "collapsed": false
   },
   "id": "257aac273421392e"
  },
  {
   "cell_type": "code",
   "execution_count": 7,
   "outputs": [],
   "source": [
    "pyperclip.copy(\"\\n\".join(official_symbols))"
   ],
   "metadata": {
    "collapsed": false,
    "ExecuteTime": {
     "end_time": "2024-01-15T16:25:40.871185408Z",
     "start_time": "2024-01-15T16:25:40.829894813Z"
    }
   },
   "id": "57267f306f98d243"
  }
 ],
 "metadata": {
  "kernelspec": {
   "display_name": "Python 3",
   "language": "python",
   "name": "python3"
  },
  "language_info": {
   "codemirror_mode": {
    "name": "ipython",
    "version": 2
   },
   "file_extension": ".py",
   "mimetype": "text/x-python",
   "name": "python",
   "nbconvert_exporter": "python",
   "pygments_lexer": "ipython2",
   "version": "2.7.6"
  }
 },
 "nbformat": 4,
 "nbformat_minor": 5
}
